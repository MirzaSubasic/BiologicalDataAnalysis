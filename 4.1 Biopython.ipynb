{
 "cells": [
  {
   "cell_type": "code",
   "execution_count": null,
   "metadata": {},
   "outputs": [],
   "source": [
    "import os\n",
    "\n",
    "DIR = r'c://downloads'"
   ]
  },
  {
   "cell_type": "markdown",
   "metadata": {},
   "source": [
    "# Parsing FASTA via SeqIO"
   ]
  },
  {
   "cell_type": "code",
   "execution_count": null,
   "metadata": {},
   "outputs": [],
   "source": [
    "from Bio import SeqIO\n",
    "\n",
    "f = open(os.path.join(DIR, '4 example.fasta'), 'r')\n",
    "\n",
    "# SeqIO.parse returns an iterator of records\n",
    "# it is a \"lazy\" iterator - loads into memory only the current \"record\" (big file friendly)\n",
    "for record in SeqIO.parse(f, 'fasta'):\n",
    "    print('ID: ' + record.id)\n",
    "    print('Description: ' + record.description)\n",
    "    print('Sequence:')\n",
    "    print(record.seq)\n",
    "    print('*' * 20)\n",
    "    last_seq = record.seq\n",
    "\n",
    "f.close()"
   ]
  },
  {
   "cell_type": "code",
   "execution_count": null,
   "metadata": {},
   "outputs": [],
   "source": [
    "# Not sure how to handle an unkown object? Use <object>. + <TAB> to see what it can offer.\n",
    "record."
   ]
  },
  {
   "cell_type": "code",
   "execution_count": null,
   "metadata": {},
   "outputs": [],
   "source": [
    "print(type(last_seq), len(last_seq)) # biopython has its own objects\n",
    "print(str(last_seq)) # you can turn them into standard ones, if you prefer"
   ]
  },
  {
   "cell_type": "code",
   "execution_count": null,
   "metadata": {},
   "outputs": [],
   "source": [
    "records = SeqIO.parse(os.path.join(DIR, '4 example.fasta'), 'fasta') # Can give SeqIO the file path as a string\n",
    "records_dict = SeqIO.to_dict(records)\n",
    "print(records_dict)\n",
    "print('*' * 20)\n",
    "print(records_dict['MCHU'])\n",
    "# turning it to dictionary loads all of the file into memory, since it is no longer a generator (FYI)"
   ]
  },
  {
   "cell_type": "markdown",
   "metadata": {},
   "source": [
    "##### Exercise"
   ]
  },
  {
   "cell_type": "code",
   "execution_count": null,
   "metadata": {},
   "outputs": [],
   "source": [
    "# Use SeqIO parser to print the every id in the fasta file, together with the GC percentage\n"
   ]
  },
  {
   "cell_type": "markdown",
   "metadata": {},
   "source": [
    "# Seq and SeqRecord objects"
   ]
  },
  {
   "cell_type": "code",
   "execution_count": null,
   "metadata": {},
   "outputs": [],
   "source": [
    "# We can make our own seq record file\n",
    "from Bio.Seq import Seq\n",
    "\n",
    "seq = Seq('ATGGAGTGTTAGCAT')\n",
    "\n",
    "print(seq, len(seq))"
   ]
  },
  {
   "cell_type": "code",
   "execution_count": null,
   "metadata": {},
   "outputs": [],
   "source": [
    "# Seq objects act similar to strings\n",
    "\n",
    "print(seq[2:10:3])\n",
    "print(seq * 3)\n",
    "\n",
    "seq2 = Seq('TTACCA')\n",
    "print(seq + seq2)\n",
    "\n",
    "print(seq.count('G'))\n",
    "print('CAT' in seq)\n",
    "print(seq2 == 'TTACCA')\n",
    "\n",
    "print(str(seq))"
   ]
  },
  {
   "cell_type": "code",
   "execution_count": null,
   "metadata": {},
   "outputs": [],
   "source": [
    "# Although there are some differences, lacking certain functions...\n",
    "seq.join(['AT', 'TA'])"
   ]
  },
  {
   "cell_type": "code",
   "execution_count": null,
   "metadata": {},
   "outputs": [],
   "source": [
    "# But also having some additional functions...\n",
    "print(seq.transcribe())\n",
    "print(seq.transcribe().back_transcribe())"
   ]
  },
  {
   "cell_type": "code",
   "execution_count": null,
   "metadata": {
    "scrolled": true
   },
   "outputs": [],
   "source": [
    "print(seq.translate())\n",
    "print(seq.transcribe().translate())"
   ]
  },
  {
   "cell_type": "code",
   "execution_count": null,
   "metadata": {},
   "outputs": [],
   "source": [
    "print(seq.complement())\n",
    "print(seq.reverse_complement())\n",
    "print(seq.reverse_complement().translate())\n",
    "print(seq.translate().reverse_complement())"
   ]
  },
  {
   "cell_type": "code",
   "execution_count": null,
   "metadata": {},
   "outputs": [],
   "source": [
    "# SeqRecord object contains/requires some additional info (compared to seq object)\n",
    "from Bio.SeqRecord import SeqRecord\n",
    "\n",
    "description1 = 'A random sequence'\n",
    "description2 = 'Another random sequence'\n",
    "\n",
    "records = [\n",
    "    SeqRecord(Seq('ATGGAGTGTTAGCAT'), id = 'random-seq-1', description = description1),\n",
    "    SeqRecord(Seq('ATGAATAGCCGTATC'), id = 'random-seq-2', description = description2),\n",
    "]\n",
    "\n",
    "f = open(os.path.join(DIR, 'output.fasta'), 'w')\n",
    "SeqIO.write(records, f, 'fasta')\n",
    "f.close()"
   ]
  },
  {
   "cell_type": "markdown",
   "metadata": {},
   "source": [
    "##### Exercise"
   ]
  },
  {
   "cell_type": "code",
   "execution_count": null,
   "metadata": {},
   "outputs": [],
   "source": [
    "# open the output.fasta file with SeqIO parser\n",
    "# and compare newly read descriptions to description 1 and 2\n",
    "# what is going on here?"
   ]
  },
  {
   "cell_type": "markdown",
   "metadata": {},
   "source": [
    "# Parsing Gene Bank files"
   ]
  },
  {
   "cell_type": "code",
   "execution_count": null,
   "metadata": {},
   "outputs": [],
   "source": [
    "# Download GenBank full format from NCBI RefSeq at: \n",
    "# https://www.ncbi.nlm.nih.gov/nuccore/NM_007294.3?report=gbwithparts&log$=seqview\n",
    "f = open(os.path.join(DIR, 'sequence.gb'), 'r')\n",
    "record, = SeqIO.parse(f, 'genbank')\n",
    "# using \",\" we specify that we want only the element from the generator, not the generator itself\n",
    "# we could use multiple variables if we have multiple elements\n",
    "f.close()"
   ]
  },
  {
   "cell_type": "code",
   "execution_count": null,
   "metadata": {},
   "outputs": [],
   "source": [
    "# we still get the SeqRecord object, but with the additional info\n",
    "print(type(record))\n",
    "print('*' * 20)\n",
    "\n",
    "print(record.id)\n",
    "print(record.description)\n",
    "print('*' * 20)\n",
    "\n",
    "print(type(record.seq))\n",
    "print(record.seq[:100])"
   ]
  },
  {
   "cell_type": "code",
   "execution_count": null,
   "metadata": {},
   "outputs": [],
   "source": [
    "# we can also access all annotations...\n",
    "print(type(record.annotations))\n",
    "print(record.annotations.keys())\n",
    "print(record.annotations['taxonomy'])"
   ]
  },
  {
   "cell_type": "code",
   "execution_count": null,
   "metadata": {},
   "outputs": [],
   "source": [
    "# and all features...\n",
    "for feature in record.features[:3]:\n",
    "    print(feature)"
   ]
  },
  {
   "cell_type": "code",
   "execution_count": null,
   "metadata": {},
   "outputs": [],
   "source": [
    "# as well as extract individual features\n",
    "exons = []\n",
    "\n",
    "for feature in record.features:\n",
    "    if feature.type == 'exon':\n",
    "        exons.append((int(feature.location.start), int(feature.location.end)))\n",
    "    \n",
    "print('%d exons:' % len(exons))\n",
    "print(exons)"
   ]
  },
  {
   "cell_type": "code",
   "execution_count": null,
   "metadata": {},
   "outputs": [],
   "source": [
    "# Converting to FASTA\n",
    "f = open(os.path.join(DIR, 'output2.fasta'), 'w')\n",
    "SeqIO.write([record], f, 'fasta')\n",
    "f.close()"
   ]
  },
  {
   "cell_type": "markdown",
   "metadata": {},
   "source": [
    "There are many other formats supported by __SeqIO.parse__ (http://biopython.org/wiki/SeqIO), including:\n",
    "- FASTQ \n",
    "- UniProt XML\n",
    "- PDB (sequence only; for structure use Bio.PDB)"
   ]
  },
  {
   "cell_type": "markdown",
   "metadata": {},
   "source": [
    "##### Exercise"
   ]
  },
  {
   "cell_type": "code",
   "execution_count": null,
   "metadata": {},
   "outputs": [],
   "source": [
    "# go through the sequence.gb file once more\n",
    "# compare the length of the \"gene\" feature.type to all of the \"exon\" feature.type(s) combined\n",
    "# A reminder: We've talked about human genes being mostly \"empty\" DNA,\n",
    "# with exons making up only a small percentage of the length..."
   ]
  },
  {
   "cell_type": "markdown",
   "metadata": {},
   "source": [
    "# CodonTable & GC"
   ]
  },
  {
   "cell_type": "code",
   "execution_count": null,
   "metadata": {},
   "outputs": [],
   "source": [
    "from Bio.Data.CodonTable import standard_dna_table\n",
    "print(standard_dna_table)"
   ]
  },
  {
   "cell_type": "code",
   "execution_count": null,
   "metadata": {},
   "outputs": [],
   "source": [
    "# we can also get it in a \"more friendly\" format\n",
    "print(standard_dna_table.forward_table)\n",
    "print('*' * 20)\n",
    "print(standard_dna_table.forward_table['TTG'])\n",
    "print('*' * 20)\n",
    "# we have to explicitly ask for stop codons\n",
    "print(standard_dna_table.stop_codons)"
   ]
  },
  {
   "cell_type": "code",
   "execution_count": null,
   "metadata": {},
   "outputs": [],
   "source": [
    "# There are a bunch of other functions as well, e.g. GC content from SeqUtils\n",
    "# (as well as many other functions in SeqUtils)\n",
    "from Bio.SeqUtils import GC\n",
    "print(GC('ACTGN'))"
   ]
  },
  {
   "cell_type": "markdown",
   "metadata": {},
   "source": [
    "# StringIO"
   ]
  },
  {
   "cell_type": "code",
   "execution_count": null,
   "metadata": {},
   "outputs": [],
   "source": [
    "fasta_string = '''\n",
    ">seq1\n",
    "MAGTQEDVW\n",
    ">seq2\n",
    "MCPIYTRKRAVCSFR\n",
    "'''\n",
    "\n",
    "# Won't work, SeqIO thinks it's a file path...\n",
    "print(list(SeqIO.parse(fasta_string, 'fasta')))"
   ]
  },
  {
   "cell_type": "code",
   "execution_count": null,
   "metadata": {},
   "outputs": [],
   "source": [
    "from io import StringIO # behaves like a file in that is in RAM, not on the disk\n",
    "\n",
    "f = StringIO(fasta_string)\n",
    "print(f)\n",
    "print(f.read())"
   ]
  },
  {
   "cell_type": "code",
   "execution_count": null,
   "metadata": {},
   "outputs": [],
   "source": [
    "print(list(SeqIO.parse(StringIO(fasta_string), 'fasta')))"
   ]
  },
  {
   "cell_type": "code",
   "execution_count": null,
   "metadata": {},
   "outputs": [],
   "source": [
    "# we can even write to it\n",
    "f = StringIO()\n",
    "f.write('text')\n",
    "f.seek(0)\n",
    "print(f.read())"
   ]
  },
  {
   "cell_type": "code",
   "execution_count": null,
   "metadata": {},
   "outputs": [],
   "source": [
    "# we can combine StringIO with other modules we've already learned\n",
    "\n",
    "import csv\n",
    "\n",
    "numbers = [\n",
    "    [1, 'One', 'N/A'],\n",
    "    [2, 'Two', True],\n",
    "    [3, 'Three', True],\n",
    "    [4, 'Four', False],\n",
    "    [5, 'Five', True],\n",
    "]\n",
    "\n",
    "f = StringIO()\n",
    "csv_writer = csv.writer(f)\n",
    "csv_writer.writerows(numbers)\n",
    "\n",
    "f.seek(0)\n",
    "print(f.read())"
   ]
  }
 ],
 "metadata": {
  "kernelspec": {
   "display_name": "Python 3",
   "language": "python",
   "name": "python3"
  },
  "language_info": {
   "codemirror_mode": {
    "name": "ipython",
    "version": 3
   },
   "file_extension": ".py",
   "mimetype": "text/x-python",
   "name": "python",
   "nbconvert_exporter": "python",
   "pygments_lexer": "ipython3",
   "version": "3.7.10"
  }
 },
 "nbformat": 4,
 "nbformat_minor": 1
}
