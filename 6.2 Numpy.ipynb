{
 "cells": [
  {
   "cell_type": "code",
   "execution_count": null,
   "metadata": {},
   "outputs": [],
   "source": [
    "import os\n",
    "\n",
    "DIR = r'c://downloads'"
   ]
  },
  {
   "cell_type": "code",
   "execution_count": null,
   "metadata": {},
   "outputs": [],
   "source": [
    "import numpy as np"
   ]
  },
  {
   "cell_type": "markdown",
   "metadata": {},
   "source": [
    "# Arrays"
   ]
  },
  {
   "cell_type": "code",
   "execution_count": null,
   "metadata": {},
   "outputs": [],
   "source": [
    "a_list = list(range(20))\n",
    "print(a_list)\n",
    "print(type(a_list))\n",
    "\n",
    "an_array = np.array(a_list) # not the preferred way to create numpy arrays\n",
    "print(an_array)\n",
    "print(type(an_array))"
   ]
  },
  {
   "cell_type": "code",
   "execution_count": null,
   "metadata": {},
   "outputs": [],
   "source": [
    "print(np.arange(20))\n",
    "print(np.zeros(10))\n",
    "print(np.ones(10))\n",
    "print(np.empty(30)) # actually contains garbage values, but doesn't spend initializing them, so it is marginally faster"
   ]
  },
  {
   "cell_type": "code",
   "execution_count": null,
   "metadata": {},
   "outputs": [],
   "source": [
    "# Arrays can be sliced like lists\n",
    "\n",
    "data = np.arange(20)\n",
    "data[5] = 77\n",
    "print(data)\n",
    "\n",
    "print(data[6])\n",
    "print(data[3:10:2])"
   ]
  },
  {
   "cell_type": "markdown",
   "metadata": {},
   "source": [
    "# dtype"
   ]
  },
  {
   "cell_type": "code",
   "execution_count": null,
   "metadata": {},
   "outputs": [],
   "source": [
    "# arrays have a fixed/single data type\n",
    "\n",
    "print(data.dtype)\n",
    "\n",
    "data[5] = 0.2 # Will be converted to 0\n",
    "print(data)"
   ]
  },
  {
   "cell_type": "code",
   "execution_count": null,
   "metadata": {},
   "outputs": [],
   "source": [
    "# Option 1 (not recommended)\n",
    "data = np.array(range(20), dtype = np.float64) # uses Python's \"slow\" implementation\n",
    "data[5] = 0.2\n",
    "print(data)\n",
    "\n",
    "# Option 2 (less recommended)\n",
    "data = np.arange(20).astype(np.float64) # makes two arrays unnecessarily\n",
    "data[5] = 0.2\n",
    "print(data)\n",
    "\n",
    "# Option 3 (recommended)\n",
    "data = np.arange(20, dtype = np.float64)\n",
    "data[5] = 0.2\n",
    "print(data)"
   ]
  },
  {
   "cell_type": "code",
   "execution_count": null,
   "metadata": {},
   "outputs": [],
   "source": [
    "# We can specify a general type and leave it to NumPy to worry about the specifics.\n",
    "print(np.arange(20, dtype = float).dtype)"
   ]
  },
  {
   "cell_type": "code",
   "execution_count": null,
   "metadata": {},
   "outputs": [],
   "source": [
    "# float64 is the standard type\n",
    "print(np.zeros(10).dtype)"
   ]
  },
  {
   "cell_type": "markdown",
   "metadata": {},
   "source": [
    "# Shapes"
   ]
  },
  {
   "cell_type": "code",
   "execution_count": null,
   "metadata": {},
   "outputs": [],
   "source": [
    "z = np.zeros((5, 3)) # creates a matrix\n",
    "print(z)\n",
    "print(z.shape)"
   ]
  },
  {
   "cell_type": "code",
   "execution_count": null,
   "metadata": {},
   "outputs": [],
   "source": [
    "print(len(z)) # only gives the length of the first dimension\n",
    "print(z.size)"
   ]
  },
  {
   "cell_type": "code",
   "execution_count": null,
   "metadata": {},
   "outputs": [],
   "source": [
    "print(z.reshape(3, 5))\n",
    "print(z.reshape(15)) # into a 1-D array"
   ]
  },
  {
   "cell_type": "code",
   "execution_count": null,
   "metadata": {},
   "outputs": [],
   "source": [
    "print(z.reshape(4, 5)) # reshaping has to be of the same size"
   ]
  },
  {
   "cell_type": "code",
   "execution_count": null,
   "metadata": {},
   "outputs": [],
   "source": [
    "print(np.arange(2 * 3 * 4 * 5).reshape(2, 3, 4, 5)) # supports any number of dimensions..."
   ]
  },
  {
   "cell_type": "code",
   "execution_count": null,
   "metadata": {
    "scrolled": true
   },
   "outputs": [],
   "source": [
    "# slicing multi dimensional arrays\n",
    "\n",
    "data = np.arange(15).reshape(5, 3)\n",
    "print(data)\n",
    "print('*' * 20)\n",
    "\n",
    "print(data[4, 2]) # select a specific \"cell\"\n",
    "print('*' * 20)\n",
    "\n",
    "print(data[4, :]) # select the whole row\n",
    "print(data[:, 2]) # select the whole column\n",
    "print('*' * 20)\n",
    "\n",
    "print(data[1:3,::-1]) # there are a bunch of possibilities..."
   ]
  },
  {
   "cell_type": "code",
   "execution_count": null,
   "metadata": {},
   "outputs": [],
   "source": [
    "data = np.zeros((8, 3))\n",
    "data[5, :] = np.arange(5, 8) # replace the row with different values\n",
    "print(data)\n",
    "print('*' * 20)\n",
    "\n",
    "data[0:3, :] = np.arange(3 * 3).reshape(3, 3) # works in multiple dimensions\n",
    "print(data)"
   ]
  },
  {
   "cell_type": "markdown",
   "metadata": {},
   "source": [
    "# Vectorized arithmetics"
   ]
  },
  {
   "cell_type": "code",
   "execution_count": null,
   "metadata": {},
   "outputs": [],
   "source": [
    "a = np.array([1, 6, 9])\n",
    "b = np.array([2, 1, 0.5])\n",
    "\n",
    "print('%s + %s = %s' % (str(a), str(b), str(a + b)))\n",
    "print('%s * %s = %s' % (str(a), str(b), str(a * b)))"
   ]
  },
  {
   "cell_type": "code",
   "execution_count": null,
   "metadata": {},
   "outputs": [],
   "source": [
    "# Multiplication is element-wise (unlike in  Matlab)\n",
    "A = np.arange(3 * 3).reshape(3, 3)\n",
    "B = np.arange(3 * 3)[::-1].reshape(3, 3)\n",
    "print('A:')\n",
    "print(A)\n",
    "print('B:')\n",
    "print(B)\n",
    "print('A * B:')\n",
    "print(A * B)"
   ]
  },
  {
   "cell_type": "code",
   "execution_count": null,
   "metadata": {},
   "outputs": [],
   "source": [
    "# But yes, you can also multiply matrices in linear-algebra style\n",
    "A = np.arange(2 * 3).reshape(2, 3)\n",
    "B = np.arange(3 * 2).reshape(3, 2)\n",
    "print(np.dot(A, B))"
   ]
  },
  {
   "cell_type": "code",
   "execution_count": null,
   "metadata": {},
   "outputs": [],
   "source": [
    "# Broadcasting - performing arithmetic on different size arrays\n",
    "# (as long as the larger is dividisble by the smaller)\n",
    "\n",
    "print(3.14 * np.ones(5))\n",
    "print(3.14 + np.ones(5))\n",
    "print('*' * 20)\n",
    "\n",
    "A = np.arange(3 * 3).reshape(3, 3)\n",
    "b = np.arange(3)\n",
    "print('A:')\n",
    "print(A)\n",
    "print('b: %s' % str(b))\n",
    "print('A + b:')\n",
    "print(A + b)"
   ]
  },
  {
   "cell_type": "markdown",
   "metadata": {},
   "source": [
    "# Vectorized operations are much faster!"
   ]
  },
  {
   "cell_type": "code",
   "execution_count": null,
   "metadata": {},
   "outputs": [],
   "source": [
    "a = np.arange(10 ** 4)\n",
    "b = np.arange(10 ** 4)[::-1]\n",
    "\n",
    "%timeit [ai + bi for ai, bi in zip(a, b)]\n",
    "%timeit a + b"
   ]
  },
  {
   "cell_type": "markdown",
   "metadata": {},
   "source": [
    "__Conclusion__: Avoid loops when possible!"
   ]
  },
  {
   "cell_type": "markdown",
   "metadata": {},
   "source": [
    "# Arrays are not lists!"
   ]
  },
  {
   "cell_type": "code",
   "execution_count": null,
   "metadata": {},
   "outputs": [],
   "source": [
    "# although arrays are made to have similar behavior to lists, it is not always the case\n",
    "\n",
    "list1, list2 = [1, 2, 3], [4, 5, 6]\n",
    "array1, array2 = np.array(list1), np.array(list2)\n",
    "\n",
    "print(list1 + list2)\n",
    "print(array1 + array2)\n",
    "print('*' * 20)\n",
    "print(list1 * 3)\n",
    "print(array1 * 3)"
   ]
  },
  {
   "cell_type": "code",
   "execution_count": null,
   "metadata": {},
   "outputs": [],
   "source": [
    "# numpy alternatives...\n",
    "\n",
    "print(np.concatenate([array1, array2]))\n",
    "print(np.tile(array1, 3))"
   ]
  },
  {
   "cell_type": "markdown",
   "metadata": {},
   "source": [
    "# Common mathematical methods\n",
    "##### More efficient than python versions"
   ]
  },
  {
   "cell_type": "code",
   "execution_count": null,
   "metadata": {},
   "outputs": [],
   "source": [
    "data = [1, 6, 19, 22, 15, 6, 3, 1, 9]\n",
    "print(np.mean(data), np.average(data), np.std(data))\n",
    "print(np.median(data))\n",
    "print(np.sum(data), np.prod(data))\n",
    "print(np.max(data), np.min(data))\n",
    "print(np.argmax(data), np.argmin(data)) # index of the largest/smallest numberS"
   ]
  },
  {
   "cell_type": "code",
   "execution_count": null,
   "metadata": {},
   "outputs": [],
   "source": [
    "# Calculating z-values in one line\n",
    "print((np.array(data) - np.mean(data)) / np.std(data))"
   ]
  },
  {
   "cell_type": "code",
   "execution_count": null,
   "metadata": {},
   "outputs": [],
   "source": [
    "# Efficient vectorized functions\n",
    "print(np.exp(data))\n",
    "print(np.log(data))\n",
    "print(np.log(data) / np.log(2))\n",
    "print(np.log2(data))\n",
    "print(np.log10(data))\n",
    "print(np.sin(data))\n",
    "print(np.cos(data))\n",
    "print(np.sin(data) ** 2 + np.cos(data) ** 2)"
   ]
  },
  {
   "cell_type": "code",
   "execution_count": null,
   "metadata": {},
   "outputs": [],
   "source": [
    "np.abs([1, -2, -3])"
   ]
  },
  {
   "cell_type": "code",
   "execution_count": null,
   "metadata": {},
   "outputs": [],
   "source": [
    "print(np.pi)\n",
    "print(np.e)"
   ]
  },
  {
   "cell_type": "markdown",
   "metadata": {},
   "source": [
    "# Axes"
   ]
  },
  {
   "cell_type": "code",
   "execution_count": null,
   "metadata": {},
   "outputs": [],
   "source": [
    "# math operations generally take the whole array\n",
    "# but we can specify the axis...\n",
    "\n",
    "A = np.arange(3 * 5).reshape(3, 5)\n",
    "print(A)\n",
    "print(np.average(A))\n",
    "print(np.average(A, axis = 0))\n",
    "print(np.average(A, axis = 1))"
   ]
  },
  {
   "cell_type": "markdown",
   "metadata": {},
   "source": [
    "# Random"
   ]
  },
  {
   "cell_type": "code",
   "execution_count": null,
   "metadata": {},
   "outputs": [],
   "source": [
    "print(np.random.randint(3, 5)) # Unlike random.randint, it doesn't include 5!\n",
    "print(np.random.randint(3, 5, 10))\n",
    "print(np.random.randint(3, 5, (4, 12)))"
   ]
  },
  {
   "cell_type": "code",
   "execution_count": null,
   "metadata": {},
   "outputs": [],
   "source": [
    "# Uniform distribution\n",
    "print(np.random.rand())\n",
    "print(np.random.rand(4, 3)) # arguments for this function are shapes, not the number range...\n",
    "print(np.random.uniform(-5.3, 19.4, 6))"
   ]
  },
  {
   "cell_type": "code",
   "execution_count": null,
   "metadata": {},
   "outputs": [],
   "source": [
    "# Gaussian/normal-distribution random\n",
    "print(np.random.randn())\n",
    "print(3 * np.random.randn() + 6) # mean = 6, std = 3\n",
    "print(np.random.randn(2, 3))"
   ]
  },
  {
   "cell_type": "markdown",
   "metadata": {},
   "source": [
    "# Booleans & slicing"
   ]
  },
  {
   "cell_type": "code",
   "execution_count": null,
   "metadata": {},
   "outputs": [],
   "source": [
    "bool_array = np.array([True, False, True])\n",
    "print(bool_array)\n",
    "print(bool_array.dtype)"
   ]
  },
  {
   "cell_type": "code",
   "execution_count": null,
   "metadata": {},
   "outputs": [],
   "source": [
    "x = np.array([1, 5, 2, 1, 9, 1, -3])\n",
    "print(x == 1)\n",
    "print(x <= 1)"
   ]
  },
  {
   "cell_type": "code",
   "execution_count": null,
   "metadata": {},
   "outputs": [],
   "source": [
    "x = np.arange(10)\n",
    "y = np.arange(10)[::-1]\n",
    "print(~(x == 5)) # not equal to five\n",
    "print((x < 8) & (y < 8)) # and...\n",
    "print((x >= 8) | (y >= 8)) # or..."
   ]
  },
  {
   "cell_type": "code",
   "execution_count": null,
   "metadata": {},
   "outputs": [],
   "source": [
    "# we can slice arrays with boolean arrays\n",
    "\n",
    "x = np.arange(8)\n",
    "mask = np.array([True, True, False, False, False, False, True, True])\n",
    "print(x)\n",
    "print(mask)\n",
    "print(x[mask])"
   ]
  },
  {
   "cell_type": "code",
   "execution_count": null,
   "metadata": {},
   "outputs": [],
   "source": [
    "x = np.random.randn(20)\n",
    "print(x)\n",
    "print(x[x >= 0])"
   ]
  },
  {
   "cell_type": "code",
   "execution_count": null,
   "metadata": {},
   "outputs": [],
   "source": [
    "# Filtering outliers (numbers that are more than 2 standard deviations away from the mean)\n",
    "data = np.array([3,4, 0.2, 1.7, 5.6, -19.3, 4.2, 20.4, 0.1, 2.5, 3.2, 4.3, -2.2, -1.1, 0.01])\n",
    "print(data[np.abs(data - np.average(data)) <= 2 * np.std(data)])"
   ]
  },
  {
   "cell_type": "code",
   "execution_count": null,
   "metadata": {},
   "outputs": [],
   "source": [
    "# we can replace the values we don't want, instead of filtering them out using np.where()...\n",
    "\n",
    "mask = np.array([True, True, False, False, False, False, True, True])\n",
    "print(np.where(mask, 1.0, -np.pi))"
   ]
  },
  {
   "cell_type": "code",
   "execution_count": null,
   "metadata": {},
   "outputs": [],
   "source": [
    "# we cannot use python's bool on numpy's boolean array...\n",
    "\n",
    "a = np.array([True, False, True])\n",
    "print(bool(a))"
   ]
  },
  {
   "cell_type": "code",
   "execution_count": null,
   "metadata": {},
   "outputs": [],
   "source": [
    "# we have to use\n",
    "\n",
    "print(np.any(a))\n",
    "print(np.all(a))"
   ]
  },
  {
   "cell_type": "markdown",
   "metadata": {},
   "source": [
    "# nan & inf"
   ]
  },
  {
   "cell_type": "code",
   "execution_count": null,
   "metadata": {},
   "outputs": [],
   "source": [
    "print(2.2 / 0)"
   ]
  },
  {
   "cell_type": "code",
   "execution_count": null,
   "metadata": {},
   "outputs": [],
   "source": [
    "# numpy allows division by 0\n",
    "\n",
    "a = np.array([1, 5, 9, 3, -4, 0])\n",
    "b = np.array([1, 0, 0.5, 2, 0, 0])\n",
    "print(a / b)"
   ]
  },
  {
   "cell_type": "code",
   "execution_count": null,
   "metadata": {},
   "outputs": [],
   "source": [
    "# silence warnings...\n",
    "\n",
    "with np.errstate(divide = 'ignore', invalid = 'ignore'):\n",
    "    print(a / b)\n",
    "    \n",
    "# Can also silence globally with np.seterr although not recommended"
   ]
  },
  {
   "cell_type": "code",
   "execution_count": null,
   "metadata": {},
   "outputs": [],
   "source": [
    "# we will get special values for all mathematcially undefined operations\n",
    "\n",
    "print(np.log(a))\n",
    "print(a ** 0.31)"
   ]
  },
  {
   "cell_type": "code",
   "execution_count": null,
   "metadata": {},
   "outputs": [],
   "source": [
    "# and these can propagate later in code...\n",
    "\n",
    "a = np.array([2, -1.414, np.nan, np.nan, np.inf, -np.inf])\n",
    "b = np.array([np.nan, np.inf, -np.inf, 3.2, 1.2, np.inf])\n",
    "print(a + b)\n",
    "print(a * b)"
   ]
  },
  {
   "cell_type": "code",
   "execution_count": null,
   "metadata": {},
   "outputs": [],
   "source": [
    "print(np.isinf(np.inf), np.isinf(-np.inf), np.isinf(np.nan), np.isinf(np.pi))\n",
    "print(np.isnan(np.inf), np.isnan(-np.inf), np.isnan(np.nan), np.isnan(np.pi))"
   ]
  },
  {
   "cell_type": "code",
   "execution_count": null,
   "metadata": {},
   "outputs": [],
   "source": [
    "# filtering out nan (not a number) values...\n",
    "\n",
    "a = np.log([1, -2, -3, 5, 4])\n",
    "print(a)\n",
    "print(np.isnan(a))\n",
    "print(a[~np.isnan(a)])"
   ]
  },
  {
   "cell_type": "code",
   "execution_count": null,
   "metadata": {},
   "outputs": [],
   "source": [
    "# nan is not None\n",
    "\n",
    "print(np.nan == None, np.nan is None)"
   ]
  },
  {
   "cell_type": "code",
   "execution_count": null,
   "metadata": {},
   "outputs": [],
   "source": [
    "np.isnan(None)"
   ]
  },
  {
   "cell_type": "code",
   "execution_count": null,
   "metadata": {},
   "outputs": [],
   "source": [
    "# nan's are actually still numbers (but not really...)\n",
    "\n",
    "print(type(np.nan), type(np.inf), type(-np.inf))"
   ]
  },
  {
   "cell_type": "markdown",
   "metadata": {},
   "source": [
    "# Example - nucleotide probabilities"
   ]
  },
  {
   "cell_type": "code",
   "execution_count": null,
   "metadata": {},
   "outputs": [],
   "source": [
    "# first calculate the occurence of a pair of nucleotides\n",
    "# i.e. the number of times one nucleotide follows the other \n",
    "\n",
    "dna_seq = 'AGTCCAGTGACGTGGGTGAGAGTGAGTGACACAGTGGAGTAGACCCAAAGTGATTAGTCACACAGTGATGACAGATGACGATAGAGA'\n",
    "\n",
    "NT_OPTIONS = 'ACGT'\n",
    "nt_to_index = {nt: i for i, nt in enumerate(NT_OPTIONS)}\n",
    "pairs_count = np.zeros((len(NT_OPTIONS), len(NT_OPTIONS)))\n",
    "\n",
    "for i in range(len(dna_seq) - 1):\n",
    "    pairs_count[nt_to_index[dna_seq[i]], nt_to_index[dna_seq[i + 1]]] += 1\n",
    "    \n",
    "print(pairs_count)"
   ]
  },
  {
   "cell_type": "code",
   "execution_count": null,
   "metadata": {},
   "outputs": [],
   "source": [
    "# normalize it to get the probability\n",
    "\n",
    "nt_prob = pairs_count / np.sum(pairs_count, axis = 1).reshape(len(NT_OPTIONS), 1)\n",
    "print(nt_prob)"
   ]
  },
  {
   "cell_type": "code",
   "execution_count": null,
   "metadata": {},
   "outputs": [],
   "source": [
    "# so, e.g., there is a 7.14% chance of A coming after A\n",
    "# but there is a 50% chance of G coming after an A"
   ]
  }
 ],
 "metadata": {
  "kernelspec": {
   "display_name": "Python 3 (ipykernel)",
   "language": "python",
   "name": "python3"
  },
  "language_info": {
   "codemirror_mode": {
    "name": "ipython",
    "version": 3
   },
   "file_extension": ".py",
   "mimetype": "text/x-python",
   "name": "python",
   "nbconvert_exporter": "python",
   "pygments_lexer": "ipython3",
   "version": "3.7.13"
  }
 },
 "nbformat": 4,
 "nbformat_minor": 1
}
