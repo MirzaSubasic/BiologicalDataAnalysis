{
 "cells": [
  {
   "cell_type": "markdown",
   "metadata": {},
   "source": [
    "# Code optimization (examples)\n",
    "\n",
    "Some are probably obvious..."
   ]
  },
  {
   "cell_type": "markdown",
   "metadata": {},
   "source": [
    "### Print in line if you are tracking something"
   ]
  },
  {
   "cell_type": "code",
   "execution_count": null,
   "metadata": {},
   "outputs": [],
   "source": [
    "import time\n",
    "\n",
    "for i in range(10):\n",
    "    print(\"Current iteration is:\", i+1, end=\"\\r\")\n",
    "    time.sleep(1)"
   ]
  },
  {
   "cell_type": "markdown",
   "metadata": {},
   "source": [
    "### Use appropriate data formats"
   ]
  },
  {
   "cell_type": "code",
   "execution_count": null,
   "metadata": {},
   "outputs": [],
   "source": [
    "large_list = [x for x in range(6**10)]\n",
    "large_set = set(x for x in range(6**10))\n",
    "\n",
    "print(len(large_list))\n",
    "print(len(large_set))"
   ]
  },
  {
   "cell_type": "code",
   "execution_count": null,
   "metadata": {},
   "outputs": [],
   "source": [
    "list_start = time.time()\n",
    "print(60000000 in large_list)\n",
    "list_end = time.time()\n",
    "\n",
    "set_start = time.time()\n",
    "print(60000000 in large_set)\n",
    "set_end = time.time()\n",
    "\n",
    "print(\"List search time:\", list_end - list_start)\n",
    "print(\"Set search time:\", set_end - set_start)"
   ]
  },
  {
   "cell_type": "code",
   "execution_count": null,
   "metadata": {},
   "outputs": [],
   "source": [
    "# also delete large variables if no longer needed\n",
    "# these two take up several GBs of RAM\n",
    "\n",
    "del(large_list, large_set)"
   ]
  },
  {
   "cell_type": "markdown",
   "metadata": {},
   "source": [
    "### Be conservative with loops (especially in large files)"
   ]
  },
  {
   "cell_type": "code",
   "execution_count": null,
   "metadata": {},
   "outputs": [],
   "source": [
    "\n",
    "\n",
    "# If you have to do multiple analyses, include all of them in a single loop\n",
    "# E.g. count the number of ncRNAs in a file and calculate the average length of mRNAs\n",
    "\n",
    "# Don't:\n",
    "\n",
    "ncRNAs_count = 0\n",
    "\n",
    "for transcript in file:\n",
    "    if transcript == ncRNA:\n",
    "        ncRNAs_count += 1\n",
    "\n",
    "print(\"ncRNAs_count:\", ncRNAs_count)\n",
    "        \n",
    "mRNAs_length = []\n",
    "\n",
    "for transcript in file:\n",
    "    if transcript == mRNA:\n",
    "        mRNAs_length.append(len(transcript))\n",
    "\n",
    "import numpy as np\n",
    "print(\"Mean of mRNA transcripts:\", np.mean(mRNAs_length))"
   ]
  },
  {
   "cell_type": "code",
   "execution_count": null,
   "metadata": {},
   "outputs": [],
   "source": [
    "# Do:\n",
    "\n",
    "import numpy as np\n",
    "ncRNAs_count = 0\n",
    "mRNAs_length = []\n",
    "\n",
    "for transcript in file:\n",
    "    if transcript == ncRNA:\n",
    "        ncRNAs_count += 1\n",
    "    if transcript == mRNA:\n",
    "        mRNAs_length.append(len(transcript))\n",
    "\n",
    "print(\"ncRNAs_count:\", ncRNAs_count)\n",
    "print(\"Mean of mRNA transcripts:\", np.mean(mRNAs_length))"
   ]
  },
  {
   "cell_type": "markdown",
   "metadata": {},
   "source": [
    "### Avoid unnecessary computation and variable defintion\n",
    "(unless it is better for readibility, or saves computation)"
   ]
  },
  {
   "cell_type": "code",
   "execution_count": null,
   "metadata": {},
   "outputs": [],
   "source": [
    "# E.g. calculate the average GC content of mRNA transcripts\n",
    "\n",
    "# Don't:\n",
    "\n",
    "GC_content = []\n",
    "\n",
    "for transcript in file:\n",
    "    GC_perc = GC(transcript)\n",
    "    if transcript == mRNA:\n",
    "        GC_content.append(GC_perc)"
   ]
  },
  {
   "cell_type": "code",
   "execution_count": null,
   "metadata": {},
   "outputs": [],
   "source": [
    "# Do:\n",
    "\n",
    "GC_content = []\n",
    "\n",
    "for transcript in file:\n",
    "    if transcript == mRNA:\n",
    "        GC_content.append(GC(transcript))"
   ]
  },
  {
   "cell_type": "code",
   "execution_count": null,
   "metadata": {},
   "outputs": [],
   "source": [
    "# Or:\n",
    "\n",
    "GC_content = []\n",
    "\n",
    "for transcript in file:\n",
    "    if transcript == mRNA:\n",
    "        GC_perc = GC(transcript) # if we will need this GC_perc later in the code...\n",
    "        GC_content.append(GC_perc)"
   ]
  },
  {
   "cell_type": "markdown",
   "metadata": {},
   "source": [
    "### Avoid creating large variables if you can"
   ]
  },
  {
   "cell_type": "code",
   "execution_count": null,
   "metadata": {},
   "outputs": [],
   "source": [
    "# E.g. count nucleotide frequency in all transcripts combined\n",
    "\n",
    "# Don't:\n",
    "\n",
    "from collections import Counter\n",
    "\n",
    "transcripts_combined = ''\n",
    "\n",
    "for transcript in file:\n",
    "    transcripts_combined += transcript.sequence\n",
    "    \n",
    "nuc_freq = Counter(transcripts_combined)"
   ]
  },
  {
   "cell_type": "code",
   "execution_count": null,
   "metadata": {},
   "outputs": [],
   "source": [
    "# Do:\n",
    "\n",
    "from collections import Counter\n",
    "\n",
    "nuc_freq = Counter()\n",
    "\n",
    "for transcript in file:\n",
    "    Counter.update(transcript.sequence)"
   ]
  },
  {
   "cell_type": "markdown",
   "metadata": {},
   "source": [
    "### Which one is better?\n",
    "\n",
    "sum(x ** 4 for x in range(10 ** 7))\n",
    "\n",
    "or\n",
    "\n",
    "sum([x ** 4 for x in range(10 ** 7)])"
   ]
  },
  {
   "cell_type": "code",
   "execution_count": null,
   "metadata": {},
   "outputs": [],
   "source": [
    "# time difference?\n",
    "# (another way to measure time execution; doesn't require import time)\n",
    "\n",
    "%time sum(x ** 4 for x in range(10 ** 7))\n",
    "\n",
    "%time sum([x ** 4 for x in range(10 ** 7)])"
   ]
  },
  {
   "cell_type": "code",
   "execution_count": null,
   "metadata": {},
   "outputs": [],
   "source": [
    "# btw, if you want to measure really short execution time...\n",
    "\n",
    "%time sum(x for x in range(1000))\n",
    "%timeit sum(x for x in range(1000))"
   ]
  },
  {
   "cell_type": "code",
   "execution_count": null,
   "metadata": {},
   "outputs": [],
   "source": [
    "# resources?\n",
    "\n",
    "sum(x ** 4 for x in range(10 ** 8))"
   ]
  },
  {
   "cell_type": "code",
   "execution_count": null,
   "metadata": {},
   "outputs": [],
   "source": [
    "# resources?\n",
    "\n",
    "sum([x ** 4 for x in range(10 ** 8)])"
   ]
  }
 ],
 "metadata": {
  "kernelspec": {
   "display_name": "Python 3 (ipykernel)",
   "language": "python",
   "name": "python3"
  },
  "language_info": {
   "codemirror_mode": {
    "name": "ipython",
    "version": 3
   },
   "file_extension": ".py",
   "mimetype": "text/x-python",
   "name": "python",
   "nbconvert_exporter": "python",
   "pygments_lexer": "ipython3",
   "version": "3.7.13"
  }
 },
 "nbformat": 4,
 "nbformat_minor": 1
}
