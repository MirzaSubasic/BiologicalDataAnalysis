{
 "cells": [
  {
   "cell_type": "code",
   "execution_count": null,
   "metadata": {},
   "outputs": [],
   "source": [
    "import os\n",
    "\n",
    "DIR = r'c://downloads'"
   ]
  },
  {
   "cell_type": "markdown",
   "metadata": {},
   "source": [
    "# Pairwise global alignment of nucleotides\n",
    "Note: biopython is limited with alignment\n",
    "\n",
    "Better tools - ClustalW or BLAST\n",
    "\n",
    "It is still useful for parsing the results of alignments."
   ]
  },
  {
   "cell_type": "code",
   "execution_count": 2,
   "metadata": {},
   "outputs": [
    {
     "name": "stdout",
     "output_type": "stream",
     "text": [
      "[Alignment(seqA='ACCGT', seqB='A-CG-', score=3.0, start=0, end=5), Alignment(seqA='ACCGT', seqB='AC-G-', score=3.0, start=0, end=5)]\n"
     ]
    }
   ],
   "source": [
    "# Returns multiple alignments of the same score\n",
    "\n",
    "from Bio import pairwise2\n",
    "alignments = pairwise2.align.globalxx('ACCGT', 'ACG')\n",
    "print(alignments)"
   ]
  },
  {
   "cell_type": "code",
   "execution_count": null,
   "metadata": {},
   "outputs": [],
   "source": [
    "pairwise2.align.globalxx?\n",
    "\n",
    "# we can extract only the first alignment, e.g.\n",
    "\n",
    "seqA, seqB, score, begin, end = alignments[0]"
   ]
  },
  {
   "cell_type": "code",
   "execution_count": 4,
   "metadata": {},
   "outputs": [
    {
     "name": "stdout",
     "output_type": "stream",
     "text": [
      "ACTCTGGTCAGTCGTACGTCGTAAGTAGCTAGCTA\n",
      "|||||||||||||||||||||||||||||||||||\n",
      "ACTCTGGTCAGTCGTACGTCGTAAGTAGCTAGCTA\n",
      "  Score=35\n",
      "\n"
     ]
    }
   ],
   "source": [
    "from Bio.pairwise2 import format_alignment\n",
    "print(format_alignment(*alignments[0])) # asterisk unwraps the tuple into individual variables"
   ]
  },
  {
   "cell_type": "code",
   "execution_count": null,
   "metadata": {},
   "outputs": [],
   "source": [
    "# Different options...\n",
    "\n",
    "print(pairwise2.align.globalxx('ACCGT', 'ACG', score_only = True))"
   ]
  },
  {
   "cell_type": "code",
   "execution_count": null,
   "metadata": {},
   "outputs": [],
   "source": [
    "# Different options...\n",
    "\n",
    "print(pairwise2.align.globalxx('ACCGT', 'ACG', one_alignment_only = True))"
   ]
  },
  {
   "cell_type": "code",
   "execution_count": null,
   "metadata": {},
   "outputs": [],
   "source": [
    "# globalxx cannot be tuned\n",
    "# By defauly 1 point is given for any match; mismatches and gaps aren't panelized.\n",
    "# Use globalms for different params.\n",
    "\n",
    "# SeqA, SeqB, match, mismatch, open, extend\n",
    "print(pairwise2.align.globalms('ACCGT', 'ACG', 5.0, -4.0, -10.0, -0.5))"
   ]
  },
  {
   "cell_type": "markdown",
   "metadata": {},
   "source": [
    "##### Exercise"
   ]
  },
  {
   "cell_type": "code",
   "execution_count": 26,
   "metadata": {},
   "outputs": [],
   "source": [
    "# Align the followings two sequences first the simple way (globalxx)\n",
    "# Then add a penalty for gap opening\n",
    "# Print out (format_alignment) both options using only the first alignment in the list\n",
    "# Why does the second option make more sense biologically?\n",
    "\n",
    "seq1 = 'ACTCTGGTCAGTCATACGTCGTAAGTAGCTAGCTA'\n",
    "seq2 = 'ACTCTGGTCAGTGTTACGTAAGTAGCTAGCTACTA'"
   ]
  },
  {
   "cell_type": "markdown",
   "metadata": {},
   "source": [
    "# Pairwise global alignment of proteins"
   ]
  },
  {
   "cell_type": "code",
   "execution_count": null,
   "metadata": {},
   "outputs": [],
   "source": [
    "from Bio.Align import substitution_matrices\n",
    "blosum62 = substitution_matrices.load(\"BLOSUM62\")\n",
    "\n",
    "alignments = pairwise2.align.globaldx('PRTSEQ', 'EVRSEQRR', blosum62)\n",
    "print(alignments)"
   ]
  },
  {
   "cell_type": "code",
   "execution_count": null,
   "metadata": {},
   "outputs": [],
   "source": [
    "print(format_alignment(*alignments[0]))"
   ]
  },
  {
   "cell_type": "code",
   "execution_count": null,
   "metadata": {},
   "outputs": [],
   "source": [
    "blosum62"
   ]
  },
  {
   "cell_type": "code",
   "execution_count": null,
   "metadata": {},
   "outputs": [],
   "source": [
    "# Gaps aren't penalized by default.\n",
    "\n",
    "# open, extend\n",
    "print(pairwise2.align.globalds('PRTSEQ', 'EVRSEQRR', blosum62, -10.0, -0.5))"
   ]
  },
  {
   "cell_type": "raw",
   "metadata": {},
   "source": [
    "globalDS -> d and s have their explanation...\n",
    "first letter is for matches / mismatches\n",
    "second letter is for gaps (opening, extensions)\n",
    "\n",
    "The match parameters are:\n",
    "\n",
    "CODE  DESCRIPTION\n",
    "x     No parameters. Identical characters have score of 1, otherwise 0.\n",
    "m     A match score is the score of identical chars, otherwise mismatch\n",
    "      score.\n",
    "d     A dictionary returns the score of any pair of characters.\n",
    "c     A callback function returns scores.\n",
    "\n",
    "---------------------------------------------------------------------\n",
    "\n",
    "The gap penalty parameters are:\n",
    "\n",
    "CODE  DESCRIPTION\n",
    "x     No gap penalties.\n",
    "s     Same open and extend gap penalties for both sequences.\n",
    "d     The sequences have different open and extend gap penalties.\n",
    "c     A callback function returns the gap penalties.\n",
    "\n",
    "---------------------------------------------------------------------\n",
    "\n",
    "See: http://biopython.org/DIST/docs/api/Bio.pairwise2-module.html"
   ]
  },
  {
   "cell_type": "markdown",
   "metadata": {},
   "source": [
    "# Pairwise local alignment"
   ]
  },
  {
   "cell_type": "code",
   "execution_count": null,
   "metadata": {},
   "outputs": [],
   "source": [
    "# Everything is the same, just use localXX instead of globalXX\n",
    "\n",
    "alignments = pairwise2.align.localms('TTATACCGT', 'ACG', 5.0, -4.0, -10.0, -0.5)\n",
    "print(alignments)\n",
    "print(format_alignment(*alignments[0]))"
   ]
  },
  {
   "cell_type": "code",
   "execution_count": null,
   "metadata": {},
   "outputs": [],
   "source": [
    "alignments = pairwise2.align.localds('PRTSEQGGVD', 'EVRSEQRRGGV', blosum62, -10.0, -0.5)\n",
    "print(alignments)\n",
    "print(format_alignment(*alignments[0]))"
   ]
  }
 ],
 "metadata": {
  "kernelspec": {
   "display_name": "Python 3 (ipykernel)",
   "language": "python",
   "name": "python3"
  },
  "language_info": {
   "codemirror_mode": {
    "name": "ipython",
    "version": 3
   },
   "file_extension": ".py",
   "mimetype": "text/x-python",
   "name": "python",
   "nbconvert_exporter": "python",
   "pygments_lexer": "ipython3",
   "version": "3.7.13"
  }
 },
 "nbformat": 4,
 "nbformat_minor": 1
}
