{
 "cells": [
  {
   "cell_type": "markdown",
   "metadata": {},
   "source": [
    "# TASK 2\n",
    "\n",
    "###### A: Generate reverse complement of this sequence, translate it into protein, and calculate the frequency of every codon.\n",
    "###### B: What is the distribution/frequency of codons in this stretch of DNA? Are they Uniform? How about amino acid frequency? Anything interesting here? (print out relevant data; write relevant conclusions/observations in markdown cell"
   ]
  },
  {
   "cell_type": "code",
   "execution_count": null,
   "metadata": {},
   "outputs": [],
   "source": [
    "#seting up\n",
    "DNA = \"CTACTGTAATTCAACACAACTGTTTAATAGTACTTGGTTTAATAGTACTTGGAGTACTGAAGGGTCAAATAACACTGAAGGAAGTGACACAATCACCCTCCCATGCAGAATAAAACAAATTATAAACATGTGGCAGAAAGTAGGAAAAGCAATGTATGCCCCTCCCATCAGTGGACAAATTAGATGTTCATCAAATATTACAGGGCTGCTATTAACAAGAGATGGTGGTAATAGCAACAATGAGTCCGAGATCTTCAGACCTGGAGGAGGAGATATGAGGGACAATTGGAGAAGTGAATTATATAAATATAAAGTAGTAAAAATTGAACCATTAGGAGTAGCACCCACCAAGGCAAAGAGAAGAGTGGTGCAGAGAGAAAAAAGAGCAGTGGGAATAGGAGCTTTGTTCCTTGGGTTCTTGGGAGCAGCAGGAAGCACTATGGGCGCAGCCTCAATGACGCTGACGGTACAGGCCAGACAATTATTGTCTGGTATAGTGCAGCAGCAGAACAATTTGCTGAGGGCTATTGAGGCGCAACAGCATCTGTTGCAACTCACAGTCTGGGGCAT\"\n",
    "\n",
    "\n",
    "codon_table = {\n",
    "'UUU': 'F', 'UUC': 'F', 'UUA': 'L', 'UUG': 'L',\n",
    "'UCU': 'S', 'UCC': 'S', 'UCA': 'S', 'UCG': 'S',\n",
    "'UAU': 'Y', 'UAC': 'Y', 'UAA': '*', 'UAG': '*',\n",
    "'UGU': 'C', 'UGC': 'C', 'UGA': '*', 'UGG': 'W',\n",
    "'CUU': 'L', 'CUC': 'L', 'CUA': 'L', 'CUG': 'L',\n",
    "'CCU': 'P', 'CCC': 'P', 'CCA': 'P', 'CCG': 'P',\n",
    "'CAU': 'H', 'CAC': 'H', 'CAA': 'Q', 'CAG': 'Q',\n",
    "'CGU': 'R', 'CGC': 'R', 'CGA': 'R', 'CGG': 'R',\n",
    "'AUU': 'I', 'AUC': 'I', 'AUA': 'I', 'AUG': 'M',\n",
    "'ACU': 'T', 'ACC': 'T', 'ACA': 'T', 'ACG': 'T',\n",
    "'AAU': 'N', 'AAC': 'N', 'AAA': 'K', 'AAG': 'K',\n",
    "'AGU': 'S', 'AGC': 'S', 'AGA': 'R', 'AGG': 'R',\n",
    "'GUU': 'V', 'GUC': 'V', 'GUA': 'V', 'GUG': 'V',\n",
    "'GCU': 'A', 'GCC': 'A', 'GCA': 'A', 'GCG': 'A',\n",
    "'GAU': 'D', 'GAC': 'D', 'GAA': 'E', 'GAG': 'E',\n",
    "'GGU': 'G', 'GGC': 'G', 'GGA': 'G', 'GGG': 'G',\n",
    "}"
   ]
  },
  {
   "cell_type": "code",
   "execution_count": null,
   "metadata": {},
   "outputs": [],
   "source": [
    "# PART A\n",
    "\n",
    "#reverse complement of DNA\n",
    "complements = {'A': 'T', 'C': 'G', 'G': 'C', 'T': 'A'}\n",
    "DNAReverseComplement = \"\".join(complements.get(base, base) for base in reversed(DNA))\n",
    "print(\"Reverse complement: \\n\" + DNAReverseComplement + \"\\n\")"
   ]
  },
  {
   "cell_type": "code",
   "execution_count": null,
   "metadata": {},
   "outputs": [],
   "source": [
    "#transcibe to rna\n",
    "dnaToRnaMapping = {'A': 'A', 'C': 'C', 'G': 'G', 'T': 'U'}\n",
    "rna = []\n",
    "for i in DNA:\n",
    "    rna.append(dnaToRnaMapping[i])\n",
    "\n",
    "RNASeq = ''.join(rna)\n",
    "\n",
    "#translate into protein\n",
    "protein = []\n",
    "codons = []\n",
    "\n",
    "for i in range(0,len(RNASeq),3):\n",
    "    codon = RNASeq[i:i+3]\n",
    "    #put codons in one list\n",
    "    codons.append(codon)\n",
    "    #if codons exist in codon table translate them into protein\n",
    "    if codon in codon_table:\n",
    "        aminoacid = codon_table[codon]\n",
    "        protein.append(aminoacid)\n",
    "\n",
    "print(\"Protein:\")\n",
    "print(protein)\n",
    "#print(codons)"
   ]
  },
  {
   "cell_type": "code",
   "execution_count": null,
   "outputs": [],
   "source": [
    "# calculate frequency of every codon\n",
    "codonFrequency = {}\n",
    "\n",
    "for i in codons:\n",
    "    if i in codonFrequency:\n",
    "        codonFrequency[i] += 1\n",
    "    else:\n",
    "        codonFrequency[i] = 1\n",
    "\n",
    "print (\"Frequency of every codon :\\n \" +  str(codonFrequency))"
   ],
   "metadata": {
    "collapsed": false
   }
  },
  {
   "cell_type": "code",
   "execution_count": null,
   "outputs": [],
   "source": [
    "aminoAcidFrequency = {}\n",
    "\n",
    "for i in protein:\n",
    "    if i in aminoAcidFrequency:\n",
    "        aminoAcidFrequency[i] += 1\n",
    "    else:\n",
    "        aminoAcidFrequency[i] = 1\n",
    "\n",
    "print (\"Frequency of every amino acid :\\n \" +  str(aminoAcidFrequency))"
   ],
   "metadata": {
    "collapsed": false
   }
  },
  {
   "cell_type": "markdown",
   "source": [
    "## PART B\n",
    "\n",
    "###### Codon frequency is not uniform\n",
    "###### Amino acid frequency is not uniform\n"
   ],
   "metadata": {
    "collapsed": false
   }
  },
  {
   "cell_type": "code",
   "execution_count": null,
   "outputs": [],
   "source": [
    "print (\"Frequency of every codon :\\n \" +  str(codonFrequency))\n",
    "print (\"Frequency of every amino acid :\\n \" +  str(aminoAcidFrequency))"
   ],
   "metadata": {
    "collapsed": false
   }
  },
  {
   "cell_type": "code",
   "execution_count": null,
   "outputs": [],
   "source": [],
   "metadata": {
    "collapsed": false
   }
  }
 ],
 "metadata": {
  "kernelspec": {
   "display_name": "Python 3 (ipykernel)",
   "language": "python",
   "name": "python3"
  },
  "language_info": {
   "codemirror_mode": {
    "name": "ipython",
    "version": 3
   },
   "file_extension": ".py",
   "mimetype": "text/x-python",
   "name": "python",
   "nbconvert_exporter": "python",
   "pygments_lexer": "ipython3",
   "version": "3.8.5"
  }
 },
 "nbformat": 4,
 "nbformat_minor": 1
}
