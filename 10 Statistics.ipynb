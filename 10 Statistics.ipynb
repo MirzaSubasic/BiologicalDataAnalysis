{
 "cells": [
  {
   "cell_type": "code",
   "execution_count": null,
   "metadata": {},
   "outputs": [],
   "source": [
    "import os\n",
    "import json\n",
    "\n",
    "import numpy as np\n",
    "import pandas as pd\n",
    "import matplotlib.pyplot as plt\n",
    "\n",
    "from IPython.display import display\n",
    "\n",
    "%matplotlib inline\n",
    "\n",
    "DIR = r'c://downloads'\n",
    "\n",
    "plt.style.use('ggplot')"
   ]
  },
  {
   "cell_type": "markdown",
   "metadata": {},
   "source": [
    "# Correlation"
   ]
  },
  {
   "cell_type": "code",
   "execution_count": null,
   "metadata": {},
   "outputs": [],
   "source": [
    "# Code from last lesson - merging ViralZone and VIPERdb datasets\n",
    "\n",
    "viperdb = pd.read_csv(\"viperdb.csv\")\n",
    "viralzone = pd.read_csv(os.path.join(DIR, 'viralzone.csv'))\n",
    "\n",
    "viralzone['Genome'] = viralzone['Genome'].apply(json.loads)\n",
    "viralzone['Genome Length'] = viralzone['Genome'].apply(lambda genome: sum([fragment['size'] for fragment in genome]))\n",
    "viralzone_genome_length_per_genus = viralzone.groupby(['Group', 'Family', 'Genus'])['Genome Length'].max().reset_index()\n",
    "\n",
    "viperdb_radiuses_per_genera = viperdb.groupby(['Family', 'Genus'])[['Inner Radius', 'Outer Radius']].max().reset_index()\n",
    "\n",
    "combined_genera = pd.merge(viralzone_genome_length_per_genus, viperdb_radiuses_per_genera, on = ['Family', 'Genus'])\n",
    "combined_genera['Log10 Genome Length'] = np.log10(combined_genera['Genome Length'])\n",
    "\n",
    "print('We have %d combined genera.' % len(combined_genera))\n",
    "display(combined_genera.head())\n",
    "\n",
    "fig, ax = plt.subplots(figsize = (12, 6))\n",
    "combined_genera.plot(ax = ax, kind = 'scatter', x = 'Log10 Genome Length', y = 'Inner Radius', s = 50)"
   ]
  },
  {
   "cell_type": "code",
   "execution_count": null,
   "metadata": {},
   "outputs": [],
   "source": [
    "from scipy.stats import pearsonr, spearmanr\n",
    "\n",
    "# Only barely significant\n",
    "print('Pearson correlation between Genome Length and Inner Radius: r = %.2f, p-value = %.4f' % \\\n",
    "        pearsonr(combined_genera['Genome Length'], combined_genera['Inner Radius']))"
   ]
  },
  {
   "cell_type": "code",
   "execution_count": null,
   "metadata": {},
   "outputs": [],
   "source": [
    "# What if we get rid of the two outliers?\n",
    "\n",
    "filtered_genera = combined_genera[combined_genera['Log10 Genome Length'] < 5]\n",
    "print('Filtered out %d outliers.' % (len(combined_genera) - len(filtered_genera)))\n",
    "\n",
    "# Now it's really significant!\n",
    "print('Pearson correlation between Genome Length and Inner Radius without outliers: r = %.2f, p-value = %e' % \\\n",
    "        pearsonr(filtered_genera['Genome Length'], filtered_genera['Inner Radius']))\n",
    "        \n",
    "# Was it justified to get rid of the outliers?\n",
    "# Hard to tell..."
   ]
  },
  {
   "cell_type": "code",
   "execution_count": null,
   "metadata": {},
   "outputs": [],
   "source": [
    "# Remember that the graph shows Log10 Genome Length, and not Genome Length!\n",
    "# How would it affect the results?\n",
    "\n",
    "print('Pearson correlation between Log10 Genome Length and Inner Radius: r = %.2f, p-value = %e' % \\\n",
    "        pearsonr(combined_genera['Log10 Genome Length'], combined_genera['Inner Radius']))\n",
    "print('Pearson correlation between Log10 Genome Length and Inner Radius without outliers: r = %.2f, p-value = %e' % \\\n",
    "        pearsonr(filtered_genera['Log10 Genome Length'], filtered_genera['Inner Radius']))\n",
    "        \n",
    "# It strongly improves the original dataset, but gives similar results for the filtered one."
   ]
  },
  {
   "cell_type": "code",
   "execution_count": null,
   "metadata": {},
   "outputs": [],
   "source": [
    "# There aren't good reasons to assume linear relationship for either the raw length or its log transformation.\n",
    "# Spearman's rank correlation might be more appropriate here.\n",
    "\n",
    "print('Spearman correlation between Genome Length and Inner Radius: r = %.2f, p-value = %e' % \\\n",
    "        spearmanr(combined_genera['Genome Length'], combined_genera['Inner Radius']))\n",
    "print('Spearman correlation between Genome Length and Inner Radius without outliers: r = %.2f, p-value = %e' % \\\n",
    "        spearmanr(filtered_genera['Genome Length'], filtered_genera['Inner Radius']))\n",
    "print('Spearman correlation between Log10 Genome Length and Inner Radius: r = %.2f, p-value = %e' % \\\n",
    "        spearmanr(combined_genera['Log10 Genome Length'], combined_genera['Inner Radius']))\n",
    "print('Spearman correlation between Log10 Genome Length and Inner Radius without outliers: r = %.2f, p-value = %e' % \\\n",
    "        spearmanr(filtered_genera['Log10 Genome Length'], filtered_genera['Inner Radius']))\n",
    "        \n",
    "# As anticipated, the log transformation has no effect at all.\n",
    "# Also the two \"outliers\" don't play any significant role."
   ]
  },
  {
   "cell_type": "markdown",
   "metadata": {},
   "source": [
    "**Conclusion**: The genome length of viruses indeed seems correlated to their inner capsid size (not very surprisingly...)"
   ]
  },
  {
   "cell_type": "code",
   "execution_count": null,
   "metadata": {},
   "outputs": [],
   "source": [
    "# Pandas offers a shortcut for calculating all-vs-all correlations\n",
    "\n",
    "print('Pearson correlations:')\n",
    "display(combined_genera.corr())\n",
    "\n",
    "print('Spearman correlations:')\n",
    "display(combined_genera.corr(method = 'spearman'))"
   ]
  },
  {
   "cell_type": "markdown",
   "metadata": {},
   "source": [
    "# Linear regression"
   ]
  },
  {
   "cell_type": "code",
   "execution_count": null,
   "metadata": {
    "scrolled": false
   },
   "outputs": [],
   "source": [
    "from statsmodels import api as sm\n",
    "\n",
    "y = combined_genera['Inner Radius']\n",
    "x = sm.add_constant(combined_genera['Log10 Genome Length']) # Important to add_constant. It is not added by default.\n",
    "regression_model = sm.OLS(y, x)\n",
    "regression_results = regression_model.fit()\n",
    "print(regression_results.summary())\n",
    "\n",
    "# As expected, we get the same results."
   ]
  },
  {
   "cell_type": "code",
   "execution_count": null,
   "metadata": {},
   "outputs": [],
   "source": [
    "# But now we have a concrete model in hand.\n",
    "print(regression_results.params)\n",
    "type(regression_results.params)"
   ]
  },
  {
   "cell_type": "code",
   "execution_count": null,
   "metadata": {},
   "outputs": [],
   "source": [
    "# Let's plot it.\n",
    "\n",
    "fig, ax = plt.subplots(figsize = (12, 6))\n",
    "\n",
    "regression_x = np.array([3.0, 6.5])\n",
    "regression_y = regression_results.predict(sm.add_constant(regression_x))\n",
    "ax.plot(regression_x, regression_y, '--')\n",
    "\n",
    "combined_genera.plot(ax = ax, kind = 'scatter', x = 'Log10 Genome Length', y = 'Inner Radius', s = 50)\n",
    "\n",
    "ax.set_xlim((3.0, 6.5))"
   ]
  },
  {
   "cell_type": "markdown",
   "metadata": {},
   "source": [
    "# Comparing two populations"
   ]
  },
  {
   "cell_type": "code",
   "execution_count": null,
   "metadata": {},
   "outputs": [],
   "source": [
    "viralzone_rna = viralzone[viralzone['Group'].str.contains('RNA')]\n",
    "viralzone_dna = viralzone[viralzone['Group'].str.contains('DNA')]\n",
    "\n",
    "fig, ax = plt.subplots(figsize = (12, 6))\n",
    "ax.boxplot([np.log10(viralzone_rna['Genome Length']), np.log10(viralzone_dna['Genome Length'])], showmeans = True)\n",
    "# e.g. no log10\n",
    "# ax.boxplot([viralzone_rna['Genome Length'], viralzone_dna['Genome Length']], showmeans = True)\n",
    "ax.set_xticklabels(['RNA Viruses (%d)' % len(viralzone_rna), 'DNA Viruses (%d)' % len(viralzone_dna)], fontsize = 13)\n",
    "ax.set_ylabel('Log10 Genome Length')\n",
    "# DNA viruses are orders of magnitude different in length (on both sides)\n",
    "# which is why we use the log10, allowing us to show it better in a single graph"
   ]
  },
  {
   "cell_type": "code",
   "execution_count": null,
   "metadata": {},
   "outputs": [],
   "source": [
    "from scipy.stats import ttest_ind, mannwhitneyu\n",
    "\n",
    "t_stat, t_pval = ttest_ind(viralzone_rna['Genome Length'], viralzone_dna['Genome Length'], equal_var = False)\n",
    "u_test, u_pval = mannwhitneyu(viralzone_rna['Genome Length'], viralzone_dna['Genome Length'], alternative = 'two-sided')\n",
    "print('Significance: %.2g (t-test), %.2g (U-test)' % (t_pval, u_pval))\n",
    "# T-test gives more significant results; U-test is more conservative\n",
    "# Either way, we can conclude that the means are very different"
   ]
  },
  {
   "cell_type": "markdown",
   "metadata": {},
   "source": [
    "What happens if we normalize the two groups and force them to have the same mean (0) and variance (1)?"
   ]
  },
  {
   "cell_type": "code",
   "execution_count": null,
   "metadata": {},
   "outputs": [],
   "source": [
    "# converting data to Z-values\n",
    "def normalize(values):\n",
    "    return (values - np.mean(values)) / np.std(values)\n",
    "\n",
    "normalized_rna_genome_lengths = normalize(viralzone_rna['Genome Length'])\n",
    "normalized_dna_genome_lengths = normalize(viralzone_dna['Genome Length'])\n",
    "\n",
    "fig, ax = plt.subplots(figsize = (12, 6))\n",
    "ax.boxplot([normalized_rna_genome_lengths, normalized_dna_genome_lengths], showmeans = True)\n",
    "ax.set_xticklabels(['RNA Viruses (%d)' % len(viralzone_rna), 'DNA Viruses (%d)' % len(viralzone_dna)], fontsize = 13)\n",
    "ax.set_ylabel('Normalized Genome Length')"
   ]
  },
  {
   "cell_type": "code",
   "execution_count": null,
   "metadata": {},
   "outputs": [],
   "source": [
    "_, t_pval = ttest_ind(normalized_rna_genome_lengths, normalized_dna_genome_lengths, equal_var = False)\n",
    "_, u_pval = mannwhitneyu(normalized_rna_genome_lengths, normalized_dna_genome_lengths, alternative = 'two-sided')\n",
    "print('Significance: %.2g (t-test), %.2g (U-test)' % (t_pval, u_pval))"
   ]
  },
  {
   "cell_type": "markdown",
   "metadata": {},
   "source": [
    "T-test tests for mean, so it is expected to get 1 as a result, since Z-scaling normalizes the means of both samples.\n",
    "U-test can give p<0.05 even if the mean is the same (in theory), but in this case it doesn't.\n",
    "\n",
    "However, even if the mean is the same, we can still test whether the distribution of the data is different using KS test."
   ]
  },
  {
   "cell_type": "code",
   "execution_count": null,
   "metadata": {},
   "outputs": [],
   "source": [
    "from scipy.stats import ks_2samp\n",
    "\n",
    "_, ks_pval = ks_2samp(normalized_rna_genome_lengths, normalized_dna_genome_lengths)\n",
    "print('Kolmogorov-Smirnov significance: %.2g' % ks_pval)"
   ]
  },
  {
   "cell_type": "markdown",
   "metadata": {},
   "source": [
    "# Contingency tables"
   ]
  },
  {
   "cell_type": "code",
   "execution_count": null,
   "metadata": {},
   "outputs": [],
   "source": [
    "cancer_data = pd.DataFrame([[286, 227], [114, 373]], columns = ['Lung cancer', 'Healthy'], index = ['Smokers', 'Non-smokers'])\n",
    "display(cancer_data)"
   ]
  },
  {
   "cell_type": "code",
   "execution_count": null,
   "metadata": {},
   "outputs": [],
   "source": [
    "from scipy.stats import fisher_exact, chi2_contingency\n",
    "\n",
    "# Fisher's exact test\n",
    "print('OR = %.2f, p-value = %e' % fisher_exact(cancer_data))\n",
    "\n",
    "# Manual calculation of Fisher's exact test (FYI)\n",
    "print('Self calculation of OR: %.2f' % ((cancer_data.loc['Smokers', 'Lung cancer'] / cancer_data.loc['Smokers', 'Healthy']) / \\\n",
    "        (cancer_data.loc['Non-smokers', 'Lung cancer'] / cancer_data.loc['Non-smokers', 'Healthy'])))\n",
    "print()\n",
    "\n",
    "# Chi squared test\n",
    "chi2_statistic, pval, dof, expected_data = chi2_contingency(cancer_data)\n",
    "print('Chi2 p-value = %e' % pval)\n",
    "print()\n",
    "print('Expected table:')\n",
    "display(pd.DataFrame(expected_data, columns = cancer_data.columns, index = cancer_data.index))\n",
    "print('The observed one:')\n",
    "display(cancer_data)"
   ]
  },
  {
   "cell_type": "code",
   "execution_count": null,
   "metadata": {},
   "outputs": [],
   "source": [
    "# From: ftp://ftp.ebi.ac.uk/pub/databases/gencode/Gencode_human/release_32/gencode.v32.annotation.gtf.gz\n",
    "# You can analyze the code later\n",
    "gene_annotations = pd.read_csv(os.path.join(DIR, 'gencode.v32.annotation.gtf.gz'), sep = '\\t', comment = '#', \\\n",
    "        names = ['chr', 'source', 'type', 'start', 'end', 'score', 'strand', 'phase', 'extra_fields'])\n",
    "        \n",
    "def parse_extra_fields(raw_extra_fields):\n",
    "\n",
    "    extra_fields = {}\n",
    "\n",
    "    for raw_extra_field in raw_extra_fields[:-1].split(';'):\n",
    "        key, raw_value = raw_extra_field.strip().split(' ')\n",
    "        value = raw_value.strip('\"')\n",
    "        extra_fields[key] = value\n",
    "        \n",
    "    return extra_fields\n",
    "        \n",
    "gene_annotations['extra_fields'] = gene_annotations['extra_fields'].apply(parse_extra_fields)\n",
    "\n",
    "genes = gene_annotations[gene_annotations['type'] == 'gene'].copy()\n",
    "genes['gene_type'] = genes['extra_fields'].apply(lambda extra_fields: extra_fields['gene_type']) \n",
    "\n",
    "gene_types_per_chromosome = genes.groupby(['chr', 'gene_type']).size().unstack()[['protein_coding', 'miRNA']]\\\n",
    "        .fillna(0).astype(int)\n",
    "\n",
    "# remove the labels for column and row indeces\n",
    "gene_types_per_chromosome.columns.name = None\n",
    "gene_types_per_chromosome.index.name = None\n",
    "\n",
    "display(gene_types_per_chromosome)"
   ]
  },
  {
   "cell_type": "code",
   "execution_count": null,
   "metadata": {},
   "outputs": [],
   "source": [
    "_, pval, _, expected_data = chi2_contingency(gene_types_per_chromosome)\n",
    "print('%.2f of the expected values are above 5, %.2f are above 1' % (np.mean(expected_data >= 5), np.mean(expected_data >= 1)))\n",
    "print('p-value = %e' % pval)"
   ]
  },
  {
   "cell_type": "markdown",
   "metadata": {},
   "source": [
    "Different chromosomes have a tendency toward different gene types, but we don't know which are the chromosomes with a significantly unexpected tendency.\n",
    "__It's important not to confuse significance with strength/effect size!__"
   ]
  },
  {
   "cell_type": "markdown",
   "metadata": {},
   "source": [
    "# Permutation tests"
   ]
  },
  {
   "cell_type": "code",
   "execution_count": null,
   "metadata": {},
   "outputs": [],
   "source": [
    "# Null hypothesis: (random) mutations distribute uniformly\n",
    "# Alternative: they do not (i.e. there is a region of at least 300bps that is \"protected\" against mutations)\n",
    "# What will be our p value? 5%?\n",
    "\n",
    "GENE_SIZE = 1000\n",
    "N_MUTATIONS = 15\n",
    "OBSERVED_GAP_SIZE = 300\n",
    "\n",
    "N_PERMUTATIONS = 5000\n",
    "\n",
    "count = 0\n",
    "sampled_max_gaps = []\n",
    "\n",
    "for _ in range(N_PERMUTATIONS):\n",
    "    \n",
    "    # not the most efficient way to do this, but we are not running a large number of simulations\n",
    "    sampled_mutation_locations = np.random.choice(np.arange(GENE_SIZE), N_MUTATIONS, replace = False)\n",
    "    # sort random mutations between the start and the end of the gene\n",
    "    # calculate gaps between them using np.diff\n",
    "    gaps = np.diff(np.concatenate([[0], np.sort(sampled_mutation_locations), [GENE_SIZE - 1]]))\n",
    "    max_gap = np.max(gaps) # select the largest gap\n",
    "    \n",
    "    # see whether the simulated result is equal to or more extreme than the result we've observed\n",
    "    if max_gap >= OBSERVED_GAP_SIZE:\n",
    "        count += 1\n",
    "        \n",
    "    sampled_max_gaps.append(max_gap)\n",
    "\n",
    "# in this case we most probably only need one-tailed since we are looking only for \"larger than (or equal)\"\n",
    "# however, since we have to be objective and sceptical, it is generally more appropriate to use two-tailed pval \n",
    "one_tailed_pval = count / N_PERMUTATIONS\n",
    "two_tailed_pval = 2 * one_tailed_pval\n",
    "print('Estimated p-value - one-tailed: %.3f, two-tailed: %.3f' % (one_tailed_pval, two_tailed_pval))"
   ]
  },
  {
   "cell_type": "code",
   "execution_count": null,
   "metadata": {},
   "outputs": [],
   "source": [
    "fig, ax = plt.subplots()\n",
    "ax.hist(sampled_max_gaps, bins = 30, color = 'teal')\n",
    "ax.axvline(300, linestyle = '--')"
   ]
  },
  {
   "cell_type": "markdown",
   "metadata": {},
   "source": [
    "### The Downsides\n",
    "\n",
    "Can be very computationally expensive for accurate estimation of low p-values (impractical for very low ones)\n",
    "\n",
    "Results may change every time you run the test"
   ]
  },
  {
   "cell_type": "markdown",
   "metadata": {},
   "source": [
    "# Multiple testing"
   ]
  },
  {
   "cell_type": "code",
   "execution_count": null,
   "metadata": {},
   "outputs": [],
   "source": [
    "total_genes = gene_types_per_chromosome.sum()\n",
    "print(total_genes)\n",
    "print('Total miRNA frequency: %.3f' % (total_genes['miRNA'] / total_genes.sum()))\n",
    "\n",
    "def test_chromosome_genes(chr_genes):\n",
    "    \n",
    "    other_genes = total_genes - chr_genes\n",
    "    \n",
    "    chr_miRNA_freq = chr_genes['miRNA'] / chr_genes.sum()\n",
    "    other_miRNA_freq = other_genes['miRNA'] / other_genes.sum()\n",
    "    RR = chr_miRNA_freq / other_miRNA_freq # We can actually compute RR, not just OR\n",
    "    \n",
    "    contingency_table = pd.DataFrame.from_records([chr_genes, other_genes], index = [chr_genes.name, 'others'])\n",
    "    _, pval = fisher_exact(contingency_table)\n",
    "    \n",
    "    return pd.Series({'miRNA_freq': chr_miRNA_freq, 'RR': RR, 'pval': pval})\n",
    "\n",
    "gene_types_per_chromosome = pd.concat([gene_types_per_chromosome, gene_types_per_chromosome.apply(test_chromosome_genes, \\\n",
    "        axis = 1)], axis = 1).sort_values('pval')\n",
    "display(gene_types_per_chromosome)"
   ]
  },
  {
   "cell_type": "code",
   "execution_count": null,
   "metadata": {},
   "outputs": [],
   "source": [
    "from statsmodels.stats.multitest import multipletests\n",
    "\n",
    "gene_types_per_chromosome['FDR_significance'], gene_types_per_chromosome['FDR_qval'], _, _ = \\\n",
    "        multipletests(gene_types_per_chromosome['pval'], method = 'fdr_bh')\n",
    "gene_types_per_chromosome['Bonferroni_significance'], gene_types_per_chromosome['Bonferroni_qval'], _, _ = \\\n",
    "        multipletests(gene_types_per_chromosome['pval'], method = 'bonferroni')\n",
    "\n",
    "display(gene_types_per_chromosome)"
   ]
  },
  {
   "cell_type": "code",
   "execution_count": null,
   "metadata": {},
   "outputs": [],
   "source": [
    "genome_lengths_per_group = viralzone_genome_length_per_genus.groupby('Group')['Genome Length']\n",
    "group_names, group_lengths = zip(*genome_lengths_per_group)\n",
    "group_sizes = list(map(len, group_lengths))\n",
    "\n",
    "fig, ax = plt.subplots(figsize = (12, 6))\n",
    "ax.boxplot(list(map(np.log10, group_lengths)), showmeans = True)\n",
    "ax.set_xticklabels(['%s (%d)' % group_name_and_size for group_name_and_size in zip(group_names, group_sizes)])\n",
    "ax.set_ylabel('Log10 Genome Length')"
   ]
  },
  {
   "cell_type": "code",
   "execution_count": null,
   "metadata": {},
   "outputs": [],
   "source": [
    "global_genome_length_avg = viralzone_genome_length_per_genus['Genome Length'].mean()\n",
    "print('Gloabal genome length average: %d' % global_genome_length_avg)\n",
    "\n",
    "group_genome_lengths = pd.DataFrame({'#': group_sizes, 'avg': list(map(np.average, group_lengths)), \\\n",
    "        'std': list(map(np.std, group_lengths))}, index = group_names)\n",
    "group_genome_lengths['avg_ratio'] = group_genome_lengths['avg'] / global_genome_length_avg\n",
    "\n",
    "def calc_pval(group_name, lengths):\n",
    "    other_mask = (viralzone_genome_length_per_genus['Group'] != group_name)\n",
    "    other_lengths = viralzone_genome_length_per_genus.loc[other_mask, 'Genome Length']\n",
    "    _, pval = ttest_ind(lengths, other_lengths, equal_var = False)\n",
    "    return pval\n",
    "\n",
    "group_genome_lengths['pval'] = [calc_pval(group_name, lengths) for group_name, lengths in genome_lengths_per_group]\n",
    "group_genome_lengths.sort_values('pval', inplace = True)\n",
    "\n",
    "group_genome_lengths['Bonferroni_significance'], group_genome_lengths['Bonferroni_qval'], _, _ = \\\n",
    "        multipletests(group_genome_lengths['pval'], method = 'bonferroni')\n",
    "\n",
    "display(group_genome_lengths)"
   ]
  }
 ],
 "metadata": {
  "kernelspec": {
   "display_name": "Python 3 (ipykernel)",
   "language": "python",
   "name": "python3"
  },
  "language_info": {
   "codemirror_mode": {
    "name": "ipython",
    "version": 3
   },
   "file_extension": ".py",
   "mimetype": "text/x-python",
   "name": "python",
   "nbconvert_exporter": "python",
   "pygments_lexer": "ipython3",
   "version": "3.7.13"
  }
 },
 "nbformat": 4,
 "nbformat_minor": 1
}
