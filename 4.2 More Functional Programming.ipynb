{
 "cells": [
  {
   "cell_type": "markdown",
   "metadata": {},
   "source": [
    "# itertools"
   ]
  },
  {
   "cell_type": "code",
   "execution_count": null,
   "metadata": {},
   "outputs": [],
   "source": [
    "# The 'itertools' module contains a lot of goodies for working with sequences and iterating over them that can be\n",
    "# surprisingly useful.\n",
    "\n",
    "from itertools import repeat, chain, cycle, product, permutations, groupby"
   ]
  },
  {
   "cell_type": "code",
   "execution_count": null,
   "metadata": {},
   "outputs": [],
   "source": [
    "# repeat does guess what? :D\n",
    "A_10_times = repeat('A', 10)\n",
    "print(A_10_times)\n",
    "print(next(A_10_times))"
   ]
  },
  {
   "cell_type": "code",
   "execution_count": null,
   "metadata": {},
   "outputs": [],
   "source": [
    "print(list(repeat('A', 10)))"
   ]
  },
  {
   "cell_type": "code",
   "execution_count": null,
   "metadata": {},
   "outputs": [],
   "source": [
    "# chain chains the list of lists into a single list\n",
    "print(list(chain([1, 2, 3], [4, 5, 6], [7, 8])))"
   ]
  },
  {
   "cell_type": "code",
   "execution_count": null,
   "metadata": {},
   "outputs": [],
   "source": [
    "# cyclic counter cycles through the elements repeatedly untill we tell it to stop\n",
    "cyclic_counter = cycle(range(3))\n",
    "\n",
    "for _ in range(10):\n",
    "    print(next(cyclic_counter))"
   ]
  },
  {
   "cell_type": "code",
   "execution_count": null,
   "metadata": {},
   "outputs": [],
   "source": [
    "# product gives us all possible combinations of elements from different lists\n",
    "print(list(product('AB', 'CD')))"
   ]
  },
  {
   "cell_type": "code",
   "execution_count": null,
   "metadata": {},
   "outputs": [],
   "source": [
    "BASES = 'ACGT' # Python convention is upper-case names for constants (variables that are hard-coded / will not be changed)\n",
    "print(list(product(BASES, BASES, BASES)))"
   ]
  },
  {
   "cell_type": "code",
   "execution_count": null,
   "metadata": {},
   "outputs": [],
   "source": [
    "all_codons = [''.join(codon) for codon in product(BASES, BASES, BASES)]\n",
    "print(all_codons)"
   ]
  },
  {
   "cell_type": "code",
   "execution_count": null,
   "metadata": {},
   "outputs": [],
   "source": [
    "# permutations gives us all possible options without duplicating the element\n",
    "print(list(permutations(BASES, 3)))"
   ]
  },
  {
   "cell_type": "code",
   "execution_count": null,
   "metadata": {},
   "outputs": [],
   "source": [
    "# groupby groups elements based on the applied \"filter\"\n",
    "# (it's important to have the data sorted first)\n",
    "for codon_prefix, codon_group in groupby(all_codons, lambda codon: codon[:2]):\n",
    "    print(codon_prefix, list(codon_group))"
   ]
  },
  {
   "cell_type": "markdown",
   "metadata": {},
   "source": [
    "# \\*args and \\*\\*kwargs\n",
    "If we want a function with a flexible number of arguments (e.g.)"
   ]
  },
  {
   "cell_type": "code",
   "execution_count": null,
   "metadata": {},
   "outputs": [],
   "source": [
    "# Let's take a look at Python's max() function:\n",
    "print(max([1, 2, 3]))\n",
    "print(max(1, 2))\n",
    "print(max(1, 2, 3, 4, 5))"
   ]
  },
  {
   "cell_type": "code",
   "execution_count": null,
   "metadata": {},
   "outputs": [],
   "source": [
    "# It seems to take a variable number of arguments - can we do that in our own functions?\n",
    "\n",
    "def f(*args):\n",
    "    # 'args' will be a tuple containing all the non-named arguments in order.\n",
    "    print(args)\n",
    "\n",
    "f(1, 2)\n",
    "f(1, 2, 3)\n",
    "f([1, 2, 3]) # a list is taken as a first element in the tuple\n",
    "f()"
   ]
  },
  {
   "cell_type": "code",
   "execution_count": null,
   "metadata": {},
   "outputs": [],
   "source": [
    "# 'args' is just a tuple, so we can check its length, iterate and get values from it.\n",
    "\n",
    "def my_max(*args):\n",
    "    \n",
    "    if len(args) == 1:\n",
    "        values = args[0] # we consider that single element *args is a list\n",
    "    else:\n",
    "        values = args\n",
    "    \n",
    "    max_value = None\n",
    "    \n",
    "    for value in values:\n",
    "        if max_value is None or max_value < value:\n",
    "            max_value = value\n",
    "    \n",
    "    return max_value\n",
    "\n",
    "print(my_max([1, 2, 3]))\n",
    "print(my_max(1, 2))\n",
    "print(my_max(1, 2, 3, 4, 5))"
   ]
  },
  {
   "cell_type": "code",
   "execution_count": null,
   "metadata": {},
   "outputs": [],
   "source": [
    "# *args can come after regular arguments. Here f can takes 2 or more arguments:\n",
    "\n",
    "def f(a, b, *args):\n",
    "    return [a * x + b for x in args]\n",
    "    \n",
    "print(f(2, 5, 10, 11, 12))"
   ]
  },
  {
   "cell_type": "code",
   "execution_count": null,
   "metadata": {},
   "outputs": [],
   "source": [
    "# *args should be at the end of the argument list.\n",
    "\n",
    "def f(a, *args, b):\n",
    "    return [a * x + b for x in args]\n",
    "    \n",
    "f(1, 2, 3, 4, 5)"
   ]
  },
  {
   "cell_type": "code",
   "execution_count": null,
   "metadata": {},
   "outputs": [],
   "source": [
    "# There is also an equivalent for keyword arguments. Consider the function str.format() which expects kwargs:\n",
    "print(\"To be fair, {what} is unpredictable, so I just {do}...\".format(what = 'life', do = 'go with the flow'))"
   ]
  },
  {
   "cell_type": "code",
   "execution_count": null,
   "metadata": {},
   "outputs": [],
   "source": [
    "# 'kwargs' will be a dictionary collecting all of the undeclared keyword arguments passed to the function:\n",
    "\n",
    "def f(**kwargs):\n",
    "    print(kwargs)\n",
    "\n",
    "f(white = 'black', true = 'false', answer = 42)\n",
    "f()"
   ]
  },
  {
   "cell_type": "code",
   "execution_count": null,
   "metadata": {},
   "outputs": [],
   "source": [
    "# Option 1\n",
    "\n",
    "def f(dictionary):\n",
    "    return ', '.join(['%s = %s' % (str(key), str(value)) for key, value in sorted(dictionary.items())])\n",
    "    \n",
    "print(f({'a': 1, 'b': 3}))\n",
    "\n",
    "\n",
    "# Option 2 - same thing\n",
    "\n",
    "def f(**kwargs):\n",
    "    return ', '.join(['%s = %s' % (str(key), str(value)) for key, value in sorted(kwargs.items())])\n",
    "    \n",
    "print(f(b = 3, a = 1))"
   ]
  },
  {
   "cell_type": "code",
   "execution_count": null,
   "metadata": {},
   "outputs": [],
   "source": [
    "# FYI: Also a legitimate way to define dictionaries (using keyword arguments)\n",
    "dict(a = 1, b = 3)"
   ]
  },
  {
   "cell_type": "code",
   "execution_count": null,
   "metadata": {},
   "outputs": [],
   "source": [
    "def f(a, b = 0, **kwargs):\n",
    "    return {key: a * value + b for key, value in kwargs.items()}\n",
    "    \n",
    "print(f(3, x = 5, y = 6))"
   ]
  },
  {
   "cell_type": "code",
   "execution_count": null,
   "metadata": {},
   "outputs": [],
   "source": [
    "# *args and **kwargs can be combined (and passed as variables, obviously...)\n",
    "args_list = [1, 7, '8']\n",
    "kwargs_dict = dict(aaa = 'bbb', ccc = 'ddd')\n",
    "\n",
    "def f(*args, **kwargs):\n",
    "    return (args, kwargs)\n",
    "    \n",
    "print(f(*args_list, **kwargs_dict))"
   ]
  }
 ],
 "metadata": {
  "kernelspec": {
   "display_name": "Python 3",
   "language": "python",
   "name": "python3"
  },
  "language_info": {
   "codemirror_mode": {
    "name": "ipython",
    "version": 3
   },
   "file_extension": ".py",
   "mimetype": "text/x-python",
   "name": "python",
   "nbconvert_exporter": "python",
   "pygments_lexer": "ipython3",
   "version": "3.7.10"
  }
 },
 "nbformat": 4,
 "nbformat_minor": 1
}
