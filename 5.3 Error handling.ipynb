{
 "cells": [
  {
   "cell_type": "code",
   "execution_count": null,
   "metadata": {},
   "outputs": [],
   "source": [
    "import os\n",
    "\n",
    "DIR = r'c://downloads'"
   ]
  },
  {
   "cell_type": "markdown",
   "metadata": {},
   "source": [
    "# Stack traces"
   ]
  },
  {
   "cell_type": "code",
   "execution_count": null,
   "metadata": {},
   "outputs": [],
   "source": [
    "# Error example\n",
    "def f1(x):\n",
    "    return 1 / x\n",
    "\n",
    "def f2(a, b):\n",
    "    y1 = f1(a + b)\n",
    "    y2 = f1(a - b)\n",
    "    return y1 - y2\n",
    "    \n",
    "print(f2(5, 5))"
   ]
  },
  {
   "cell_type": "code",
   "execution_count": null,
   "metadata": {},
   "outputs": [],
   "source": [
    "# If looking for an explanation, Google search for: ValueError: invalid literal for int() with base 10\n",
    "print(int('1712312.123112'))"
   ]
  },
  {
   "cell_type": "markdown",
   "metadata": {},
   "source": [
    "# Catching exceptions"
   ]
  },
  {
   "cell_type": "code",
   "execution_count": null,
   "metadata": {},
   "outputs": [],
   "source": [
    "raw_number = '1712312.123112'\n",
    "\n",
    "try:\n",
    "    number = int(raw_number)\n",
    "    print('%d %% 2 = %d' % (number, number % 2))\n",
    "except ValueError: # we can specify a different type, or put a wild except...\n",
    "    print('Invalid integer.')\n",
    "    \n",
    "print('Code can run after an error.')"
   ]
  },
  {
   "cell_type": "code",
   "execution_count": null,
   "metadata": {},
   "outputs": [],
   "source": [
    "# Lines in 'try' are executed, until an exception is raised.\n",
    "\n",
    "try:\n",
    "    print('line 1')\n",
    "    number = int(raw_number)\n",
    "    print('line 2')\n",
    "    print('%d %% 2 = %d' % (number, number % 2))\n",
    "except ValueError:\n",
    "    print('Invalid integer.')"
   ]
  },
  {
   "cell_type": "code",
   "execution_count": null,
   "metadata": {},
   "outputs": [],
   "source": [
    "# Can also use wild expect, but it's not recommended\n",
    "\n",
    "try:\n",
    "    number = int(raw_number)\n",
    "    print('%d %% 2 = %d' % (number, number % 2))\n",
    "except:\n",
    "    print('Something bad happened.')"
   ]
  },
  {
   "cell_type": "code",
   "execution_count": null,
   "metadata": {},
   "outputs": [],
   "source": [
    "def f(raw_number):\n",
    "    try:\n",
    "        number = int(raw_number)\n",
    "        print('1 / %d = %f' % (number, 1 / number))\n",
    "    except ValueError:\n",
    "        print('Invalid integer.')\n",
    "    except ZeroDivisionError:\n",
    "        print('Zero division.')\n",
    "    except:\n",
    "        print('Unexpected error.')\n",
    "    \n",
    "f('5')\n",
    "f('13.3')\n",
    "f('0')\n",
    "f({})"
   ]
  },
  {
   "cell_type": "markdown",
   "metadata": {},
   "source": [
    "# else"
   ]
  },
  {
   "cell_type": "code",
   "execution_count": null,
   "metadata": {},
   "outputs": [],
   "source": [
    "raw_number = '1712312'\n",
    "\n",
    "try:\n",
    "    number = int(raw_number)\n",
    "    print('%d %% 2 = %d' % (number, number % 2))\n",
    "except ValueError:\n",
    "    print('Invalid integer.')\n",
    "else: # excecuted only if no error occured\n",
    "    print('It actually worked!')"
   ]
  },
  {
   "cell_type": "markdown",
   "metadata": {},
   "source": [
    "# The Exception object"
   ]
  },
  {
   "cell_type": "code",
   "execution_count": null,
   "metadata": {},
   "outputs": [],
   "source": [
    "raw_number = '1712312.123112'\n",
    "\n",
    "try:\n",
    "    number = int(raw_number)\n",
    "    print('%d % 2 = %d' % (number, number % 2))\n",
    "except ValueError as e: # save the error as a variable...\n",
    "    print('Error: ' + str(e))\n",
    "    print(type(e))"
   ]
  },
  {
   "cell_type": "markdown",
   "metadata": {},
   "source": [
    "Note: The syntax used to be \"except ValueError, e:\" in Python 2."
   ]
  },
  {
   "cell_type": "markdown",
   "metadata": {},
   "source": [
    "# Raising exceptions"
   ]
  },
  {
   "cell_type": "code",
   "execution_count": null,
   "metadata": {},
   "outputs": [],
   "source": [
    "def convert_dna_nt_to_rna(nt):\n",
    "    if nt == 'T':\n",
    "        return 'U'\n",
    "    elif nt in 'ACG':\n",
    "        return nt\n",
    "    else:\n",
    "        raise ValueError('Invalid DNA nucleotide: ' + str(nt))\n",
    "        \n",
    "print(''.join(map(convert_dna_nt_to_rna, 'ACGUGACCAGU')))"
   ]
  },
  {
   "cell_type": "code",
   "execution_count": null,
   "metadata": {},
   "outputs": [],
   "source": [
    "dna_seq = 'ACGUGACCAGU'\n",
    "\n",
    "try:\n",
    "    print(''.join(map(convert_dna_nt_to_rna, dna_seq)))\n",
    "except Exception as e:\n",
    "    print('Invalid DNA seq: ' + dna_seq)\n",
    "    print('Reason: ' + str(e))"
   ]
  },
  {
   "cell_type": "code",
   "execution_count": null,
   "metadata": {},
   "outputs": [],
   "source": [
    "# It is better to raise specific errors\n",
    "# If no particular Error/Exception type makes sense, use the generic Exception class\n",
    "raise Exception('Some error message...')"
   ]
  },
  {
   "cell_type": "code",
   "execution_count": null,
   "metadata": {},
   "outputs": [],
   "source": [
    "# Can be useful to terminate a program in debugging\n",
    "# E.g. if we have multiple loops, break will only terminate the corresponding loop\n",
    "# Exception stops everything\n",
    "\n",
    "for i in range(7):\n",
    "    for j in range(5):\n",
    "    \n",
    "        for k in range(3):\n",
    "            print(i, j, k)\n",
    "        if j>1:\n",
    "            raise Exception()\n",
    "            # break\n",
    "        \n",
    "print(1)\n",
    "print(2)\n",
    "print(3)"
   ]
  },
  {
   "cell_type": "code",
   "execution_count": null,
   "metadata": {},
   "outputs": [],
   "source": [
    "# the variables are still available to us, so we can check how far the program has run...\n",
    "j"
   ]
  },
  {
   "cell_type": "markdown",
   "metadata": {},
   "source": [
    "# finally"
   ]
  },
  {
   "cell_type": "code",
   "execution_count": null,
   "metadata": {},
   "outputs": [],
   "source": [
    "# When an error is encountered, important resources may remained open!\n",
    "# E.g. the file has remained open\n",
    "\n",
    "f = open(os.path.join(DIR, 'output.txt'), 'w')\n",
    "\n",
    "for nt in dna_seq:\n",
    "    f.write('%s --> %s' % (nt, convert_dna_nt_to_rna(nt)))\n",
    "\n",
    "f.close()"
   ]
  },
  {
   "cell_type": "code",
   "execution_count": null,
   "metadata": {},
   "outputs": [],
   "source": [
    "print(f.closed)\n",
    "f.close()"
   ]
  },
  {
   "cell_type": "code",
   "execution_count": null,
   "metadata": {},
   "outputs": [],
   "source": [
    "# One way to do it (not the best way):\n",
    "# Make sure to close f no matter what happens\n",
    "\n",
    "f = open(os.path.join(DIR, 'output.txt'), 'w')\n",
    "\n",
    "try:\n",
    "    \n",
    "    for nt in dna_seq:\n",
    "        f.write('%s --> %s' % (nt, convert_dna_nt_to_rna(nt)))\n",
    "    \n",
    "    f.close()\n",
    "except Exception as e:\n",
    "    f.close()\n",
    "    raise e"
   ]
  },
  {
   "cell_type": "code",
   "execution_count": null,
   "metadata": {},
   "outputs": [],
   "source": [
    "print(f.closed)"
   ]
  },
  {
   "cell_type": "code",
   "execution_count": null,
   "metadata": {},
   "outputs": [],
   "source": [
    "# A more reasonable solution: use finally!\n",
    "\n",
    "f = open(os.path.join(DIR, 'output.txt'), 'w')\n",
    "\n",
    "try:\n",
    "    for nt in dna_seq:\n",
    "        f.write('%s --> %s' % (nt, convert_dna_nt_to_rna(nt)))\n",
    "finally:\n",
    "    f.close()"
   ]
  },
  {
   "cell_type": "code",
   "execution_count": null,
   "metadata": {},
   "outputs": [],
   "source": [
    "print(f.closed)"
   ]
  },
  {
   "cell_type": "code",
   "execution_count": null,
   "metadata": {},
   "outputs": [],
   "source": [
    "# Can be combined with 'except' statements\n",
    "\n",
    "f = open(os.path.join(DIR, 'output.txt'), 'w')\n",
    "\n",
    "try:\n",
    "    for nt in dna_seq:\n",
    "        f.write('%s --> %s' % (nt, convert_dna_nt_to_rna(nt)))\n",
    "except ValueError:\n",
    "    print('Invalid DNA seq: ' + dna_seq)\n",
    "finally:\n",
    "    f.close()\n",
    "    \n",
    "print(f.closed)"
   ]
  },
  {
   "cell_type": "markdown",
   "metadata": {},
   "source": [
    "# with"
   ]
  },
  {
   "cell_type": "code",
   "execution_count": null,
   "metadata": {},
   "outputs": [],
   "source": [
    "# we can write the code in such a way to make sure the file closes...\n",
    "\n",
    "text = 'Hello world!'\n",
    "\n",
    "# Option 1 - what we've been doing so far\n",
    "\n",
    "f = open(os.path.join(DIR, 'output1.txt'), 'w')\n",
    "\n",
    "try:\n",
    "    f.write(text)\n",
    "finally:\n",
    "    f.close()\n",
    "\n",
    "# Option 2 - recommended way to open a file\n",
    "# As soon as the block executes, the file closes (even with an error)\n",
    "\n",
    "with open(os.path.join(DIR, 'output2.txt'), 'w') as f:\n",
    "    f.write(text)"
   ]
  },
  {
   "cell_type": "markdown",
   "metadata": {},
   "source": [
    "# Validations & assert"
   ]
  },
  {
   "cell_type": "code",
   "execution_count": null,
   "metadata": {},
   "outputs": [],
   "source": [
    "# It's a good practice to validate inputs to functions\n",
    "# Can save a lot of time later on, especially with more complex code\n",
    "\n",
    "def extract_subseq(seq, start, end):\n",
    "\n",
    "    '''\n",
    "    Extracts a subsequence given 1-based coordinates.\n",
    "    '''\n",
    "    \n",
    "    if start >= end:\n",
    "        raise ValueError('\"start\" must be smaller than \"end\".')\n",
    "    \n",
    "    if start <= 0:\n",
    "        raise ValueError('\"start\" must be positive.')\n",
    "        \n",
    "    if end > len(seq):\n",
    "        raise ValueError('\"end\" must not exceed the sequence length.')\n",
    "        \n",
    "    return seq[(start - 1):end]\n",
    "    \n",
    "print(extract_subseq('ACGTGAGT', 3, 5))\n",
    "print(extract_subseq('ACGTGAGT', 3, 2))"
   ]
  },
  {
   "cell_type": "code",
   "execution_count": null,
   "metadata": {},
   "outputs": [],
   "source": [
    "# A simpler way to do that\n",
    "# (and maybe more intuitive - since we specify what should happen)\n",
    "\n",
    "def extract_subseq(seq, start, end):\n",
    "    assert start < end, '\"start\" must be smaller than \"end\".'\n",
    "    assert start > 0, '\"start\" must be positive.'\n",
    "    assert end <= len(seq), '\"end\" must not exceed the sequence length.'\n",
    "    return seq[(start - 1):end]\n",
    "    \n",
    "print(extract_subseq('ACGTGAGT', 3, 5))\n",
    "print(extract_subseq('ACGTGAGT', 3, 2))"
   ]
  }
 ],
 "metadata": {
  "kernelspec": {
   "display_name": "Python 3 (ipykernel)",
   "language": "python",
   "name": "python3"
  },
  "language_info": {
   "codemirror_mode": {
    "name": "ipython",
    "version": 3
   },
   "file_extension": ".py",
   "mimetype": "text/x-python",
   "name": "python",
   "nbconvert_exporter": "python",
   "pygments_lexer": "ipython3",
   "version": "3.7.13"
  }
 },
 "nbformat": 4,
 "nbformat_minor": 1
}
