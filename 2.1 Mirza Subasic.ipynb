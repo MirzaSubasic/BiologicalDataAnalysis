{
 "cells": [
  {
   "cell_type": "markdown",
   "source": [
    "# HOMEWORK 2.1\n",
    "\n",
    "### Option 1 - json\n",
    "\n",
    "###### Open the file “3 herpesvirus_genome.json”\n",
    "\n",
    "###### A: Parse it and find the frequency of each amino acid in the proteome of the herpesvirus. Print out the results. E.g. “Amino acid X: 5%”.\n",
    "\n",
    "###### B: Find the frequency of each amino acid, but separate the results based on the three categories of proteins: envelope, membrane, capsid. Print out the results – make a small comparison/conclusion.\n",
    "\n",
    "###### C: What are amino acids with the highest and the lowest frequencies in all four categories? (overall, envelope, membrane, capsid). Compare the polarity of these different amino acids… (note: amino acids can be divided, based on their properties, into polar and nonpolar (e.g.). Find out online their division and reference the source – a link will do just fine.)\n",
    "\n",
    "###### D: What is the average hydrophobicity of four different protein groups? (overall, envelope, membrane, capsid)Calculate the average hydrophobicity per every group – add all hydrophobicity measures for all amino acids for all proteins per group, and take the average for the entire group. Comment on the comparison and find explanations online if necessary (provide reference).Use the following hydrophobicity scale: (I=4.5, V=4.2, L=3.8, F=2.8, C=2.5, M=1.9, A=1.8, G=-0.4, T=-0.7, S=-0.8, W=-0.9, Y=-1.3, P=-1.6, H=-3.2, E=-3.5, Q=-3.5, D=-3.5, N=-3.5, K=-3.9, R=-4.5)\n"
   ],
   "metadata": {
    "collapsed": false
   }
  },
  {
   "cell_type": "code",
   "execution_count": null,
   "outputs": [],
   "source": [
    "import json\n",
    "\n",
    "f = open(r'C:\\Users\\mirza\\OneDrive\\Desktop\\Fakultet\\Biological Data Analysis with Python\\Code\\\\3 herpesvirus_genome.json', 'r')\n",
    "data = json.load(f)\n",
    "f.close()\n",
    "print(type(data))"
   ],
   "metadata": {
    "collapsed": false
   }
  }
 ],
 "metadata": {
  "kernelspec": {
   "display_name": "Python 3",
   "language": "python",
   "name": "python3"
  },
  "language_info": {
   "codemirror_mode": {
    "name": "ipython",
    "version": 2
   },
   "file_extension": ".py",
   "mimetype": "text/x-python",
   "name": "python",
   "nbconvert_exporter": "python",
   "pygments_lexer": "ipython2",
   "version": "2.7.6"
  }
 },
 "nbformat": 4,
 "nbformat_minor": 0
}
