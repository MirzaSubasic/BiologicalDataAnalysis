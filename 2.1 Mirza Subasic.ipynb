{
 "cells": [
  {
   "cell_type": "markdown",
   "source": [
    "# HOMEWORK 2.1\n",
    "\n",
    "### Option 1 - json\n",
    "\n",
    "###### Open the file “3 herpesvirus_genome.json”\n",
    "\n",
    "###### A: Parse it and find the frequency of each amino acid in the proteome of the herpesvirus. Print out the results. E.g. “Amino acid X: 5%”.\n",
    "\n",
    "###### B: Find the frequency of each amino acid, but separate the results based on the three categories of proteins: envelope, membrane, capsid. Print out the results – make a small comparison/conclusion.\n",
    "\n",
    "###### C: What are amino acids with the highest and the lowest frequencies in all four categories? (overall, envelope, membrane, capsid). Compare the polarity of these different amino acids… (note: amino acids can be divided, based on their properties, into polar and nonpolar (e.g.). Find out online their division and reference the source – a link will do just fine.)\n",
    "\n",
    "###### D: What is the average hydrophobicity of four different protein groups? (overall, envelope, membrane, capsid)Calculate the average hydrophobicity per every group – add all hydrophobicity measures for all amino acids for all proteins per group, and take the average for the entire group. Comment on the comparison and find explanations online if necessary (provide reference).Use the following hydrophobicity scale: (I=4.5, V=4.2, L=3.8, F=2.8, C=2.5, M=1.9, A=1.8, G=-0.4, T=-0.7, S=-0.8, W=-0.9, Y=-1.3, P=-1.6, H=-3.2, E=-3.5, Q=-3.5, D=-3.5, N=-3.5, K=-3.9, R=-4.5)\n"
   ],
   "metadata": {
    "collapsed": false
   }
  },
  {
   "cell_type": "code",
   "execution_count": null,
   "outputs": [],
   "source": [
    "import json\n",
    "from Bio.SeqUtils.ProtParam import ProteinAnalysis\n",
    "\n",
    "f = open(r'C:\\Users\\mirza\\OneDrive\\Desktop\\Fakultet\\Biological Data Analysis with Python\\Code\\3 herpesvirus_genome.json', 'r')\n",
    "data = json.load(f)\n",
    "f.close()\n"
   ],
   "metadata": {
    "collapsed": false
   }
  },
  {
   "cell_type": "code",
   "execution_count": null,
   "outputs": [],
   "source": [
    "#part A\n",
    "\n",
    "codingRegions = data['coding_regions']\n",
    "proteins = []\n",
    "\n",
    "for codingRegion in codingRegions:\n",
    "  for key, value in codingRegion.items():\n",
    "    if key == 'translation':\n",
    "      proteins.append(value)\n",
    "\n",
    "protein = \"\".join(proteins)\n",
    "\n",
    "aminoAcids = ['A', 'C', 'E', 'D', 'G', 'F', 'I', 'H', 'K', 'M', 'L', 'N','Q', 'P', 'S', 'R', 'T', 'W', 'V', 'Y']\n",
    "\n",
    "X = ProteinAnalysis(protein)\n",
    "\n",
    "for i in aminoAcids:\n",
    "  print(\"Amino acid\", i , \":\", round(X.count_amino_acids()[i]/len(protein)*100,2), \"%\")\n"
   ],
   "metadata": {
    "collapsed": false
   }
  },
  {
   "cell_type": "code",
   "execution_count": null,
   "outputs": [],
   "source": [
    "#part B\n",
    "products = {}\n",
    "\n",
    "for product in codingRegions:\n",
    "  for key, value in product.items():\n",
    "    if key == 'product':\n",
    "      newKey = value\n",
    "    if key == 'translation':\n",
    "      products.update({newKey: value})"
   ],
   "metadata": {
    "collapsed": false
   }
  },
  {
   "cell_type": "code",
   "execution_count": null,
   "outputs": [],
   "source": [
    "#part B - capsid\n",
    "capsidProducts = []\n",
    "\n",
    "for key, value in products.items():\n",
    "  if 'capsid' in key:\n",
    "    capsidProducts.append(value)\n",
    "\n",
    "capsidProducts = \"\".join(capsidProducts)\n",
    "\n",
    "capsidProductsForAminoAcidCounting = ProteinAnalysis(capsidProducts)\n",
    "\n",
    "for i in aminoAcids:\n",
    "  print(\"Amino acid\", i , \":\",\n",
    "        round(capsidProductsForAminoAcidCounting.count_amino_acids()[i]/len(capsidProducts)*100,2), \"%\")\n"
   ],
   "metadata": {
    "collapsed": false
   }
  },
  {
   "cell_type": "code",
   "execution_count": null,
   "outputs": [],
   "source": [
    "#part B - membrane\n",
    "membraneProducts = []\n",
    "\n",
    "for key, value in products.items():\n",
    "  if 'membrane' in key:\n",
    "    membraneProducts.append(value)\n",
    "\n",
    "membraneProducts = \"\".join(membraneProducts)\n",
    "\n",
    "membraneProductsForAminoAcidCounting = ProteinAnalysis(membraneProducts)\n",
    "\n",
    "for i in aminoAcids:\n",
    "  print(\"Amino acid\", i , \":\",\n",
    "        round(membraneProductsForAminoAcidCounting.count_amino_acids()[i]/len(membraneProducts)*100,2), \"%\")"
   ],
   "metadata": {
    "collapsed": false
   }
  },
  {
   "cell_type": "code",
   "execution_count": null,
   "outputs": [],
   "source": [
    "#part B - envelope\n",
    "envelopeProducts = []\n",
    "\n",
    "for key, value in products.items():\n",
    "  if 'envelope' in key:\n",
    "    envelopeProducts.append(value)\n",
    "\n",
    "envelopeProducts = \"\".join(envelopeProducts)\n",
    "\n",
    "envelopeProductsForAminoAcidCounting = ProteinAnalysis(envelopeProducts)\n",
    "\n",
    "for i in aminoAcids:\n",
    "    print(\"Amino acid\", i , \":\",\n",
    "        round(envelopeProductsForAminoAcidCounting.count_amino_acids()[i]/len(envelopeProducts)*100,2), \"%\")"
   ],
   "metadata": {
    "collapsed": false
   }
  },
  {
   "cell_type": "code",
   "execution_count": null,
   "outputs": [],
   "source": [
    "#part C\n",
    "#stores values in dictionary\n",
    "fullProteinAminoAcidFrequency = X.get_amino_acids_percent()\n",
    "capsidAminoAcidFrequency = capsidProductsForAminoAcidCounting.get_amino_acids_percent()\n",
    "membraneAminoAcidFrequency = membraneProductsForAminoAcidCounting.get_amino_acids_percent()\n",
    "envelopeAminoAcidFrequency = envelopeProductsForAminoAcidCounting.get_amino_acids_percent()\n",
    "\n",
    "\n",
    "for key, value in fullProteinAminoAcidFrequency.items():\n",
    "    if value == min(fullProteinAminoAcidFrequency.values()):\n",
    "        print(\"Min occurring amino acid in full protein is:\", key, round(value*100,2), \"%\")\n",
    "    if value == max(fullProteinAminoAcidFrequency.values()):\n",
    "        print(\"Max occurring amino acid in full protein is:\", key,round(value*100,2), \"%\")\n",
    "\n",
    "print()\n",
    "\n",
    "for key, value in capsidAminoAcidFrequency.items():\n",
    "    if value == min(capsidAminoAcidFrequency.values()):\n",
    "        print(\"Min occurring amino acid in capsid protein is:\", key, round(value*100,2), \"%\")\n",
    "    if value == max(capsidAminoAcidFrequency.values()):\n",
    "        print(\"Max occurring amino acid in capsid protein is:\", key,round(value*100,2), \"%\")\n",
    "\n",
    "print()\n",
    "\n",
    "for key, value in membraneAminoAcidFrequency.items():\n",
    "    if value == min(membraneAminoAcidFrequency.values()):\n",
    "        print(\"Min occurring amino acid in membrane protein is:\", key, round(value*100,2), \"%\")\n",
    "    if value == max(membraneAminoAcidFrequency.values()):\n",
    "        print(\"Max occurring amino acid in membrane protein is:\", key,round(value*100,2), \"%\")\n",
    "\n",
    "print()\n",
    "\n",
    "for key, value in envelopeAminoAcidFrequency.items():\n",
    "    if value == min(envelopeAminoAcidFrequency.values()):\n",
    "        print(\"Min occurring amino acid in envelope protein is:\", key, round(value*100,2), \"%\")\n",
    "    if value == max(envelopeAminoAcidFrequency.values()):\n",
    "        print(\"Max occurring amino acid in envelope protein is:\", key,round(value*100,2), \"%\")\n"
   ],
   "metadata": {
    "collapsed": false
   }
  },
  {
   "cell_type": "markdown",
   "source": [
    "### In all protein groups A amino acid is the most occurring one and W is least occurring one\n",
    "### A and W are non-polar amino acids"
   ],
   "metadata": {
    "collapsed": false
   }
  },
  {
   "cell_type": "code",
   "execution_count": null,
   "outputs": [],
   "source": [
    "#part D\n",
    "# .gravy() function uses KyteDoolitle scale as default which is same as given in homework\n",
    "# I=4.5, V=4.2, L=3.8, F=2.8, C=2.5, M=1.9, A=1.8, G=-0.4, T=-0.7, S=-0.8, W=-0.9, Y=-1.3,\n",
    "# P=-1.6, H=-3.2, E=-3.5, Q=-3.5, D=-3.5, N=-3.5, K=-3.9, R=-4.5\n",
    "\n",
    "print(\"Overall hydrophobicity is:\", X.gravy())\n",
    "\n",
    "capsidHydrophobicity = ProteinAnalysis(capsidProducts)\n",
    "print(\"Capsid hydrophobicity is:\", capsidHydrophobicity.gravy())\n",
    "\n",
    "membraneHydrophobicity = ProteinAnalysis(membraneProducts)\n",
    "print(\"Membrane hydrophobicity is:\", membraneHydrophobicity.gravy())\n",
    "\n",
    "envelopeHydrophobicity = ProteinAnalysis(envelopeProducts)\n",
    "print(\"Envelope hydrophobicity is:\", envelopeHydrophobicity.gravy())\n"
   ],
   "metadata": {
    "collapsed": false
   }
  },
  {
   "cell_type": "code",
   "execution_count": null,
   "outputs": [],
   "source": [],
   "metadata": {
    "collapsed": false
   }
  }
 ],
 "metadata": {
  "kernelspec": {
   "display_name": "Python 3",
   "language": "python",
   "name": "python3"
  },
  "language_info": {
   "codemirror_mode": {
    "name": "ipython",
    "version": 2
   },
   "file_extension": ".py",
   "mimetype": "text/x-python",
   "name": "python",
   "nbconvert_exporter": "python",
   "pygments_lexer": "ipython2",
   "version": "2.7.6"
  }
 },
 "nbformat": 4,
 "nbformat_minor": 0
}
