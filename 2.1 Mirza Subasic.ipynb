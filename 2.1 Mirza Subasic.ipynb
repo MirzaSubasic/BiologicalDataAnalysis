{
 "cells": [
  {
   "cell_type": "markdown",
   "source": [
    "# HOMEWORK 2.1\n",
    "\n",
    "### Option 1 - json\n",
    "\n",
    "###### Open the file “3 herpesvirus_genome.json”\n",
    "\n",
    "###### A: Parse it and find the frequency of each amino acid in the proteome of the herpesvirus. Print out the results. E.g. “Amino acid X: 5%”.\n",
    "\n",
    "###### B: Find the frequency of each amino acid, but separate the results based on the three categories of proteins: envelope, membrane, capsid. Print out the results – make a small comparison/conclusion.\n",
    "\n",
    "###### C: What are amino acids with the highest and the lowest frequencies in all four categories? (overall, envelope, membrane, capsid). Compare the polarity of these different amino acids… (note: amino acids can be divided, based on their properties, into polar and nonpolar (e.g.). Find out online their division and reference the source – a link will do just fine.)\n",
    "\n",
    "###### D: What is the average hydrophobicity of four different protein groups? (overall, envelope, membrane, capsid)Calculate the average hydrophobicity per every group – add all hydrophobicity measures for all amino acids for all proteins per group, and take the average for the entire group. Comment on the comparison and find explanations online if necessary (provide reference).Use the following hydrophobicity scale: (I=4.5, V=4.2, L=3.8, F=2.8, C=2.5, M=1.9, A=1.8, G=-0.4, T=-0.7, S=-0.8, W=-0.9, Y=-1.3, P=-1.6, H=-3.2, E=-3.5, Q=-3.5, D=-3.5, N=-3.5, K=-3.9, R=-4.5)\n"
   ],
   "metadata": {
    "collapsed": false
   }
  },
  {
   "cell_type": "code",
   "execution_count": 32,
   "outputs": [],
   "source": [
    "import json\n",
    "from Bio.SeqUtils.ProtParam import ProteinAnalysis\n",
    "\n",
    "f = open(r'C:\\Users\\mirza\\OneDrive\\Desktop\\Fakultet\\Biological Data Analysis with Python\\Code\\3 herpesvirus_genome.json', 'r')\n",
    "data = json.load(f)\n",
    "f.close()\n"
   ],
   "metadata": {
    "collapsed": false
   }
  },
  {
   "cell_type": "code",
   "execution_count": 33,
   "outputs": [
    {
     "name": "stdout",
     "output_type": "stream",
     "text": [
      "Amino acid A : 11.94 %\n",
      "Amino acid C : 2.06 %\n",
      "Amino acid E : 5.9 %\n",
      "Amino acid D : 5.85 %\n",
      "Amino acid G : 6.99 %\n",
      "Amino acid F : 3.57 %\n",
      "Amino acid I : 3.52 %\n",
      "Amino acid H : 2.03 %\n",
      "Amino acid K : 3.42 %\n",
      "Amino acid M : 2.33 %\n",
      "Amino acid L : 8.99 %\n",
      "Amino acid N : 2.84 %\n",
      "Amino acid Q : 2.69 %\n",
      "Amino acid P : 6.14 %\n",
      "Amino acid S : 7.78 %\n",
      "Amino acid R : 7.82 %\n",
      "Amino acid T : 5.54 %\n",
      "Amino acid W : 1.15 %\n",
      "Amino acid V : 6.7 %\n",
      "Amino acid Y : 2.72 %\n"
     ]
    }
   ],
   "source": [
    "#part A\n",
    "\n",
    "codingRegions = data['coding_regions']\n",
    "proteins = []\n",
    "\n",
    "for codingRegion in codingRegions:\n",
    "  for key, value in codingRegion.items():\n",
    "    if key == 'translation':\n",
    "      proteins.append(value)\n",
    "\n",
    "protein = \"\".join(proteins)\n",
    "\n",
    "aminoAcids = ['A', 'C', 'E', 'D', 'G', 'F', 'I', 'H', 'K', 'M', 'L', 'N','Q', 'P', 'S', 'R', 'T', 'W', 'V', 'Y']\n",
    "\n",
    "X = ProteinAnalysis(protein)\n",
    "\n",
    "for i in aminoAcids:\n",
    "  print(\"Amino acid\", i , \":\", round(X.count_amino_acids()[i]/len(protein)*100,2), \"%\")\n"
   ],
   "metadata": {
    "collapsed": false
   }
  },
  {
   "cell_type": "code",
   "execution_count": 34,
   "outputs": [],
   "source": [
    "#part B\n",
    "products = {}\n",
    "\n",
    "for product in codingRegions:\n",
    "  for key, value in product.items():\n",
    "    if key == 'product':\n",
    "      newKey = value\n",
    "    if key == 'translation':\n",
    "      products.update({newKey: value})"
   ],
   "metadata": {
    "collapsed": false
   }
  },
  {
   "cell_type": "code",
   "execution_count": 35,
   "outputs": [
    {
     "name": "stdout",
     "output_type": "stream",
     "text": [
      "Amino acid A : 11.81 %\n",
      "Amino acid C : 1.73 %\n",
      "Amino acid E : 5.37 %\n",
      "Amino acid D : 5.42 %\n",
      "Amino acid G : 7.38 %\n",
      "Amino acid F : 3.92 %\n",
      "Amino acid I : 3.46 %\n",
      "Amino acid H : 1.96 %\n",
      "Amino acid K : 2.52 %\n",
      "Amino acid M : 2.54 %\n",
      "Amino acid L : 9.64 %\n",
      "Amino acid N : 3.69 %\n",
      "Amino acid Q : 3.77 %\n",
      "Amino acid P : 6.31 %\n",
      "Amino acid S : 7.25 %\n",
      "Amino acid R : 7.86 %\n",
      "Amino acid T : 5.34 %\n",
      "Amino acid W : 0.81 %\n",
      "Amino acid V : 6.39 %\n",
      "Amino acid Y : 2.82 %\n"
     ]
    }
   ],
   "source": [
    "#part B - capsid\n",
    "capsidProducts = []\n",
    "\n",
    "for key, value in products.items():\n",
    "  if 'capsid' in key:\n",
    "    capsidProducts.append(value)\n",
    "\n",
    "capsidProducts = \"\".join(capsidProducts)\n",
    "\n",
    "capsidProductsForAminoAcidCounting = ProteinAnalysis(capsidProducts)\n",
    "\n",
    "for i in aminoAcids:\n",
    "  print(\"Amino acid\", i , \":\",\n",
    "        round(capsidProductsForAminoAcidCounting.count_amino_acids()[i]/len(capsidProducts)*100,2), \"%\")\n"
   ],
   "metadata": {
    "collapsed": false
   }
  },
  {
   "cell_type": "code",
   "execution_count": 36,
   "outputs": [
    {
     "name": "stdout",
     "output_type": "stream",
     "text": [
      "Amino acid A : 13.19 %\n",
      "Amino acid C : 2.55 %\n",
      "Amino acid E : 3.96 %\n",
      "Amino acid D : 5.1 %\n",
      "Amino acid G : 6.95 %\n",
      "Amino acid F : 2.46 %\n",
      "Amino acid I : 3.96 %\n",
      "Amino acid H : 2.29 %\n",
      "Amino acid K : 2.64 %\n",
      "Amino acid M : 2.64 %\n",
      "Amino acid L : 8.36 %\n",
      "Amino acid N : 2.46 %\n",
      "Amino acid Q : 2.99 %\n",
      "Amino acid P : 6.86 %\n",
      "Amino acid S : 8.62 %\n",
      "Amino acid R : 7.39 %\n",
      "Amino acid T : 7.12 %\n",
      "Amino acid W : 1.32 %\n",
      "Amino acid V : 6.86 %\n",
      "Amino acid Y : 2.29 %\n"
     ]
    }
   ],
   "source": [
    "#part B - membrane\n",
    "membraneProducts = []\n",
    "\n",
    "for key, value in products.items():\n",
    "  if 'membrane' in key:\n",
    "    membraneProducts.append(value)\n",
    "\n",
    "membraneProducts = \"\".join(membraneProducts)\n",
    "\n",
    "membraneProductsForAminoAcidCounting = ProteinAnalysis(membraneProducts)\n",
    "\n",
    "for i in aminoAcids:\n",
    "  print(\"Amino acid\", i , \":\",\n",
    "        round(membraneProductsForAminoAcidCounting.count_amino_acids()[i]/len(membraneProducts)*100,2), \"%\")"
   ],
   "metadata": {
    "collapsed": false
   }
  },
  {
   "cell_type": "code",
   "execution_count": 37,
   "outputs": [
    {
     "name": "stdout",
     "output_type": "stream",
     "text": [
      "Amino acid A : 11.47 %\n",
      "Amino acid C : 2.14 %\n",
      "Amino acid E : 4.6 %\n",
      "Amino acid D : 4.87 %\n",
      "Amino acid G : 6.89 %\n",
      "Amino acid F : 3.69 %\n",
      "Amino acid I : 4.3 %\n",
      "Amino acid H : 1.92 %\n",
      "Amino acid K : 2.92 %\n",
      "Amino acid M : 2.37 %\n",
      "Amino acid L : 9.36 %\n",
      "Amino acid N : 3.21 %\n",
      "Amino acid Q : 2.12 %\n",
      "Amino acid P : 5.29 %\n",
      "Amino acid S : 7.62 %\n",
      "Amino acid R : 5.86 %\n",
      "Amino acid T : 7.92 %\n",
      "Amino acid W : 1.23 %\n",
      "Amino acid V : 8.49 %\n",
      "Amino acid Y : 3.74 %\n"
     ]
    }
   ],
   "source": [
    "#part B - envelope\n",
    "envelopeProducts = []\n",
    "\n",
    "for key, value in products.items():\n",
    "  if 'envelope' in key:\n",
    "    envelopeProducts.append(value)\n",
    "\n",
    "envelopeProducts = \"\".join(envelopeProducts)\n",
    "\n",
    "envelopeProductsForAminoAcidCounting = ProteinAnalysis(envelopeProducts)\n",
    "\n",
    "for i in aminoAcids:\n",
    "    print(\"Amino acid\", i , \":\",\n",
    "        round(envelopeProductsForAminoAcidCounting.count_amino_acids()[i]/len(envelopeProducts)*100,2), \"%\")"
   ],
   "metadata": {
    "collapsed": false
   }
  },
  {
   "cell_type": "code",
   "execution_count": 38,
   "outputs": [
    {
     "name": "stdout",
     "output_type": "stream",
     "text": [
      "Max occurring amino acid in full protein is: A 11.94 %\n",
      "Min occurring amino acid in full protein is: W 1.15 %\n",
      "\n",
      "Max occurring amino acid in capsid protein is: A 11.81 %\n",
      "Min occurring amino acid in capsid protein is: W 0.81 %\n",
      "\n",
      "Max occurring amino acid in membrane protein is: A 13.19 %\n",
      "Min occurring amino acid in membrane protein is: W 1.32 %\n",
      "\n",
      "Max occurring amino acid in envelope protein is: A 11.47 %\n",
      "Min occurring amino acid in envelope protein is: W 1.23 %\n"
     ]
    }
   ],
   "source": [
    "#part C\n",
    "#stores values in dictionary\n",
    "fullProteinAminoAcidFrequency = X.get_amino_acids_percent()\n",
    "capsidAminoAcidFrequency = capsidProductsForAminoAcidCounting.get_amino_acids_percent()\n",
    "membraneAminoAcidFrequency = membraneProductsForAminoAcidCounting.get_amino_acids_percent()\n",
    "envelopeAminoAcidFrequency = envelopeProductsForAminoAcidCounting.get_amino_acids_percent()\n",
    "\n",
    "\n",
    "for key, value in fullProteinAminoAcidFrequency.items():\n",
    "    if value == min(fullProteinAminoAcidFrequency.values()):\n",
    "        print(\"Min occurring amino acid in full protein is:\", key, round(value*100,2), \"%\")\n",
    "    if value == max(fullProteinAminoAcidFrequency.values()):\n",
    "        print(\"Max occurring amino acid in full protein is:\", key,round(value*100,2), \"%\")\n",
    "\n",
    "print()\n",
    "\n",
    "for key, value in capsidAminoAcidFrequency.items():\n",
    "    if value == min(capsidAminoAcidFrequency.values()):\n",
    "        print(\"Min occurring amino acid in capsid protein is:\", key, round(value*100,2), \"%\")\n",
    "    if value == max(capsidAminoAcidFrequency.values()):\n",
    "        print(\"Max occurring amino acid in capsid protein is:\", key,round(value*100,2), \"%\")\n",
    "\n",
    "print()\n",
    "\n",
    "for key, value in membraneAminoAcidFrequency.items():\n",
    "    if value == min(membraneAminoAcidFrequency.values()):\n",
    "        print(\"Min occurring amino acid in membrane protein is:\", key, round(value*100,2), \"%\")\n",
    "    if value == max(membraneAminoAcidFrequency.values()):\n",
    "        print(\"Max occurring amino acid in membrane protein is:\", key,round(value*100,2), \"%\")\n",
    "\n",
    "print()\n",
    "\n",
    "for key, value in envelopeAminoAcidFrequency.items():\n",
    "    if value == min(envelopeAminoAcidFrequency.values()):\n",
    "        print(\"Min occurring amino acid in envelope protein is:\", key, round(value*100,2), \"%\")\n",
    "    if value == max(envelopeAminoAcidFrequency.values()):\n",
    "        print(\"Max occurring amino acid in envelope protein is:\", key,round(value*100,2), \"%\")\n"
   ],
   "metadata": {
    "collapsed": false
   }
  },
  {
   "cell_type": "markdown",
   "source": [
    "### In all protein groups A amino acid is the most occurring one and W is least occurring one\n",
    "### A and W are non-polar amino acids"
   ],
   "metadata": {
    "collapsed": false
   }
  },
  {
   "cell_type": "code",
   "execution_count": 39,
   "outputs": [
    {
     "name": "stdout",
     "output_type": "stream",
     "text": [
      "Overall hydrophobicity is: -0.2354492529985178\n",
      "Capsid hydrophobicity is: -0.21898218829516533\n",
      "Membrane hydrophobicity is: -0.11037818821460003\n",
      "Envelope hydrophobicity is: 0.06867025365103573\n"
     ]
    }
   ],
   "source": [
    "#part D\n",
    "# .gravy() function uses KyteDoolitle scale as default which is same as given in homework\n",
    "# I=4.5, V=4.2, L=3.8, F=2.8, C=2.5, M=1.9, A=1.8, G=-0.4, T=-0.7, S=-0.8, W=-0.9, Y=-1.3,\n",
    "# P=-1.6, H=-3.2, E=-3.5, Q=-3.5, D=-3.5, N=-3.5, K=-3.9, R=-4.5\n",
    "\n",
    "print(\"Overall hydrophobicity is:\", X.gravy())\n",
    "\n",
    "capsidHydrophobicity = ProteinAnalysis(capsidProducts)\n",
    "print(\"Capsid hydrophobicity is:\", capsidHydrophobicity.gravy())\n",
    "\n",
    "membraneHydrophobicity = ProteinAnalysis(membraneProducts)\n",
    "print(\"Membrane hydrophobicity is:\", membraneHydrophobicity.gravy())\n",
    "\n",
    "envelopeHydrophobicity = ProteinAnalysis(envelopeProducts)\n",
    "print(\"Envelope hydrophobicity is:\", envelopeHydrophobicity.gravy())\n"
   ],
   "metadata": {
    "collapsed": false
   }
  },
  {
   "cell_type": "code",
   "execution_count": 39,
   "outputs": [],
   "source": [],
   "metadata": {
    "collapsed": false
   }
  }
 ],
 "metadata": {
  "kernelspec": {
   "display_name": "Python 3",
   "language": "python",
   "name": "python3"
  },
  "language_info": {
   "codemirror_mode": {
    "name": "ipython",
    "version": 2
   },
   "file_extension": ".py",
   "mimetype": "text/x-python",
   "name": "python",
   "nbconvert_exporter": "python",
   "pygments_lexer": "ipython2",
   "version": "2.7.6"
  }
 },
 "nbformat": 4,
 "nbformat_minor": 0
}
