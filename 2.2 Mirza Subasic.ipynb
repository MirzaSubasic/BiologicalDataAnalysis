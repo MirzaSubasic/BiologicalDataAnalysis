{
 "cells": [
  {
   "cell_type": "markdown",
   "source": [
    "# HOMEWORK 2.1\n",
    "\n",
    "### Option 1\n",
    "\n",
    "###### Download the human transcriptome in fasta format from the following link (use the latest version GRCh38):  https://www.ncbi.nlm.nih.gov/genome/guide/human/\n",
    "\n",
    "###### A: Find the longest and the shortest human transcript. Use gzip and biopython modules. Print out the descriptions of those transcripts, their lengths, and their GC content.\n",
    "\n",
    "###### B: Find the longest transcript in RefSeq (NCBI) and download it in genbank full format. Print out the number of exons in this transcript. Find the ones with the highest and the lowest GC content.\n",
    "\n",
    "###### C: Calculate amino acid frequencies in both of these exons. Print out and compare the results.\n"
   ],
   "metadata": {
    "collapsed": false
   }
  },
  {
   "cell_type": "code",
   "execution_count": 65,
   "outputs": [],
   "source": [
    "import gzip\n",
    "from Bio import SeqIO\n",
    "from Bio.SeqUtils import GC\n",
    "from Bio.SeqUtils.ProtParam import ProteinAnalysis\n",
    "from Bio.Seq import Seq"
   ],
   "metadata": {
    "collapsed": false
   }
  },
  {
   "cell_type": "code",
   "execution_count": 66,
   "outputs": [
    {
     "name": "stdout",
     "output_type": "stream",
     "text": [
      "Shortest transcript has description: NR_003499.1 Homo sapiens small nucleolar RNA, C/D box 115-47 (SNORD115-47), small nucleolar RNA     /// GC content of: 33.33 % and length of: 33\n",
      "Longest transcript has description: NM_001267550.2 Homo sapiens titin (TTN), transcript variant IC, mRNA     /// GC content of: 44.07 % and length of: 109224\n"
     ]
    }
   ],
   "source": [
    "shortestDescription, longestDescription = \"\", \"\"\n",
    "shortestGCContent, longestGCContent = 0.0, 0.0\n",
    "shortestLength, longestLength = 200000, 0\n",
    "\n",
    "with gzip.open(r'C:\\Users\\mirza\\Downloads\\GRCh38_latest_rna.fna.gz', 'rt') as handle:\n",
    "    for record in SeqIO.parse(handle, \"fasta\"):\n",
    "\n",
    "        currentSequenceLength = len(record.seq)\n",
    "\n",
    "        if currentSequenceLength > longestLength:\n",
    "            longestDescription = record.description\n",
    "            longestLength = currentSequenceLength\n",
    "            longestGCContent = GC(record.seq)\n",
    "\n",
    "        if currentSequenceLength < shortestLength:\n",
    "            shortestDescription = record.description\n",
    "            shortestLength = currentSequenceLength\n",
    "            shortestGCContent = GC(record.seq)\n",
    "\n",
    "shortestGCContent = round(shortestGCContent, 2)\n",
    "longestGCContent = round(longestGCContent, 2)\n",
    "\n",
    "print(\"Shortest transcript has description:\", shortestDescription, \"    /// GC content of:\", shortestGCContent,\n",
    "      \"% and length of:\", shortestLength)\n",
    "\n",
    "print(\"Longest transcript has description:\", longestDescription, \"    /// GC content of:\", longestGCContent,\n",
    "      \"% and length of:\", longestLength)"
   ],
   "metadata": {
    "collapsed": false
   }
  },
  {
   "cell_type": "code",
   "execution_count": 70,
   "outputs": [
    {
     "name": "stdout",
     "output_type": "stream",
     "text": [
      "TGTTCGAGGAGCCTGAGGAAGTTGCCCTAGAAGAGCCTCCTGCTGAAGTTGTGGAAGAGCCAGAGCCAGCGGCGCCTCCACAAG : [59.523809523809526]\n",
      "TTCTAAGAAAAAGACCTGAAGAAGAAGAACCTAAAGTAGAACCTAAAAAACTAGAAAAAGTTAAAAAACCTGCAG : [30.666666666666668]\n"
     ]
    }
   ],
   "source": [
    "# part B\n",
    "# download NM_001267550.2 Homo sapiens titin from https://www.ncbi.nlm.nih.gov/genome/guide/human/\n",
    "\n",
    "record, = SeqIO.parse(r'C:\\Users\\mirza\\Downloads\\sequence.gb', 'genbank')\n",
    "sequences = str(record.seq)\n",
    "\n",
    "exons ,sequence = [], []\n",
    "GCContents={}\n",
    "proteinWithMinGCContent, proteinWithMaxGCContent = \"\", \"\"\n",
    "\n",
    "for feature in record.features:\n",
    "    if feature.type == 'exon':\n",
    "        exons.append((int(feature.location.start), int(feature.location.end)))\n",
    "        sequence.append(sequences[feature.location.start:feature.location.end])\n",
    "\n",
    "for gcCont in sequence:\n",
    "    GCContents.update({gcCont:[GC(gcCont)]})\n",
    "\n",
    "for key, value in GCContents.items():\n",
    "    if value == min(GCContents.values()):\n",
    "        print(key, \":\" , value)\n",
    "        proteinWithMinGCContent = key\n",
    "    if value == max(GCContents.values()):\n",
    "        print(key, \":\" , value)\n",
    "        proteinWithMaxGCContent = key"
   ],
   "metadata": {
    "collapsed": false
   }
  },
  {
   "cell_type": "code",
   "execution_count": 71,
   "outputs": [
    {
     "name": "stdout",
     "output_type": "stream",
     "text": [
      "******************************\n",
      "Protein with max GC content\n",
      "CSRSLRKLP*KSLLLKLWKSQSQRRLHK\n",
      "Amino acid A : 0.0 %\n",
      "Amino acid C : 3.57 %\n",
      "Amino acid E : 0.0 %\n",
      "Amino acid D : 0.0 %\n",
      "Amino acid G : 0.0 %\n",
      "Amino acid F : 0.0 %\n",
      "Amino acid I : 0.0 %\n",
      "Amino acid H : 3.57 %\n",
      "Amino acid K : 17.86 %\n",
      "Amino acid M : 0.0 %\n",
      "Amino acid L : 25.0 %\n",
      "Amino acid N : 0.0 %\n",
      "Amino acid Q : 7.14 %\n",
      "Amino acid P : 3.57 %\n",
      "Amino acid S : 17.86 %\n",
      "Amino acid R : 14.29 %\n",
      "Amino acid T : 0.0 %\n",
      "Amino acid W : 3.57 %\n",
      "Amino acid V : 0.0 %\n",
      "Amino acid Y : 0.0 %\n",
      "******************************\n",
      "Protein with min GC content\n",
      "F*EKDLKKKNLK*NLKN*KKLKNLQ\n",
      "Amino acid A : 0.0 %\n",
      "Amino acid C : 0.0 %\n",
      "Amino acid E : 4.0 %\n",
      "Amino acid D : 4.0 %\n",
      "Amino acid G : 0.0 %\n",
      "Amino acid F : 4.0 %\n",
      "Amino acid I : 0.0 %\n",
      "Amino acid H : 0.0 %\n",
      "Amino acid K : 36.0 %\n",
      "Amino acid M : 0.0 %\n",
      "Amino acid L : 20.0 %\n",
      "Amino acid N : 16.0 %\n",
      "Amino acid Q : 4.0 %\n",
      "Amino acid P : 0.0 %\n",
      "Amino acid S : 0.0 %\n",
      "Amino acid R : 0.0 %\n",
      "Amino acid T : 0.0 %\n",
      "Amino acid W : 0.0 %\n",
      "Amino acid V : 0.0 %\n",
      "Amino acid Y : 0.0 %\n"
     ]
    }
   ],
   "source": [
    "# part C\n",
    "aminoAcids = ['A', 'C', 'E', 'D', 'G', 'F', 'I', 'H', 'K', 'M', 'L', 'N','Q', 'P', 'S', 'R', 'T', 'W', 'V', 'Y']\n",
    "\n",
    "print(\"*\" * 30)\n",
    "print(\"Protein with max GC content\")\n",
    "proteinWithMaxGCContent = Seq(proteinWithMaxGCContent)\n",
    "proteinWithMaxGCContent = str(proteinWithMaxGCContent.transcribe().translate())\n",
    "print(proteinWithMaxGCContent)\n",
    "\n",
    "X = ProteinAnalysis(proteinWithMaxGCContent)\n",
    "\n",
    "for i in aminoAcids:\n",
    "    print(\"Amino acid\", i , \":\", round(X.count_amino_acids()[i]/len(proteinWithMaxGCContent)*100,2), \"%\")\n",
    "\n",
    "print(\"*\" * 30)\n",
    "print(\"Protein with min GC content\")\n",
    "\n",
    "proteinWithMinGCContent = Seq(proteinWithMinGCContent)\n",
    "proteinWithMinGCContent = str(proteinWithMinGCContent.transcribe().translate())\n",
    "print(proteinWithMinGCContent)\n",
    "\n",
    "X = ProteinAnalysis(proteinWithMinGCContent)\n",
    "\n",
    "for i in aminoAcids:\n",
    "    print(\"Amino acid\", i , \":\", round(X.count_amino_acids()[i]/len(proteinWithMinGCContent)*100,2), \"%\")"
   ],
   "metadata": {
    "collapsed": false
   }
  },
  {
   "cell_type": "code",
   "execution_count": null,
   "outputs": [],
   "source": [],
   "metadata": {
    "collapsed": false
   }
  }
 ],
 "metadata": {
  "kernelspec": {
   "display_name": "Python 3",
   "language": "python",
   "name": "python3"
  },
  "language_info": {
   "codemirror_mode": {
    "name": "ipython",
    "version": 2
   },
   "file_extension": ".py",
   "mimetype": "text/x-python",
   "name": "python",
   "nbconvert_exporter": "python",
   "pygments_lexer": "ipython2",
   "version": "2.7.6"
  }
 },
 "nbformat": 4,
 "nbformat_minor": 0
}
