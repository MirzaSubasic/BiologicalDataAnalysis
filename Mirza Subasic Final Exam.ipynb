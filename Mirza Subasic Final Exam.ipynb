{
 "cells": [
  {
   "cell_type": "markdown",
   "source": [
    "# MANDATORY CODING"
   ],
   "metadata": {
    "collapsed": false
   }
  },
  {
   "cell_type": "code",
   "execution_count": null,
   "outputs": [],
   "source": [
    "import pandas as pd\n",
    "import numpy as np\n",
    "from matplotlib import pyplot as plt\n",
    "from scipy.stats import ttest_ind\n",
    "import re"
   ],
   "metadata": {
    "collapsed": false
   }
  },
  {
   "cell_type": "code",
   "execution_count": null,
   "outputs": [],
   "source": [
    "# PART 1\n",
    "df = pd.read_table(r'C:\\Users\\mirza\\Downloads\\Human proteome filtered.tsv.gz', header=2,\n",
    "                   names=[\"Entry\", \"Entry Name\", \"Length\", \"Mass\", \"Sequence\", \"EC number\", \"Protein families\"])\n",
    "\n",
    "display(df.head(3))"
   ],
   "metadata": {
    "collapsed": false
   }
  },
  {
   "cell_type": "code",
   "execution_count": null,
   "outputs": [],
   "source": [
    "# PART 2\n",
    "df.describe()"
   ],
   "metadata": {
    "collapsed": false
   }
  },
  {
   "cell_type": "code",
   "execution_count": null,
   "outputs": [],
   "source": [
    "# PART 3\n",
    "fig, ax = plt.subplots()\n",
    "ax.scatter(df['Length'], df['Mass'], color = 'black', facecolors = 'none')\n",
    "plt.xlabel(\"Length\")\n",
    "plt.ylabel(\"Mass\")"
   ],
   "metadata": {
    "collapsed": false
   }
  },
  {
   "cell_type": "markdown",
   "source": [
    "###### It can be seen from the plot that the longer the protein more mass it has.\n",
    "###### To prove this I will use pearson (linear correlation)"
   ],
   "metadata": {
    "collapsed": false
   }
  },
  {
   "cell_type": "code",
   "execution_count": null,
   "outputs": [],
   "source": [
    "#take all rows from df and mass and length columns\n",
    "df.loc[:, ['Mass', 'Length']].corr().round(decimals=4)\n",
    "#correlation between mass and length is 0.9994"
   ],
   "metadata": {
    "collapsed": false
   }
  },
  {
   "cell_type": "code",
   "execution_count": null,
   "outputs": [],
   "source": [
    "# PART 4\n",
    "Neurexin_df = df.loc[df['Protein families'] == 'Neurexin family']\n",
    "TUBGCP_df = df.loc[df['Protein families'] == 'TUBGCP family']"
   ],
   "metadata": {
    "collapsed": false
   }
  },
  {
   "cell_type": "code",
   "execution_count": null,
   "outputs": [],
   "source": [
    "Neurexin_df['Length'].describe()"
   ],
   "metadata": {
    "collapsed": false
   }
  },
  {
   "cell_type": "code",
   "execution_count": null,
   "outputs": [],
   "source": [
    "TUBGCP_df['Length'].describe()"
   ],
   "metadata": {
    "collapsed": false
   }
  },
  {
   "cell_type": "markdown",
   "source": [
    "###### Neurexin family has mean of 1205.70\n",
    "###### TUBGCP family has mean of 608.68\n",
    "\n",
    "###### t-test will show if the mean is significant"
   ],
   "metadata": {
    "collapsed": false
   }
  },
  {
   "cell_type": "code",
   "execution_count": null,
   "outputs": [],
   "source": [
    "t_stat, t_pval = ttest_ind(Neurexin_df['Length'], TUBGCP_df['Length'], equal_var=False)\n",
    "\n",
    "print(\"T-test of two datasets:\", t_pval)\n",
    "\n",
    "#number is very small 7.28e-09, so there isn't any significant between the means"
   ],
   "metadata": {
    "collapsed": false
   }
  },
  {
   "cell_type": "code",
   "execution_count": null,
   "outputs": [],
   "source": [
    "# PART 5\n",
    "fig, ax = plt.subplots(figsize = (15, 6))\n",
    "_ = ax.hist(df['Length'])"
   ],
   "metadata": {
    "collapsed": false
   }
  },
  {
   "cell_type": "code",
   "execution_count": null,
   "outputs": [],
   "source": [
    "#dataset contains only length multiplied by log10\n",
    "log10_length = np.log10(df.loc[:, 'Length'])\n",
    "fig, ax = plt.subplots(figsize = (15, 6))\n",
    "_ = ax.hist(log10_length)"
   ],
   "metadata": {
    "collapsed": false
   }
  },
  {
   "cell_type": "markdown",
   "source": [
    "###### Most of the lengths in first graph is put in first bin (len is 0-25000)\n",
    "###### On second graph lengths are binomaly distributed (most lengths are in middle bins and they are less frequently distributed on the sides)"
   ],
   "metadata": {
    "collapsed": false
   }
  },
  {
   "cell_type": "markdown",
   "source": [
    "# ELECTIVE CODING"
   ],
   "metadata": {
    "collapsed": false
   }
  },
  {
   "cell_type": "code",
   "execution_count": null,
   "outputs": [],
   "source": [
    "# PART 3\n",
    "regex = r'.[HYF].C..C...F.[ST]...L..H.'\n",
    "\n",
    "#len(df) is 88805\n",
    "for i in range(88804):\n",
    "    match = re.findall(df.loc[i, 'Sequence'], str(regex))\n",
    "    if len(match) > 0:\n",
    "        print(match, i)"
   ],
   "metadata": {
    "collapsed": false
   }
  },
  {
   "cell_type": "code",
   "execution_count": null,
   "outputs": [],
   "source": [],
   "metadata": {
    "collapsed": false
   }
  }
 ],
 "metadata": {
  "kernelspec": {
   "display_name": "Python 3",
   "language": "python",
   "name": "python3"
  },
  "language_info": {
   "codemirror_mode": {
    "name": "ipython",
    "version": 2
   },
   "file_extension": ".py",
   "mimetype": "text/x-python",
   "name": "python",
   "nbconvert_exporter": "python",
   "pygments_lexer": "ipython2",
   "version": "2.7.6"
  }
 },
 "nbformat": 4,
 "nbformat_minor": 0
}
