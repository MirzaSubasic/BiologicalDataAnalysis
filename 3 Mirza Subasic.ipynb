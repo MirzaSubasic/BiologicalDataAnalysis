{
 "cells": [
  {
   "cell_type": "markdown",
   "source": [
    "# HOMEWORK 3\n",
    "\n",
    "###### A) Do a quick research about the lexA repressor and what it does.\n",
    "###### B) Bacterial species can have many subtypes, known as strains. One of the most well-known E. coli strains is K-12.\n",
    "###### C) Write a string of the most representative letters from the lexA binding motif, e.g. ‘TACTG…’.\n",
    "###### D) Make a regex to better represent the lexA binding motif.\n",
    "###### E) Make a numpy matrix that will contain the frequency of every nucleotide at every position in the motif (for both C and D results)."
   ],
   "metadata": {
    "collapsed": false
   }
  },
  {
   "cell_type": "markdown",
   "source": [
    "#### PART A\n",
    "\n",
    "###### Bacteria respond to DNA damage by mounting a coordinated cellular response, governed by the RecA and LexA proteins. In Escherichia coli, RecA stimulates cleavage of the LexA repressor and includes more than 40 genes that comprise the SOS regulatory network. In some well-characterised pathogens, induction of the SOS response modulates the evolution and dissemination of drug resistance, as well as synthesis, secretion and dissemination of the virulence.\n",
    "######\n",
    "###### Source: https://pubmed.ncbi.nlm.nih.gov/18726173/"
   ],
   "metadata": {
    "collapsed": false
   }
  },
  {
   "cell_type": "markdown",
   "source": [
    "## PART B\n",
    "\n",
    "###### Link: https://www.ncbi.nlm.nih.gov/nuccore/U00096.2\n",
    "###### FASTA is more appropriate because we need just gene sequence"
   ],
   "metadata": {
    "collapsed": false
   }
  },
  {
   "cell_type": "code",
   "execution_count": null,
   "outputs": [],
   "source": [
    "from Bio import SeqIO\n",
    "from Bio import Align\n",
    "import re\n",
    "import numpy as np"
   ],
   "metadata": {
    "collapsed": false
   }
  },
  {
   "cell_type": "code",
   "execution_count": null,
   "outputs": [],
   "source": [
    "for record in SeqIO.parse(r'C:\\Users\\mirza\\Downloads\\E.coli.fasta', \"fasta\"):\n",
    "    gene = record.seq"
   ],
   "metadata": {
    "collapsed": false
   }
  },
  {
   "cell_type": "code",
   "execution_count": null,
   "outputs": [],
   "source": [
    "# PART C\n",
    "# we want local alignment to find parts of gene with the highest similarity to motif\n",
    "# it is better to have mismatches than gaps because gaps are expensive to open\n",
    "\n",
    "str_of_representative_letters = \"TACTGTATATATATACAGTA\"\n",
    "alignment_scores = {\"score\": -10.0, \"alignment\": \"\"}\n",
    "\n",
    "aligner = Align.PairwiseAligner()\n",
    "\n",
    "aligner.mode = 'local'\n",
    "#score from presentation\n",
    "aligner.match_score = 2\n",
    "aligner.mismatch_score = 0\n",
    "aligner.open_gap_score = -2\n",
    "aligner.extend_gap_score = -0.5\n",
    "\n",
    "alignments = aligner.align(gene, str_of_representative_letters)\n",
    "for alignment in sorted(alignments):\n",
    "    if alignment.score > alignment_scores[\"score\"]:\n",
    "        alignment_scores = {\"score\": alignment.score, \"alignment\": alignment.aligned}\n",
    "\n",
    "print(alignment_scores)"
   ],
   "metadata": {
    "collapsed": false
   }
  },
  {
   "cell_type": "code",
   "execution_count": null,
   "outputs": [],
   "source": [
    "# PART D\n",
    "regex_of_representative_letters = r'[TA]ACTGTATATA[TAC]A.[AC]CAG[TC][AT]'\n",
    "print(re.findall(regex_of_representative_letters, str(gene)))"
   ],
   "metadata": {
    "collapsed": false
   }
  },
  {
   "cell_type": "markdown",
   "source": [
    "### Comparison of part C and D\n",
    "\n",
    "###### part C has 2 matches and D has 3. They are different"
   ],
   "metadata": {
    "collapsed": false
   }
  },
  {
   "cell_type": "code",
   "execution_count": null,
   "outputs": [],
   "source": [
    "# PART D\n",
    "matched_sequences=[]\n",
    "\n",
    "matched_sequences.append(str(gene[1229950:1229970]))\n",
    "matched_sequences.append(str(gene[0:20]))\n",
    "matched_sequences.append(\"TACTGTATATAAAAACAGTA\")\n",
    "matched_sequences.append(\"TACTGTATATAAAACCAGTT\")\n",
    "matched_sequences.append(\"AACTGTATATAAATACAGTT\")\n",
    "\n",
    "print(matched_sequences)\n",
    "\n",
    "nucl_A = np.zeros(20)\n",
    "nucl_T = np.zeros(20)\n",
    "nucl_C = np.zeros(20)\n",
    "nucl_G = np.zeros(20)\n",
    "\n",
    "def frequency_of_nucleotide(nt, nucleotide):\n",
    "    for sequence in matched_sequences:\n",
    "        for i in range(len(sequence)-1):\n",
    "            if sequence[i] == nt:\n",
    "                nucleotide[i] += 1\n",
    "\n",
    "frequency_of_nucleotide('A', nucl_A)\n",
    "frequency_of_nucleotide('T', nucl_T)\n",
    "frequency_of_nucleotide('C', nucl_C)\n",
    "frequency_of_nucleotide('G', nucl_G)\n",
    "\n",
    "nucl_matrix = np.vstack((nucl_A, nucl_C, nucl_G, nucl_T))\n",
    "nucl_matrix = nucl_matrix/5\n",
    "nucl_matrix = np.hstack((np.array(['A','C','G','T'])[:, np.newaxis], nucl_matrix))\n",
    "\n",
    "np.set_printoptions(linewidth=200)\n",
    "print(nucl_matrix)"
   ],
   "metadata": {
    "collapsed": false
   }
  },
  {
   "cell_type": "code",
   "execution_count": null,
   "outputs": [],
   "source": [],
   "metadata": {
    "collapsed": false
   }
  }
 ],
 "metadata": {
  "kernelspec": {
   "display_name": "Python 3",
   "language": "python",
   "name": "python3"
  },
  "language_info": {
   "codemirror_mode": {
    "name": "ipython",
    "version": 2
   },
   "file_extension": ".py",
   "mimetype": "text/x-python",
   "name": "python",
   "nbconvert_exporter": "python",
   "pygments_lexer": "ipython2",
   "version": "2.7.6"
  }
 },
 "nbformat": 4,
 "nbformat_minor": 0
}
