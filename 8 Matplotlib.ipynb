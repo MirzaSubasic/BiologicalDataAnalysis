{
 "cells": [
  {
   "cell_type": "code",
   "execution_count": null,
   "metadata": {},
   "outputs": [],
   "source": [
    "import os\n",
    "\n",
    "DIR = r\"C:\\Users\\mirza\\OneDrive\\Desktop\\Fakultet\\Biological Data Analysis with Python\\Code\""
   ]
  },
  {
   "cell_type": "code",
   "execution_count": null,
   "metadata": {},
   "outputs": [],
   "source": [
    "import numpy as np\n",
    "import pandas as pd\n",
    "\n",
    "from IPython.display import display"
   ]
  },
  {
   "cell_type": "code",
   "execution_count": null,
   "metadata": {},
   "outputs": [],
   "source": [
    "import matplotlib.pyplot as plt"
   ]
  },
  {
   "cell_type": "markdown",
   "metadata": {},
   "source": [
    "# Basic example"
   ]
  },
  {
   "cell_type": "code",
   "execution_count": null,
   "metadata": {},
   "outputs": [],
   "source": [
    "x = np.arange(0, 5, 0.1)\n",
    "y = np.sin(x)\n",
    "\n",
    "# Creates a line chart\n",
    "plt.plot(x, y)"
   ]
  },
  {
   "cell_type": "code",
   "execution_count": null,
   "metadata": {},
   "outputs": [],
   "source": [
    "# Necessary when working in non-interactive mode (e.g. in another IDE)\n",
    "plt.show()"
   ]
  },
  {
   "cell_type": "markdown",
   "metadata": {},
   "source": [
    "# Jupyter integration"
   ]
  },
  {
   "cell_type": "code",
   "execution_count": null,
   "metadata": {},
   "outputs": [],
   "source": [
    "# in old versions, this was necessary (if you come accross this)\n",
    "%matplotlib inline"
   ]
  },
  {
   "cell_type": "code",
   "execution_count": null,
   "metadata": {},
   "outputs": [],
   "source": [
    "plt.plot(x, y)"
   ]
  },
  {
   "cell_type": "markdown",
   "metadata": {},
   "source": [
    "# Figures and axes"
   ]
  },
  {
   "cell_type": "code",
   "execution_count": null,
   "metadata": {},
   "outputs": [],
   "source": [
    "# make just a blank figure\n",
    "fig1 = plt.figure(figsize = (10, 5))\n",
    "\n",
    "# add stuff to it (in subplots)\n",
    "ax1 = fig1.add_subplot(1, 2, 1) # 1 rows, 2 columns. Create axes #1 of 2 (1-based index)\n",
    "ax2 = fig1.add_subplot(1, 2, 2) # Create axes #2 of 2\n",
    "ax3 = fig1.add_axes([0.69, 0.66, 0.2, 0.2]) # Create axes by explicit coordinates\n",
    "\n",
    "ax1.plot(x, y, color = 'red')\n",
    "ax1.plot(x, 2 * y, color = 'blue')\n",
    "ax2.plot(x * x, y, color = 'green')\n",
    "ax3.plot(x * x, y * y, color = 'orange')\n",
    "\n",
    "fig2 = plt.figure()\n",
    "ax4 = fig2.add_subplot(1, 1, 1)\n",
    "ax4.plot(x, x + y, color = 'gray')"
   ]
  },
  {
   "cell_type": "code",
   "execution_count": null,
   "metadata": {},
   "outputs": [],
   "source": [
    "# they are defined as appropirate types\n",
    "print(type(fig1))\n",
    "print(type(ax1), type(ax3))"
   ]
  },
  {
   "cell_type": "code",
   "execution_count": null,
   "metadata": {},
   "outputs": [],
   "source": [
    "# we can specify the number of subplots we want (through rows and columns)\n",
    "rows = 2\n",
    "cols = 4\n",
    "\n",
    "# and we can use dedicated subplots function to fill in the data\n",
    "fig, axes = plt.subplots(nrows = rows, ncols = cols, figsize = (15, 8))\n",
    "print(type(axes), axes.dtype, axes.shape) # subplots returns a figure and a np.array\n",
    "print(axes)\n",
    "\n",
    "for i in range(rows):\n",
    "    for j in range(cols):\n",
    "        axes[i, j].plot(x, np.sin((i + 1) * x + j))"
   ]
  },
  {
   "cell_type": "code",
   "execution_count": null,
   "metadata": {},
   "outputs": [],
   "source": [
    "# The simplest way to create an axes object (getting one subplot by default)\n",
    "fig, ax = plt.subplots()\n",
    "ax.plot(x, y)"
   ]
  },
  {
   "cell_type": "code",
   "execution_count": null,
   "metadata": {},
   "outputs": [],
   "source": [
    "# Can draw multiple plots on the same axes\n",
    "# GCA - a shortcut to Get Current Axes, creating one if it doesn't exist\n",
    "# (if there are multiple axes, returns the last one by default)\n",
    "fig = plt.figure()\n",
    "fig.gca().plot(x, y, color = 'red')\n",
    "fig.gca().plot(x, y + 1.5, color = 'orange')\n",
    "plt.plot(x, y + 3, color = 'yellow')\n",
    "# The shortcut plt.plot uses the gca() of the last used figure (creating one if there aren't any)"
   ]
  },
  {
   "cell_type": "markdown",
   "metadata": {},
   "source": [
    "# Artist objects\n",
    "\n",
    "Every time we make something (e.g. a plot) within the axes, we get an artist object."
   ]
  },
  {
   "cell_type": "code",
   "execution_count": null,
   "metadata": {},
   "outputs": [],
   "source": [
    "fig, ax = plt.subplots(figsize = (10, 2))\n",
    "added_lines = ax.plot(x, y)\n",
    "\n",
    "print(type(added_lines), added_lines) # it is just a list containing drawn objects\n",
    "added_line, = added_lines # we can extract the objects...\n",
    "print(type(added_line))"
   ]
  },
  {
   "cell_type": "code",
   "execution_count": null,
   "metadata": {},
   "outputs": [],
   "source": [
    "import matplotlib\n",
    "\n",
    "# they have specific defined types\n",
    "print(isinstance(added_line, matplotlib.lines.Line2D))\n",
    "print(isinstance(added_line, matplotlib.artist.Artist))"
   ]
  },
  {
   "cell_type": "code",
   "execution_count": null,
   "metadata": {},
   "outputs": [],
   "source": [
    "# we can change the properties of artist objects after creating them\n",
    "# although that is not recommended\n",
    "fig, ax = plt.subplots()\n",
    "added_line, = ax.plot(x, y)\n",
    "added_line.set_color('red')\n",
    "\n",
    "# In most scenarios Artist objects are not that useful (but we'll see some examples where they are)."
   ]
  },
  {
   "cell_type": "markdown",
   "metadata": {},
   "source": [
    "# Annotations"
   ]
  },
  {
   "cell_type": "code",
   "execution_count": null,
   "metadata": {},
   "outputs": [],
   "source": [
    "fig, ax = plt.subplots()\n",
    "\n",
    "lines1 = ax.plot(x, y, color = 'blue')\n",
    "lines2 = ax.plot(x, y + 1, color = 'green')\n",
    "lines = lines1 + lines2 # collect all artist objects\n",
    "\n",
    "# write labels\n",
    "ax.set_title('y = sin(x) + C')\n",
    "ax.set_xlabel('x')\n",
    "ax.set_ylabel('y [= sin(x) + C]')\n",
    "\n",
    "# make a legend for artist objects\n",
    "ax.legend(lines, ['C = 0', 'C = 1'])\n",
    "\n",
    "# can also make it for the whole plot \n",
    "# but it is not the precise way to do it\n",
    "# TODO\n",
    "# fig.legend(['C = 0', 'C = 1'])\n"
   ]
  },
  {
   "cell_type": "code",
   "execution_count": null,
   "metadata": {},
   "outputs": [],
   "source": [
    "# Customizations:\n",
    "# - legend at a specific location\n",
    "# - Fontsize for title and axes labels\n",
    "\n",
    "fig, ax = plt.subplots()\n",
    "\n",
    "lines1 = ax.plot(x, y, color = 'blue')\n",
    "lines2 = ax.plot(x, y + 1, color = 'green')\n",
    "lines = lines1 + lines2\n",
    "\n",
    "ax.set_title('y = sin(x) + C', fontsize = 20)\n",
    "ax.set_xlabel('x', fontsize = 15)\n",
    "ax.set_ylabel('y [= sin(x) + C]', fontsize = 15)\n",
    "\n",
    "ax.legend(lines, ['C = 0', 'C = 1'], loc = 'lower left')"
   ]
  },
  {
   "cell_type": "markdown",
   "metadata": {},
   "source": [
    "Read more about legends at: http://matplotlib.org/users/legend_guide.html"
   ]
  },
  {
   "cell_type": "code",
   "execution_count": null,
   "metadata": {},
   "outputs": [],
   "source": [
    "# fig.suptitle for a super title to all axes (the whole figure)\n",
    "# E.g.\n",
    "\n",
    "rows = 2\n",
    "cols = 4\n",
    "\n",
    "fig, axes = plt.subplots(nrows = rows, ncols = cols, figsize = (15, 8))\n",
    "\n",
    "for i in range(rows):\n",
    "    for j in range(cols):\n",
    "        axes[i, j].plot(x, np.sin((i + 1) * x + j))\n",
    "        axes[i, j].set_title('A = %d, B = %d' % (i + 1, j), color = 'green')\n",
    "        \n",
    "fig.suptitle('y = sin(Ax + B)', fontsize = 22)"
   ]
  },
  {
   "cell_type": "code",
   "execution_count": null,
   "metadata": {},
   "outputs": [],
   "source": [
    "# Setting x and y limits (zoom in to the figure)\n",
    "\n",
    "fig, ax = plt.subplots()\n",
    "ax.plot(x, y)\n",
    "\n",
    "ax.set_xlim(-2, 8)\n",
    "ax.set_ylim(0.5, 1.5)"
   ]
  },
  {
   "cell_type": "code",
   "execution_count": null,
   "metadata": {},
   "outputs": [],
   "source": [
    "# Custom ticks\n",
    "\n",
    "fig, ax = plt.subplots()\n",
    "ax.plot(x, y)\n",
    "\n",
    "ax.set_xticks(np.arange(np.min(x), np.max(x) + 1, 0.4)) # evenly spaced\n",
    "ax.set_yticks([-1, 0.9, 1.1]) # random ones\n",
    "\n",
    "# change the properties of tick parameteres\n",
    "ax.tick_params(axis = 'y', labelsize = 15) # 'x', 'y' or 'both'"
   ]
  },
  {
   "cell_type": "code",
   "execution_count": null,
   "metadata": {},
   "outputs": [],
   "source": [
    "# Grid\n",
    "\n",
    "fig, ax = plt.subplots()\n",
    "ax.plot(x, y)\n",
    "\n",
    "ax.grid(True)"
   ]
  },
  {
   "cell_type": "code",
   "execution_count": null,
   "metadata": {},
   "outputs": [],
   "source": [
    "# Arrows and lines\n",
    "\n",
    "fig, ax = plt.subplots()\n",
    "ax.plot(x, y)\n",
    "\n",
    "# e.g. draw a line on Y=0\n",
    "ax.axhline(y = 0, color = 'gray')\n",
    "# draw an arrow (xy - head of the arrow coordinates; xytext - start of the text)\n",
    "ax.annotate('Local Max', xy = (np.pi / 2, 1.0), xytext = (np.pi / 2, 0.5), fontsize = 11, \\\n",
    "            # provide parameters of the arrow\n",
    "        arrowprops = dict(facecolor = 'black', width = 1, headwidth = 5))"
   ]
  },
  {
   "cell_type": "markdown",
   "metadata": {},
   "source": [
    "# More line options"
   ]
  },
  {
   "cell_type": "code",
   "execution_count": null,
   "metadata": {},
   "outputs": [],
   "source": [
    "plt.figure().gca().plot(x, y, linewidth = 5)"
   ]
  },
  {
   "cell_type": "code",
   "execution_count": null,
   "metadata": {},
   "outputs": [],
   "source": [
    "fig, axes = plt.subplots(nrows = 2, ncols = 3, figsize = (11, 6))\n",
    "# accept either word...\n",
    "axes[0, 0].plot(x, y, linestyle = 'dashed')\n",
    "axes[0, 1].plot(x, y, linestyle = 'dotted')\n",
    "axes[0, 2].plot(x, y, linestyle = 'dashdot')\n",
    "# or symbol arguments...\n",
    "axes[1, 0].plot(x, y, linestyle = '--')\n",
    "axes[1, 1].plot(x, y, linestyle = ':')\n",
    "axes[1, 2].plot(x, y, linestyle = '-.')"
   ]
  },
  {
   "cell_type": "markdown",
   "metadata": {},
   "source": [
    "# Plotting CDF\n",
    "Spoiler alert: it is just a line..."
   ]
  },
  {
   "cell_type": "code",
   "execution_count": null,
   "metadata": {},
   "outputs": [],
   "source": [
    "N = 10000\n",
    "# generate a somewhat random distribution\n",
    "data = np.where(np.random.randint(0, 2, N, dtype = bool), np.random.randn(N), 3 * np.random.randn(N) + 20)\n",
    "print(data[:10])\n",
    "print()\n",
    "\n",
    "fig, ax = plt.subplots(figsize = (12, 5))\n",
    "# data has to be sorted (on x axis)\n",
    "# we create evenly-spaced array of len N, between 0,1 (for y axis)\n",
    "ax.plot(np.sort(data), np.linspace(0, 1, len(data)))\n",
    "\n",
    "for threshold in [0, 5, 20]:\n",
    "    # calculate the percentage of the data below certain thresholds\n",
    "    print('%.2f of the data is below %.1f' % ((data <= threshold).mean(), threshold))"
   ]
  },
  {
   "cell_type": "markdown",
   "metadata": {},
   "source": [
    "# Scatter plots"
   ]
  },
  {
   "cell_type": "code",
   "execution_count": null,
   "metadata": {
    "scrolled": true
   },
   "outputs": [],
   "source": [
    "viperdb = pd.read_csv(os.path.join(DIR, 'viperdb.csv'))\n",
    "display(viperdb)"
   ]
  },
  {
   "cell_type": "markdown",
   "metadata": {},
   "source": [
    "### Basic scatter plot"
   ]
  },
  {
   "cell_type": "code",
   "execution_count": null,
   "metadata": {},
   "outputs": [],
   "source": [
    "fig, ax = plt.subplots()\n",
    "ax.scatter(viperdb['Inner Radius'], viperdb['Outer Radius'], color = 'black', facecolors = 'none')"
   ]
  },
  {
   "cell_type": "markdown",
   "metadata": {},
   "source": [
    "### Beautified scatter plot"
   ]
  },
  {
   "cell_type": "code",
   "execution_count": null,
   "metadata": {},
   "outputs": [],
   "source": [
    "# Gettng rid of outliers\n",
    "filtered_viperdb = viperdb[viperdb['Inner Radius'] < 500]\n",
    "# Increase Fig size\n",
    "fig, ax = plt.subplots(figsize = (15, 6))\n",
    "ax.scatter(filtered_viperdb['Inner Radius'], filtered_viperdb['Outer Radius'], \\\n",
    "        color = 'red', \\\n",
    "           # size\n",
    "           s = 80, \\\n",
    "           # transparency (80% transparrent; allows us to see the density in the overlapping units)\n",
    "           alpha = 0.2)\n",
    "ax.set_xlabel('Inner Radius (Å)', fontsize = 15)\n",
    "ax.set_ylabel('Outer Radius (Å)', fontsize = 15)"
   ]
  },
  {
   "cell_type": "markdown",
   "metadata": {},
   "source": [
    "### More advanced scatter plot\n",
    "Adding multiple dimensions to the 2-D image...\n",
    "\n",
    "(still better than the marketing gimmicks of 17D 4K Cinemas)"
   ]
  },
  {
   "cell_type": "code",
   "execution_count": null,
   "metadata": {},
   "outputs": [],
   "source": [
    "# Coloring viruses by groups, and making the sizes proportional to their number of subunits\n",
    "\n",
    "import matplotlib.patches as mpatches # helps with the legend\n",
    "\n",
    "# we again remove the outlier, and we remove viruses that have no \"Genome\" records\n",
    "filtered_viperdb = viperdb[(viperdb['Inner Radius'] < 500) & viperdb['Genome'].notnull()]\n",
    "\n",
    "# process the genome data (taking only the first word) and extract/color unique groups\n",
    "groups = filtered_viperdb['Genome'].apply(lambda raw_genome: raw_genome.split()[0])\n",
    "unique_groups = sorted(groups.unique())\n",
    "group_to_color = {group: plt.cm.jet(65 * i) for i, group in enumerate(unique_groups)}\n",
    "colors = groups.map(group_to_color)\n",
    "# colors were selected automatically using one of the many available colormaps (jet)\n",
    "# colormap returns a color based on the numerical input\n",
    "# colors can also be selected manually\n",
    "\n",
    "# start plotting\n",
    "fig, ax = plt.subplots(figsize = (15, 6))\n",
    "ax.scatter(filtered_viperdb['Inner Radius'], filtered_viperdb['Outer Radius'], \\\n",
    "        c = colors, s = 0.6 * filtered_viperdb['Subunits'], alpha = 0.35)\n",
    "\n",
    "ax.set_xlabel('Inner Radius (Å)', fontsize = 15)\n",
    "ax.set_ylabel('Outer Radius (Å)', fontsize = 15)\n",
    "\n",
    "# make a legend\n",
    "ax.legend(handles = [mpatches.Patch(color = color, label = group) for group, color in group_to_color.items()], \\\n",
    "        loc = 'upper left')"
   ]
  },
  {
   "cell_type": "code",
   "execution_count": null,
   "metadata": {},
   "outputs": [],
   "source": [
    "# X-Axis in log scale\n",
    "# Useful when we have data with vastly different scales\n",
    "fig, ax = plt.subplots(figsize = (12, 4))\n",
    "filtered_viperdb = viperdb[viperdb['Outside SASA'] > 0]\n",
    "ax.scatter(np.log10(filtered_viperdb['Outside SASA']), filtered_viperdb['Outer Radius'], color = 'red', s = 80, alpha = 0.2)\n",
    "ax.set_xlabel('Log10 Surface Area (Å ^ 2)', fontsize = 15)\n",
    "ax.set_ylabel('Outer Radius (Å)', fontsize = 15)"
   ]
  },
  {
   "cell_type": "markdown",
   "metadata": {},
   "source": [
    "# Bar charts"
   ]
  },
  {
   "cell_type": "code",
   "execution_count": null,
   "metadata": {},
   "outputs": [],
   "source": [
    "families = viperdb['Family'].unique()\n",
    "avg_outer_radius_per_family = [viperdb.loc[viperdb['Family'] == family, 'Outer Radius'].mean() for family in families]\n",
    "\n",
    "width = 0.85\n",
    "x_positions = np.arange(len(families))\n",
    "\n",
    "fig, ax = plt.subplots(figsize = (15, 6))\n",
    "ax.bar(x_positions, avg_outer_radius_per_family, width = width, color = 'red')\n",
    "\n",
    "ax.set_xticks(x_positions)\n",
    "_ = ax.set_xticklabels(families, rotation = 'vertical')"
   ]
  },
  {
   "cell_type": "code",
   "execution_count": null,
   "metadata": {},
   "outputs": [],
   "source": [
    "families = viperdb['Family'].unique()\n",
    "avg_inner_radius_per_family = [viperdb.loc[viperdb['Family'] == family, 'Inner Radius'].mean() for family in families]\n",
    "std_inner_radius_per_family = [viperdb.loc[viperdb['Family'] == family, 'Inner Radius'].std() for family in families]\n",
    "avg_outer_radius_per_family = [viperdb.loc[viperdb['Family'] == family, 'Outer Radius'].mean() for family in families]\n",
    "std_outer_radius_per_family = [viperdb.loc[viperdb['Family'] == family, 'Outer Radius'].std() for family in families]\n",
    "\n",
    "width = 0.4\n",
    "x_positions = np.arange(len(families))\n",
    "\n",
    "fig, ax = plt.subplots(figsize = (15, 6))\n",
    "inner_bars = ax.bar(x_positions, avg_inner_radius_per_family, yerr = std_inner_radius_per_family, width = width, \\\n",
    "        color = 'teal')\n",
    "outer_bars = ax.bar(x_positions + width, avg_outer_radius_per_family, yerr = std_outer_radius_per_family, width = width, \\\n",
    "        color = 'orange')\n",
    "\n",
    "ax.set_xticks(x_positions + width / 2)\n",
    "ax.set_xticklabels(families, rotation = 45, horizontalalignment = 'right')\n",
    "\n",
    "ax.set_xlabel('Family', fontsize = 15)\n",
    "ax.set_ylabel('Average Radius (Å)', fontsize = 15)\n",
    "\n",
    "ax.legend([inner_bars[0], outer_bars[0]], ['Inner Radius', 'Outer Radius'])\n",
    "\n",
    "ax.set_xlim((-width, len(families) - 1 + 2 * width))\n",
    "ax.set_ylim((0, 1000))"
   ]
  },
  {
   "cell_type": "markdown",
   "metadata": {},
   "source": [
    "# Histogram & pie chart"
   ]
  },
  {
   "cell_type": "code",
   "execution_count": null,
   "metadata": {},
   "outputs": [],
   "source": [
    "fig, ax = plt.subplots(figsize = (15, 6))\n",
    "_ = ax.hist(viperdb['Net Surface Charge'], bins = 100)"
   ]
  },
  {
   "cell_type": "code",
   "execution_count": null,
   "metadata": {},
   "outputs": [],
   "source": [
    "records_per_group = [(groups == group).sum() for group in unique_groups]\n",
    "colors = [plt.cm.hot(50 * (i + 1)) for i in range(len(unique_groups))]\n",
    "\n",
    "fig, ax = plt.subplots(figsize = (5, 5))\n",
    "_ = ax.pie(records_per_group, labels = unique_groups, colors = colors, autopct = '%.1f%%')"
   ]
  },
  {
   "cell_type": "markdown",
   "metadata": {},
   "source": [
    "# Box plots"
   ]
  },
  {
   "cell_type": "code",
   "execution_count": null,
   "metadata": {},
   "outputs": [],
   "source": [
    "# Default whiskers are 1.5 IQR past Q1 and Q3. Here we use 2.5.\n",
    "# Values outside of this range are considered outliers and are explicitly drawn.\n",
    "\n",
    "fig, ax = plt.subplots(figsize = (15, 8))\n",
    "\n",
    "ax.boxplot([viperdb['Inner Radius'], viperdb['Outer Radius']], whis = 2.5)\n",
    "ax.set_xticklabels(['Inner Radius', 'Outer Radius'], fontsize = 15)\n",
    "\n",
    "ax.set_ylabel('Sizes (Å)', fontsize = 15)\n",
    "ax.set_ylim((0, 600))\n",
    "ax.set_yticks(np.arange(0, 601, 50))\n",
    "ax.yaxis.grid(True)"
   ]
  },
  {
   "cell_type": "code",
   "execution_count": null,
   "metadata": {},
   "outputs": [],
   "source": [
    "# Can also give Matplotlib explicit drawing instructions\n",
    "\n",
    "fig, ax = plt.subplots()\n",
    "stats1 = {'mean': 4.2, 'med': 5.9, 'q1': 3.2, 'q3': 7.7, 'whislo': -1, 'whishi': 9, 'fliers': [-3, -5.5]}\n",
    "stats2 = {'mean': 5, 'med': 5.5, 'q1': 3.5, 'q3': 7.5, 'whislo': 2.0, 'whishi': 8.0, 'fliers': []}\n",
    "_ = ax.bxp([stats1, stats2], showmeans = True)"
   ]
  },
  {
   "cell_type": "markdown",
   "metadata": {},
   "source": [
    "# Heat maps"
   ]
  },
  {
   "cell_type": "code",
   "execution_count": null,
   "metadata": {},
   "outputs": [],
   "source": [
    "from Bio.SubsMat.MatrixInfo import blosum62\n",
    "\n",
    "ALL_AA = 'ACDEFGHIKLMNPQRSTVWY'\n",
    "\n",
    "def get_blosum_value(aa1, aa2):\n",
    "    if (aa1, aa2) in blosum62:\n",
    "        return blosum62[(aa1, aa2)]\n",
    "    else:\n",
    "        return blosum62[(aa2, aa1)]\n",
    "\n",
    "data = np.array([[get_blosum_value(aa1, aa2) for aa2 in ALL_AA] for aa1 in ALL_AA])\n",
    "\n",
    "fig, ax = plt.subplots(figsize = (8, 6))\n",
    "heatmap = ax.pcolor(data, cmap = 'bwr', vmin = -10, vmax = 10)\n",
    "fig.colorbar(heatmap)\n",
    "\n",
    "ax.set_xticks(np.arange(len(ALL_AA)) + 0.5)\n",
    "ax.set_xticklabels(ALL_AA)\n",
    "ax.set_yticks(np.arange(len(ALL_AA)) + 0.5)\n",
    "ax.set_yticklabels(ALL_AA)\n",
    "\n",
    "ax.set_title('BLOSUM 62', fontsize = 20)"
   ]
  },
  {
   "cell_type": "markdown",
   "metadata": {},
   "source": [
    "See the full list of colormaps at: http://matplotlib.org/examples/color/colormaps_reference.html"
   ]
  },
  {
   "cell_type": "markdown",
   "metadata": {},
   "source": [
    "# Matplotlib's interface is sometimes quite bad"
   ]
  },
  {
   "cell_type": "code",
   "execution_count": null,
   "metadata": {},
   "outputs": [],
   "source": [
    "# ax.set_xticks Vs. plt.xticks\n",
    "# Better to just use axes constantly and avoid plt shortcuts.\n",
    "\n",
    "fig, ax = plt.subplots()\n",
    "ax.plot(x, y)\n",
    "ax.set_xticks([0, np.pi / 2, 5])\n",
    "\n",
    "fig, ax = plt.subplots()\n",
    "plt.plot(x, y)\n",
    "_ = plt.xticks([0, np.pi / 2, 5])"
   ]
  },
  {
   "cell_type": "code",
   "execution_count": null,
   "metadata": {},
   "outputs": [],
   "source": [
    "# pylab is a common namespace for both pyplot and numpy.\n",
    "# Better to avoid it.\n",
    "\n",
    "from matplotlib import pylab\n",
    "\n",
    "x = pylab.arange(0, 5, 0.1)\n",
    "y = pylab.sin(x)\n",
    "pylab.plot(x, y)"
   ]
  },
  {
   "cell_type": "markdown",
   "metadata": {},
   "source": [
    "# Pandas shortcuts"
   ]
  },
  {
   "cell_type": "code",
   "execution_count": null,
   "metadata": {},
   "outputs": [],
   "source": [
    "viperdb.plot(kind = 'scatter', x = 'Inner Radius', y = 'Outer Radius')\n",
    "# Pandas also takes care of axes names"
   ]
  },
  {
   "cell_type": "code",
   "execution_count": null,
   "metadata": {},
   "outputs": [],
   "source": [
    "fig, ax = plt.subplots(figsize = (16, 8))\n",
    "viperdb[viperdb['Inner Radius'] < 500].plot(ax = ax, kind = 'scatter', x = 'Inner Radius', y = 'Outer Radius', \\\n",
    "        title = 'Inner vs. Outer Radius', s = 0.6 * viperdb['Subunits'], c = groups.map(group_to_color), alpha = 0.3)"
   ]
  },
  {
   "cell_type": "code",
   "execution_count": null,
   "metadata": {},
   "outputs": [],
   "source": [
    "group_count_series = pd.Series(records_per_group, index = unique_groups, name = '')\n",
    "print(group_count_series)\n",
    "\n",
    "colors = [plt.cm.hot(50 * (i + 1)) for i, group in enumerate(unique_groups)]\n",
    "\n",
    "fig, ax = plt.subplots(figsize = (5, 5))\n",
    "group_count_series.plot(kind = 'pie', ax = ax, colors = colors, autopct = '%1.1f%%')"
   ]
  },
  {
   "cell_type": "markdown",
   "metadata": {},
   "source": [
    "Read more at: http://pandas.pydata.org/pandas-docs/version/0.15.0/visualization.html "
   ]
  },
  {
   "cell_type": "markdown",
   "metadata": {},
   "source": [
    "# Style"
   ]
  },
  {
   "cell_type": "code",
   "execution_count": null,
   "metadata": {},
   "outputs": [],
   "source": [
    "def draw_sample_plots():\n",
    "    \n",
    "    fig, axes = plt.subplots(nrows = 1, ncols = 3, figsize = (11, 3))\n",
    "\n",
    "    axes[0].plot(x, y)\n",
    "\n",
    "    axes[1].bar([0, 1, 2], [5, 23, 12], width = 0.5)\n",
    "    axes[1].set_xticks([0, 1, 2])\n",
    "    axes[1].set_xticklabels(['A', 'B', 'C'])\n",
    "\n",
    "    axes[2].scatter(np.random.rand(10), np.random.rand(10))\n",
    "    \n",
    "draw_sample_plots()"
   ]
  },
  {
   "cell_type": "code",
   "execution_count": null,
   "metadata": {},
   "outputs": [],
   "source": [
    "# There are ready-to-use styles you can use.\n",
    "# ggplot is a popular style that emulates the aesthetics of ggplot (a popular plotting package for R)\n",
    "\n",
    "plt.style.use('ggplot')\n",
    "draw_sample_plots()"
   ]
  },
  {
   "cell_type": "code",
   "execution_count": null,
   "metadata": {},
   "outputs": [],
   "source": [
    "# Recovering the default style is not trivial for some reason...\n",
    "\n",
    "def recover_default_style():\n",
    "    import matplotlib as mpl\n",
    "    mpl.rcParams.update(mpl.rcParamsDefault)\n",
    "    %matplotlib inline\n",
    "    \n",
    "recover_default_style()\n",
    "draw_sample_plots()"
   ]
  },
  {
   "cell_type": "code",
   "execution_count": null,
   "metadata": {},
   "outputs": [],
   "source": [
    "# More nice styles...\n",
    "recover_default_style()\n",
    "plt.style.use('bmh')\n",
    "draw_sample_plots()"
   ]
  },
  {
   "cell_type": "code",
   "execution_count": null,
   "metadata": {},
   "outputs": [],
   "source": [
    "recover_default_style()\n",
    "plt.style.use('fivethirtyeight')\n",
    "draw_sample_plots()"
   ]
  },
  {
   "cell_type": "code",
   "execution_count": null,
   "metadata": {},
   "outputs": [],
   "source": [
    "# List all available styles\n",
    "print(plt.style.available)"
   ]
  },
  {
   "cell_type": "code",
   "execution_count": null,
   "outputs": [],
   "source": [],
   "metadata": {
    "collapsed": false
   }
  }
 ],
 "metadata": {
  "kernelspec": {
   "display_name": "Python 3 (ipykernel)",
   "language": "python",
   "name": "python3"
  },
  "language_info": {
   "codemirror_mode": {
    "name": "ipython",
    "version": 3
   },
   "file_extension": ".py",
   "mimetype": "text/x-python",
   "name": "python",
   "nbconvert_exporter": "python",
   "pygments_lexer": "ipython3",
   "version": "3.7.13"
  }
 },
 "nbformat": 4,
 "nbformat_minor": 1
}
