{
 "cells": [
  {
   "cell_type": "markdown",
   "metadata": {},
   "source": [
    "# Basic functions"
   ]
  },
  {
   "cell_type": "code",
   "execution_count": null,
   "metadata": {},
   "outputs": [],
   "source": [
    "import re\n",
    "\n",
    "text = 'the dog barked at the cat chasing the mouse'\n",
    "regex = 'the'\n",
    "\n",
    "re.findall(regex, text)"
   ]
  },
  {
   "cell_type": "code",
   "execution_count": null,
   "metadata": {},
   "outputs": [],
   "source": [
    "matches = re.finditer(regex, text)\n",
    "print(matches)\n",
    "\n",
    "for match in matches:\n",
    "    start, end = match.start(), match.end()\n",
    "    print('%d..%d: %s' % (start, end, text[start:end]))\n",
    "    print(match.group())"
   ]
  },
  {
   "cell_type": "code",
   "execution_count": null,
   "metadata": {},
   "outputs": [],
   "source": [
    "# 'search' gives only the first result (or None if the regex isn't found)\n",
    "match = re.search(regex, text)\n",
    "print(match.start(), match.end(), match.group())"
   ]
  },
  {
   "cell_type": "code",
   "execution_count": null,
   "metadata": {},
   "outputs": [],
   "source": [
    "re.split(regex, text)"
   ]
  },
  {
   "cell_type": "code",
   "execution_count": null,
   "metadata": {},
   "outputs": [],
   "source": [
    "re.sub('the', 'this', text)"
   ]
  },
  {
   "cell_type": "markdown",
   "metadata": {},
   "source": [
    "# Compiling a regex"
   ]
  },
  {
   "cell_type": "code",
   "execution_count": null,
   "metadata": {},
   "outputs": [],
   "source": [
    "# When using the same regex multiple times, it's more efficient to compile it only once.\n",
    "# (it generally takes more computational power to compile it)\n",
    "\n",
    "regex = 'dog'\n",
    "text1 = 'the dog barked at the cat chasing the mouse'\n",
    "text2 = 'the white dog barked at the black dog'\n",
    "\n",
    "# Option 1\n",
    "print(re.findall(regex, text1))\n",
    "print(re.findall(regex, text2))\n",
    "\n",
    "# Option 2\n",
    "pattern = re.compile(regex)\n",
    "print(pattern.findall(text1))\n",
    "print(pattern.findall(text2))"
   ]
  },
  {
   "cell_type": "code",
   "execution_count": null,
   "metadata": {},
   "outputs": [],
   "source": [
    "%timeit re.findall(regex, text1)\n",
    "%timeit pattern.findall(text1)"
   ]
  },
  {
   "cell_type": "code",
   "execution_count": null,
   "metadata": {},
   "outputs": [],
   "source": [
    "# The regex object has the exact same methods\n",
    "print(pattern.split(text1))\n",
    "print(pattern.sub('horse', text1))"
   ]
  },
  {
   "cell_type": "markdown",
   "metadata": {},
   "source": [
    "# Regex syntax"
   ]
  },
  {
   "cell_type": "code",
   "execution_count": null,
   "metadata": {},
   "outputs": [],
   "source": [
    "dna_seq = 'AATGCCCTGGCCATTTTTTTTTCACAAGTATCACTAAGCTCGCTTTCTTGCTGTCCAATTTCTATTAAAGGTTCCTTTGTTCCCTAAGTCCAACTACTAAACTGGATTC'\n",
    "\n",
    "# . matches everything\n",
    "print(re.findall(r'A.C', dna_seq))\n",
    "\n",
    "# Matches are not overlapping: the next match attempt will start only after the end of the previous match.\n",
    "print(re.findall(r'A.C', 'AACC'))"
   ]
  },
  {
   "cell_type": "code",
   "execution_count": null,
   "metadata": {},
   "outputs": [],
   "source": [
    "# Repetitions\n",
    "\n",
    "print(re.findall(r'A{3}', dna_seq))\n",
    "\n",
    "# {} applies to the previous regex, whatever it is:\n",
    "print(re.findall(r'A..', dna_seq))\n",
    "print(re.findall(r'A.{2}', dna_seq)) # The last regex is '.', and so that's what {2} applies to.\n",
    "\n",
    "# Between 1 to 3 repetitions of T\n",
    "print(re.findall(r'AT{1,3}C', dna_seq))"
   ]
  },
  {
   "cell_type": "code",
   "execution_count": null,
   "metadata": {},
   "outputs": [],
   "source": [
    "# + matches any positive number of repetitions\n",
    "print(re.findall(r'AT+C', dna_seq))\n",
    "\n",
    "# * matches any number (including zero) of repetitions\n",
    "print(re.findall(r'AT*C', dna_seq))\n",
    "\n",
    "# ? matches 0 or 1 repetitions\n",
    "print(re.findall(r'AT?C', dna_seq))"
   ]
  },
  {
   "cell_type": "code",
   "execution_count": null,
   "metadata": {},
   "outputs": [],
   "source": [
    "dna_seqs = 'ATGGATGAATG' + '\\n' + 'GGGACT' + '\\n' + 'AAAATTT'\n",
    "\n",
    "# .* matches everything, except new lines.\n",
    "print(re.findall(r'.*', dna_seqs))\n",
    "print(re.findall(r'A.*T', dna_seqs))\n",
    "\n",
    "# We can make '.' also match newlines with the DOTALL flag\n",
    "print(re.findall(r'G.*', dna_seqs, flags = re.DOTALL)) \n",
    "\n",
    "# .* also matches empty strings.\n",
    "print(re.findall(r'.*', ''))\n",
    "print(re.findall(r'.*', '\\n'))"
   ]
  },
  {
   "cell_type": "code",
   "execution_count": null,
   "metadata": {},
   "outputs": [],
   "source": [
    "# Square brackets specify a set of optional characters (to be matched exactly once)\n",
    "print(re.findall(r'[AT]GG', dna_seq))\n",
    "print(re.findall(r'[AT][GC]{2}', dna_seq))\n",
    "print(re.findall(r'[ATG]+', dna_seq)) # finds any char except C (essentially splits the string using C as a delimiter)"
   ]
  },
  {
   "cell_type": "code",
   "execution_count": null,
   "metadata": {},
   "outputs": [],
   "source": [
    "# Can specify a range of chars (by ASCII)\n",
    "\n",
    "text = r'NC000011.10 (5225466..5227071, complement)'\n",
    "print(re.findall(r'[a-z]+', text)) # any lower case sequence\n",
    "print(re.findall(r'[A-Z]+', text))\n",
    "print(re.findall(r'[0-9]+', text))\n",
    "print(re.findall(r'[a-zA-Z0-9]+', text))"
   ]
  },
  {
   "cell_type": "code",
   "execution_count": null,
   "metadata": {},
   "outputs": [],
   "source": [
    "# ^ stands for \"not\".\n",
    "print(re.findall(r'[^C]+', dna_seq))\n",
    "print(re.findall(r'[ATG]+', dna_seq))"
   ]
  },
  {
   "cell_type": "code",
   "execution_count": null,
   "metadata": {},
   "outputs": [],
   "source": [
    "# Use \\ to escape special characters (so they are interpreted literally).\n",
    "text = 'AATA.T'\n",
    "print(re.findall(r'A.T', text))\n",
    "print(re.findall(r'A\\.T', text))"
   ]
  },
  {
   "cell_type": "code",
   "execution_count": null,
   "metadata": {},
   "outputs": [],
   "source": [
    "text = r'AAA\\BBB\\CCC'\n",
    "print(text)\n",
    "\n",
    "# Make sure to write regexes using raw strings (r in front of the string).\n",
    "print(re.findall(r'.\\\\.', text))\n",
    "# Otherwise expect an escaping nightmare (instead of using r, we will have to use backslash for every backslash).\n",
    "# Regex needs two backslashes - one to match it, but also the one before to tell regex to ignore the following backslash\n",
    "# Python interpreter also needs a backslash for all backslashes, making it four in total\n",
    "print(re.findall('.\\\\\\\\.', text))"
   ]
  },
  {
   "cell_type": "markdown",
   "metadata": {},
   "source": [
    "# Special regex chars"
   ]
  },
  {
   "cell_type": "code",
   "execution_count": null,
   "metadata": {},
   "outputs": [],
   "source": [
    "song = '''\n",
    "On the 4th of July 1806\n",
    "We set sail from the sweet cove of Cork\n",
    "We were sailing away with a cargo of bricks\n",
    "For the grand city hall in New York\n",
    "'Twas a wonderful craft, she was rigged fore-and-aft\n",
    "And oh, how the wild winds drove her.\n",
    "She'd got several blasts, she'd 27 masts\n",
    "And we called her the Irish Rover.\n",
    "\n",
    "We had 1000000 bales_of_the_best_Sligo_rags\n",
    "We had 2000000 barrels_of_stones\n",
    "We had 3000000 sides_of_old_blind_horses_hides,\n",
    "We had 4000000 barrels_of_bones.\n",
    "We had 5000000 hogs, we had 6000000 dogs,\n",
    "7000000 barrels of porter.\n",
    "We had 8000000 bails_of_old_nanny_goats'_tails,\n",
    "In the hold of the Irish Rover.\n",
    "'''"
   ]
  },
  {
   "cell_type": "code",
   "execution_count": null,
   "metadata": {},
   "outputs": [],
   "source": [
    "# \\s matches all white spaces\n",
    "print(re.findall(r'\\s+', song))"
   ]
  },
  {
   "cell_type": "code",
   "execution_count": null,
   "metadata": {},
   "outputs": [],
   "source": [
    "# \\d matches all digits (equivalent to: [0-9])\n",
    "print(re.findall(r'\\d', song))\n",
    "print(re.findall(r'\\d+', song))"
   ]
  },
  {
   "cell_type": "code",
   "execution_count": null,
   "metadata": {},
   "outputs": [],
   "source": [
    "# \\w matches any alphanumeric character and the underscore (equivalent to: [a-zA-Z0-9_])\n",
    "print(re.findall(r'\\w+', song))"
   ]
  },
  {
   "cell_type": "code",
   "execution_count": null,
   "metadata": {},
   "outputs": [],
   "source": [
    "# \\S, \\D and \\W are the NOT versions.\n",
    "print(re.findall(r'\\S+', song)) # Non-whitespace characters\n",
    "print(re.findall(r'\\D+', song)) # Non-digit characters\n",
    "print(re.findall(r'\\W+', song)) # Non-alphanumeric characters"
   ]
  },
  {
   "cell_type": "markdown",
   "metadata": {},
   "source": [
    "# Regex is usually greedy"
   ]
  },
  {
   "cell_type": "code",
   "execution_count": null,
   "metadata": {},
   "outputs": [],
   "source": [
    "dna_seq = 'ACGTCGGGGGGGACCGT'\n",
    "print(re.findall(r'A.*T', dna_seq)) # Will try to give the longest string possible, not just ACGT"
   ]
  },
  {
   "cell_type": "code",
   "execution_count": null,
   "metadata": {},
   "outputs": [],
   "source": [
    "# Use *?, +?, ?? and {}? for non-greedy versions\n",
    "\n",
    "print(re.findall(r'A.*T', dna_seq))\n",
    "print(re.findall(r'A.*?T', dna_seq))\n",
    "\n",
    "print('*' * 50)\n",
    "\n",
    "print(re.findall(r'A.?C', dna_seq)) # either one or no chars\n",
    "print(re.findall(r'A.??C', dna_seq)) # prefer no chars"
   ]
  },
  {
   "cell_type": "markdown",
   "metadata": {},
   "source": [
    "# Flags"
   ]
  },
  {
   "cell_type": "code",
   "execution_count": null,
   "metadata": {},
   "outputs": [],
   "source": [
    "dna_seq = 'ACGTAAtaggtagtcgtAGTGACGTA'\n",
    "# Regex is case-sensitive by default.\n",
    "print(re.findall(r'A.T', dna_seq))\n",
    "print(re.findall(r'A.T', dna_seq, flags = re.IGNORECASE))"
   ]
  },
  {
   "cell_type": "code",
   "execution_count": null,
   "metadata": {},
   "outputs": [],
   "source": [
    "# Use the | operator to add multiple flags\n",
    "dna_seqs = 'ACGTAAtaggtagtcgtAGTGACGTA' + '\\n' + 'TAAAAGT'\n",
    "print(re.findall(r'A.T', dna_seqs, flags = re.IGNORECASE | re.DOTALL))"
   ]
  },
  {
   "cell_type": "markdown",
   "metadata": {},
   "source": [
    "# Selecting specific parts"
   ]
  },
  {
   "cell_type": "code",
   "execution_count": null,
   "metadata": {},
   "outputs": [],
   "source": [
    "dna_seq = 'AATGCCCTGGCCATATTTTTTTTTCACAAGTATCACTAAGCTCGCTTTCTTGCTGTCCAATTTCTATTAAAGGTTCCTTTGTTCCCTAAGTCCAACTACTAAACTGGATTC'\n",
    "\n",
    "# Use parentheses to select a specific part of the regex\n",
    "print(re.findall(r'A.{3}T', dna_seq))\n",
    "print(re.findall(r'A(.{3})T', dna_seq))"
   ]
  },
  {
   "cell_type": "code",
   "execution_count": null,
   "metadata": {},
   "outputs": [],
   "source": [
    "# Can select multiple parts\n",
    "print(re.findall(r'A.{3}T[CG]{2}', dna_seq))\n",
    "print(re.findall(r'A(.{3})T([CG]{2})', dna_seq))"
   ]
  },
  {
   "cell_type": "code",
   "execution_count": null,
   "metadata": {},
   "outputs": [],
   "source": [
    "# regex has a 1-based indexing system\n",
    "for match in re.finditer(r'A(.{3})T([CG]{2})', dna_seq):\n",
    "    print(match.group(1)) # First group\n",
    "    print(match.group(2)) # Second group\n",
    "    print(match.group(0)) # Everything\n",
    "    print(match.group()) # Same as 0\n",
    "    print('*' * 10)"
   ]
  },
  {
   "cell_type": "code",
   "execution_count": null,
   "metadata": {},
   "outputs": [],
   "source": [
    "# Can also name the groups with: (?P<name>...)\n",
    "\n",
    "for match in re.finditer(r'A(?P<triple>.{3})T(?P<pair>[CG]{2})', dna_seq):\n",
    "    print(match.groupdict())"
   ]
  },
  {
   "cell_type": "code",
   "execution_count": null,
   "metadata": {},
   "outputs": [],
   "source": [
    "# | specifies OR\n",
    "print(re.findall(r'A.T|T.A', dna_seq))\n",
    "\n",
    "# Can use with parentheses, but then it only selects what's inside them\n",
    "# So parentheses here do 2 functions: specify the limites of OR operator, and output only what is inside of them\n",
    "print(re.findall(r'(A.T|T.A)G', dna_seq))\n",
    "\n",
    "# (?:...) is a non-capturing version that overcomes the problem\n",
    "print(re.findall(r'(?:A.T|T.A)G', dna_seq))\n",
    "\n",
    "# This can be also useful when we want to apply a special modifier to a complex regex but don't want to capture it\n",
    "# as a separate group.\n",
    "print(re.findall(r'AT+', dna_seq))\n",
    "print(re.findall(r'(?:AT)+', dna_seq)) # so parenthesis don't output only AT, but + is asigned to AT"
   ]
  },
  {
   "cell_type": "markdown",
   "metadata": {},
   "source": [
    "# Substitution"
   ]
  },
  {
   "cell_type": "code",
   "execution_count": null,
   "metadata": {},
   "outputs": [],
   "source": [
    "dna_seq = 'ACGTCGGGGGGGACCGT'\n",
    "print(re.sub(r'ACG', r'ATG', dna_seq))"
   ]
  },
  {
   "cell_type": "code",
   "execution_count": null,
   "metadata": {},
   "outputs": [],
   "source": [
    "print(re.sub(r'\\s+', '-', song))"
   ]
  },
  {
   "cell_type": "code",
   "execution_count": null,
   "metadata": {},
   "outputs": [],
   "source": [
    "# Reference groups by \\1, \\2, etc.\n",
    "\n",
    "# Substitute the nucleotides before and after CCG\n",
    "print(re.sub(r'(.)CCG(.)', r'\\2CCG\\1', dna_seq))\n",
    "\n",
    "# Reference named groups by \\g<name>\n",
    "print(re.sub(r'(?P<prefix>.)CCG(?P<suffix>.)', r'\\g<suffix>CCG\\g<prefix>', dna_seq))"
   ]
  },
  {
   "cell_type": "code",
   "execution_count": null,
   "metadata": {},
   "outputs": [],
   "source": [
    "# .sub() is really flexible and can also take a function as a parameter\n",
    "\n",
    "def switch(match):\n",
    "    if match[1] == 'A':\n",
    "        return match[0]\n",
    "    else:\n",
    "        return match[2] + match.string[match.end(1):match.start(2)] + match[1]\n",
    "\n",
    "print(re.sub(r'(.)CCG(.)', switch, 'ACCGT TCCGA'))"
   ]
  },
  {
   "cell_type": "markdown",
   "metadata": {},
   "source": [
    "# Example - parsing GENCODE's extra fields in the GTF file"
   ]
  },
  {
   "cell_type": "code",
   "execution_count": null,
   "metadata": {},
   "outputs": [],
   "source": [
    "# last time we've done parsing using a function\n",
    "# but it can be parsed with regex in one line of code\n",
    "\n",
    "gtf_extra_fields = r'gene_id \"ENSG00000183186.7\"; transcript_id \"ENST00000332235.7\"; gene_type \"protein_coding\"; gene_name ' + \\\n",
    "        '\"C2CD4C\"; transcript_type \"protein_coding\"; transcript_name \"C2CD4C-001\"; level 2; protein_id \"ENSP00000328677.4\"; ' + \\\n",
    "        'transcript_support_level \"2\"; tag \"basic\"; tag \"appris_principal_1\"; tag \"CCDS\"; ccdsid \"CCDS45890.1\"; havana_gene ' + \\\n",
    "        '\"OTTHUMG00000180534.3\"; havana_transcript \"OTTHUMT00000451789.3\";'\n",
    "print(gtf_extra_fields)\n",
    "print('*' * 50)\n",
    "\n",
    "print(dict(re.findall(r'(\\w+) \"(.*?)\";', gtf_extra_fields)))\n",
    "# so we with first parentheses we select our key - any alpha-num-underscore character '\\w'...\n",
    "# any number of times '+' until the space\n",
    "# with the second parentheses, we select any character '.' any number of repetitions '*' until a semicolon ';'...\n",
    "# and a nongreedy approach, to get individual values within quotation marks"
   ]
  },
  {
   "cell_type": "markdown",
   "metadata": {},
   "source": [
    "# Example - finding a motif"
   ]
  },
  {
   "cell_type": "markdown",
   "metadata": {},
   "source": [
    "The LexA binding motif:\n",
    "\n",
    "![Logo](https://upload.wikimedia.org/wikipedia/commons/8/85/LexA_gram_positive_bacteria_sequence_logo.png)"
   ]
  },
  {
   "cell_type": "code",
   "execution_count": null,
   "metadata": {},
   "outputs": [],
   "source": [
    "dna_seq = 'AAAAGTGAGTGAGTTAGAACAAATGTTCGAGATGAGTGAGTGGGGGATGA'\n",
    "motif_regex = r'.[AC]GAA[CA][AG]..[TC][GTA]TT[CT][GT].'\n",
    "\n",
    "print(re.findall(motif_regex, dna_seq))"
   ]
  },
  {
   "cell_type": "markdown",
   "metadata": {},
   "source": [
    "# Limitations"
   ]
  },
  {
   "cell_type": "markdown",
   "metadata": {},
   "source": [
    "Limitations of regex:\n",
    "1. Matches are not overlapping.\n",
    "2. Can't parse recursive formats (XML, JSON, etc.).\n",
    "3. Regexes can quickly become \"write only\" (hard to understand for others)\n",
    "    * Use `re.VERBOSE` and `(?#...)` when appropriate.\n",
    "    * There are tools to examine cryptic or problematic regexes, such as https://regex101.com/\n",
    "\n",
    "When parsers are available, prefer using them rather than writing your own."
   ]
  },
  {
   "cell_type": "markdown",
   "metadata": {},
   "source": [
    "Some people, when confronted with a problem, think \"I know, I'll use regular expressions.\" Now they have two problems.\n",
    "\n",
    "    -- Jamie Zawinski"
   ]
  }
 ],
 "metadata": {
  "kernelspec": {
   "display_name": "Python 3 (ipykernel)",
   "language": "python",
   "name": "python3"
  },
  "language_info": {
   "codemirror_mode": {
    "name": "ipython",
    "version": 3
   },
   "file_extension": ".py",
   "mimetype": "text/x-python",
   "name": "python",
   "nbconvert_exporter": "python",
   "pygments_lexer": "ipython3",
   "version": "3.7.13"
  }
 },
 "nbformat": 4,
 "nbformat_minor": 1
}
