{
 "cells": [
  {
   "cell_type": "markdown",
   "source": [
    "# Option 3\n",
    "\n",
    "###### A: Write a code that generates random RNA transcripts. Every transcript will start with AUG codon,and after it, all four nucleotides have an equal chance of appearing in the sequence. The transcript will be completed once the stop codon is made (three stop codons are UAG, UGA, UAA; genetic code is read in non-overlapping manner, FYI).\n",
    "\n",
    "###### B: Run the code 1000 times (i.e. make 1000 random transcripts). What is the average length of transcripts?\n",
    "\n",
    "###### C: What is the average transcript length per GC content of transcript? Example of printed out result: “Transcripts with GC percentage 0-10% have an average length of X.” “Transcripts with GC percentage 10-20% have an average length of Y.” Try to explain the results…"
   ],
   "metadata": {
    "collapsed": false
   }
  },
  {
   "cell_type": "code",
   "execution_count": null,
   "outputs": [],
   "source": [
    "# part A\n",
    "import random\n",
    "\n",
    "stopCodons = ['UAG', 'UGA', 'UAA']\n",
    "\n",
    "def generateRandomRna():\n",
    "  rna = ['AUG']\n",
    "  while rna[-1] not in stopCodons:\n",
    "    rna.append(''.join([random.choice('AUCG') for amino_acid in range(3)]))\n",
    "  return rna\n",
    "\n",
    "print(''.join(generateRandomRna()))"
   ],
   "metadata": {
    "collapsed": false
   }
  },
  {
   "cell_type": "code",
   "execution_count": null,
   "outputs": [],
   "source": [
    "# part B\n",
    "def multipleRnaGenerator():\n",
    "  rnaList = []\n",
    "  for i in range(1000):\n",
    "    rnaList.append(generateRandomRna())\n",
    "  return rnaList\n",
    "\n",
    "rnaTranscripts = multipleRnaGenerator()\n",
    "\n",
    "def getRnaLengths():\n",
    "  lengths = []\n",
    "  for rna in rnaTranscripts:\n",
    "    lengths.append(len(''.join(rna)))\n",
    "  return lengths\n",
    "\n",
    "def averageRnaLength():\n",
    "  return sum(getRnaLengths()) / len(getRnaLengths())\n",
    "\n",
    "print(\"Average rna length is: \", averageRnaLength())"
   ],
   "metadata": {
    "collapsed": false
   }
  },
  {
   "cell_type": "code",
   "execution_count": null,
   "outputs": [],
   "source": [
    "# part C\n",
    "def calculateGCContent(rna):\n",
    "  rnaString = ''.join(rna)\n",
    "  temp = 0\n",
    "  for nucleotide in rnaString:\n",
    "    if nucleotide == 'G' or nucleotide == 'C':\n",
    "      temp += 1\n",
    "  return temp/len(rnaString)*100\n",
    "\n",
    "def singleRnaLength(rna):\n",
    "  return len(''.join(rna))\n",
    "\n",
    "def averageTranscriptLengthPerGcContent(rnaTranscripts):\n",
    "  firstQarter ,secondQarter, thirdQarter ,fourthQarter = 0, 0, 0, 0\n",
    "  firstQarterLength, secondQarterLength,  thirdQarterLength, fourthQarterLength = 0, 0, 0, 0\n",
    "\n",
    "  for rna in rnaTranscripts:\n",
    "    percentage = calculateGCContent(rna)\n",
    "    if percentage < 25:\n",
    "      firstQarter += 1\n",
    "      firstQarterLength += singleRnaLength(rna)\n",
    "    elif 25 < percentage < 50:\n",
    "      secondQarter += 1\n",
    "      secondQarterLength += singleRnaLength(rna)\n",
    "    elif 50 < percentage < 75:\n",
    "      thirdQarter += 1\n",
    "      thirdQarterLength += singleRnaLength(rna)\n",
    "    else:\n",
    "      fourthQarter += 1\n",
    "      fourthQarterLength += singleRnaLength(rna)\n",
    "\n",
    "  print(\"Transcripts with GC percentage 0-25% have an average length of\", firstQarterLength/firstQarter)\n",
    "  print(\"Transcripts with GC percentage 25-50% have an average length of\", secondQarterLength/secondQarter)\n",
    "  print(\"Transcripts with GC percentage 50-75% have an average length of\", thirdQarterLength/thirdQarter)\n",
    "  print(\"Transcripts with GC percentage 75-100% have an average length of\", fourthQarterLength/fourthQarter)\n",
    "\n",
    "\n",
    "averageTranscriptLengthPerGcContent(multipleRnaGenerator())"
   ],
   "metadata": {
    "collapsed": false
   }
  },
  {
   "cell_type": "code",
   "execution_count": null,
   "outputs": [],
   "source": [],
   "metadata": {
    "collapsed": false
   }
  }
 ],
 "metadata": {
  "kernelspec": {
   "display_name": "Python 3",
   "language": "python",
   "name": "python3"
  },
  "language_info": {
   "codemirror_mode": {
    "name": "ipython",
    "version": 2
   },
   "file_extension": ".py",
   "mimetype": "text/x-python",
   "name": "python",
   "nbconvert_exporter": "python",
   "pygments_lexer": "ipython2",
   "version": "2.7.6"
  }
 },
 "nbformat": 4,
 "nbformat_minor": 0
}
