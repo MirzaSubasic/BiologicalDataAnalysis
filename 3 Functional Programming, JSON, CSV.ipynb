{
 "cells": [
  {
   "cell_type": "markdown",
   "metadata": {},
   "source": [
    "# Lambda (anonymous) functions\n",
    "Defined without a name.\n",
    "Used when we need a \"small\" function for a short amount of time..."
   ]
  },
  {
   "cell_type": "code",
   "execution_count": null,
   "metadata": {},
   "outputs": [],
   "source": [
    "def f(x):\n",
    "    return x ** 2\n",
    "    \n",
    "print(f(5))"
   ]
  },
  {
   "cell_type": "code",
   "execution_count": null,
   "metadata": {},
   "outputs": [],
   "source": [
    "f = lambda x: x ** 2\n",
    "print(f(5))"
   ]
  },
  {
   "cell_type": "code",
   "execution_count": null,
   "metadata": {},
   "outputs": [],
   "source": [
    "# you don't actually have to give it a name, hence the \"anonymous\"\n",
    "# can be used one time\n",
    "\n",
    "(lambda x: x ** 2)(5)"
   ]
  },
  {
   "cell_type": "code",
   "execution_count": null,
   "metadata": {},
   "outputs": [],
   "source": [
    "(lambda x, y: x + y)(1, 2)"
   ]
  },
  {
   "cell_type": "markdown",
   "metadata": {},
   "source": [
    "So why bother with an unnamed lambda? Why not simply use 1+2?\n",
    "\n",
    "...\n",
    "\n",
    "We can save the time by using lambda function as an argument of another function (which needs a function)..."
   ]
  },
  {
   "cell_type": "code",
   "execution_count": null,
   "metadata": {},
   "outputs": [],
   "source": [
    "def is_valid_seq(seq, is_valid_letter_func):\n",
    "\n",
    "    for letter in seq:\n",
    "        if not is_valid_letter_func(letter):\n",
    "            return False\n",
    "            \n",
    "    return True\n",
    "\n",
    "dna_seq = 'ACGTTGACGT'\n",
    "print(is_valid_seq(dna_seq, lambda nt: nt in 'ACGT'))\n",
    "print(is_valid_seq(dna_seq, lambda nt: nt in 'ACGU'))\n",
    "\n",
    "# so we can specify the behavior of the required function \"on the go\", without having to predifine it"
   ]
  },
  {
   "cell_type": "code",
   "execution_count": null,
   "metadata": {},
   "outputs": [],
   "source": [
    "# another example of usage\n",
    "\n",
    "pairs = [(1, 6), (4, 2), (8, 1), (7, 6)]\n",
    "print(sorted(pairs, key = lambda pair: pair[0] - pair[1]))"
   ]
  },
  {
   "cell_type": "markdown",
   "metadata": {},
   "source": [
    "Note: if your lambda function becomes too long (and hardly readable), then define the function separately...\n",
    "\n",
    "Note: usage of labmda function is suitable when the function returns something; if the function also changes something else (unexpectedly, has side effects) in the global environment (e.g.), then do not use lambda..."
   ]
  },
  {
   "cell_type": "markdown",
   "metadata": {},
   "source": [
    "# filter & map"
   ]
  },
  {
   "cell_type": "code",
   "execution_count": null,
   "metadata": {},
   "outputs": [],
   "source": [
    "my_list = [1 ,5, -2, -4, 0, 3, -2]\n",
    "filtered_list = []\n",
    "\n",
    "for number in my_list:\n",
    "    if number > 0:\n",
    "        filtered_list.append(number)\n",
    "        \n",
    "print(filtered_list)"
   ]
  },
  {
   "cell_type": "code",
   "execution_count": null,
   "metadata": {},
   "outputs": [],
   "source": [
    "# filter takes a function and a list of elements\n",
    "# returns only those elements for which the function returns True\n",
    "\n",
    "print(list(filter(lambda x: x > 0, my_list)))"
   ]
  },
  {
   "cell_type": "code",
   "execution_count": null,
   "metadata": {},
   "outputs": [],
   "source": [
    "digits = []\n",
    "\n",
    "for digit in range(10):\n",
    "    digits.append(str(digit))\n",
    "    \n",
    "print(digits)\n",
    "print(''.join(digits))"
   ]
  },
  {
   "cell_type": "code",
   "execution_count": null,
   "metadata": {},
   "outputs": [],
   "source": [
    "# map function takes a function and a sequence\n",
    "# applies the function on every element of the sequence and returns the new sequence\n",
    "\n",
    "digits = list(map(str, range(10)))\n",
    "print(digits)\n",
    "print(''.join(digits))"
   ]
  },
  {
   "cell_type": "code",
   "execution_count": null,
   "metadata": {},
   "outputs": [],
   "source": [
    "# another example\n",
    "\n",
    "print(list(map(lambda x: x ** 2, range(10))))"
   ]
  },
  {
   "cell_type": "code",
   "execution_count": null,
   "metadata": {},
   "outputs": [],
   "source": [
    "complement = {'A': 'T', 'C': 'G', 'G': 'C', 'T': 'A'}\n",
    "dna_seq = 'AATGCGATGCAGTGAGTAAGTCAAAAGTAA'\n",
    "print(''.join(map(complement.get, dna_seq[::-1])))"
   ]
  },
  {
   "cell_type": "markdown",
   "metadata": {},
   "source": [
    "# List/dict/set comprehension"
   ]
  },
  {
   "cell_type": "code",
   "execution_count": null,
   "metadata": {},
   "outputs": [],
   "source": [
    "print(list(map(lambda x: x ** 2, range(10))))\n",
    "print([x ** 2 for x in range(10)])"
   ]
  },
  {
   "cell_type": "code",
   "execution_count": null,
   "metadata": {},
   "outputs": [],
   "source": [
    "my_list = [1 ,5, -2, -4, 0, 3, -2]\n",
    "print(list(filter(lambda x: x > 0, my_list)))\n",
    "print([x for x in my_list if x > 0])"
   ]
  },
  {
   "cell_type": "code",
   "execution_count": null,
   "metadata": {},
   "outputs": [],
   "source": [
    "print(list(map(lambda x: x ** 2, filter(lambda x: x > 0, my_list))))\n",
    "print([x ** 2 for x in my_list if x > 0])"
   ]
  },
  {
   "cell_type": "code",
   "execution_count": null,
   "metadata": {},
   "outputs": [],
   "source": [
    "dna_seq = 'AATGCGATGCAGTGAGTAAGTCAAAAGTAA'\n",
    "codons = [dna_seq[i:(i + 3)] for i in range(0, len(dna_seq), 3)]\n",
    "print(codons)"
   ]
  },
  {
   "cell_type": "code",
   "execution_count": null,
   "metadata": {},
   "outputs": [],
   "source": [
    "numbers = ['one', 'two', 'three', 'four']\n",
    "numbers_dict = {number: i + 1 for i, number in enumerate(numbers)}\n",
    "print(numbers_dict)"
   ]
  },
  {
   "cell_type": "code",
   "execution_count": null,
   "metadata": {},
   "outputs": [],
   "source": [
    "# additional examples - skip\n",
    "\n",
    "from collections import Counter\n",
    "\n",
    "dna_seq = 'AATGCGATGCAGTGAGTAAGTCAAAAGTAA'\n",
    "nt_counts = Counter(dna_seq)\n",
    "print(nt_counts)\n",
    "\n",
    "nt_freqs = {nt: count / len(dna_seq) for nt, count in nt_counts.items()}\n",
    "print(nt_freqs)"
   ]
  },
  {
   "cell_type": "code",
   "execution_count": null,
   "metadata": {},
   "outputs": [],
   "source": [
    "# additional examples - skip\n",
    "\n",
    "print([i % 6 for i in range(5, 20, 2)])\n",
    "print({i % 6 for i in range(5, 20, 2)})\n",
    "\n",
    "# if we wanted a dict: {i: i % 6 for...}"
   ]
  },
  {
   "cell_type": "code",
   "execution_count": null,
   "metadata": {},
   "outputs": [],
   "source": [
    "# additional examples - skip\n",
    "\n",
    "nested_list = [[1, 2, 3], [4, 5], [6, 7, 8, 9], [10]]\n",
    "flat_list = [i for sublist in nested_list for i in sublist]\n",
    "print(flat_list)\n",
    "# can be expaned, e.g.:\n",
    "# flat_list = [i ** 2 for sublist in nested_list for i in sublist if len(sublist) < 3 and i < 8]"
   ]
  },
  {
   "cell_type": "markdown",
   "metadata": {},
   "source": [
    "# JSON"
   ]
  },
  {
   "cell_type": "code",
   "execution_count": null,
   "metadata": {},
   "outputs": [],
   "source": [
    "import json\n",
    "\n",
    "f = open(r'C:\\Users\\mirza\\OneDrive\\Desktop\\Fakultet\\Biological Data Analysis with Python\\Code\\\\3 herpesvirus_genome.json', 'r')\n",
    "data = json.load(f)\n",
    "f.close()\n",
    "print(type(data))"
   ]
  },
  {
   "cell_type": "code",
   "execution_count": null,
   "metadata": {},
   "outputs": [],
   "source": [
    "# It's safer to check how big something is before printing it.\n",
    "print(len(data))"
   ]
  },
  {
   "cell_type": "code",
   "execution_count": null,
   "metadata": {},
   "outputs": [],
   "source": [
    "for key, value in data.items():\n",
    "    print(key, type(value))"
   ]
  },
  {
   "cell_type": "code",
   "execution_count": null,
   "metadata": {},
   "outputs": [],
   "source": [
    "for key, value in data.items():\n",
    "    if key != 'coding_regions':\n",
    "        print('%s: %s' % (key, value))"
   ]
  },
  {
   "cell_type": "code",
   "execution_count": null,
   "metadata": {},
   "outputs": [],
   "source": [
    "coding_regions = data['coding_regions']\n",
    "print(type(coding_regions))\n",
    "print(len(coding_regions))"
   ]
  },
  {
   "cell_type": "code",
   "execution_count": null,
   "metadata": {},
   "outputs": [],
   "source": [
    "coding_region = coding_regions[0]\n",
    "print(type(coding_region))"
   ]
  },
  {
   "cell_type": "code",
   "execution_count": null,
   "metadata": {},
   "outputs": [],
   "source": [
    "print(len(coding_region))"
   ]
  },
  {
   "cell_type": "code",
   "execution_count": null,
   "metadata": {},
   "outputs": [],
   "source": [
    "for key, value in coding_region.items():\n",
    "    print(key, type(value))"
   ]
  },
  {
   "cell_type": "code",
   "execution_count": null,
   "metadata": {},
   "outputs": [],
   "source": [
    "for key, value in coding_region.items():\n",
    "    if key != 'intervals':\n",
    "        print('%s: %s' % (key, value))"
   ]
  },
  {
   "cell_type": "code",
   "execution_count": null,
   "metadata": {},
   "outputs": [],
   "source": [
    "print(len(coding_region['intervals']))"
   ]
  },
  {
   "cell_type": "code",
   "execution_count": null,
   "metadata": {},
   "outputs": [],
   "source": [
    "interval, = coding_region['intervals']\n",
    "print(type(interval))"
   ]
  },
  {
   "cell_type": "code",
   "execution_count": null,
   "metadata": {},
   "outputs": [],
   "source": [
    "print(len(interval))"
   ]
  },
  {
   "cell_type": "code",
   "execution_count": null,
   "metadata": {},
   "outputs": [],
   "source": [
    "for key, value in interval.items():\n",
    "    print(key, type(value))"
   ]
  },
  {
   "cell_type": "code",
   "execution_count": null,
   "metadata": {},
   "outputs": [],
   "source": [
    "print(interval)"
   ]
  },
  {
   "cell_type": "code",
   "execution_count": null,
   "metadata": {},
   "outputs": [],
   "source": [
    "print(coding_region)"
   ]
  },
  {
   "cell_type": "code",
   "execution_count": null,
   "metadata": {},
   "outputs": [],
   "source": [
    "products = []\n",
    "\n",
    "for coding_region in coding_regions:\n",
    "    products.append(coding_region['product'])\n",
    "    \n",
    "print(products)"
   ]
  },
  {
   "cell_type": "code",
   "execution_count": null,
   "metadata": {},
   "outputs": [],
   "source": [
    "lengths_per_group = {'envelope': [], 'membrane': [], 'capsid': []}\n",
    "all_lengths = []\n",
    "\n",
    "for coding_region in coding_regions:\n",
    "    \n",
    "    product_name = coding_region['product'].lower()\n",
    "    length = len(coding_region['translation'])\n",
    "    \n",
    "    for group_name, group_lengths in lengths_per_group.items():\n",
    "        if group_name in product_name:\n",
    "            group_lengths.append(length)\n",
    "    \n",
    "    all_lengths.append(length)\n",
    "    \n",
    "lengths_per_group['all'] = all_lengths\n",
    "\n",
    "for group_name, group_lengths in sorted(lengths_per_group.items()):\n",
    "    avg = sum(group_lengths) / len(group_lengths)\n",
    "    print('%s: # = %d, avg. = %.2f aa' % (group_name, len(group_lengths), avg))"
   ]
  },
  {
   "cell_type": "code",
   "execution_count": null,
   "metadata": {},
   "outputs": [],
   "source": [
    "f = open(r'C:\\Users\\mirza\\OneDrive\\Desktop\\Fakultet\\Biological Data Analysis with Python\\Code\\protein_lengths_per_group.json', 'w')\n",
    "json.dump(lengths_per_group, f)\n",
    "f.close()"
   ]
  },
  {
   "cell_type": "code",
   "execution_count": null,
   "metadata": {},
   "outputs": [],
   "source": [
    "# convert json/original data to raw format\n",
    "raw_json = json.dumps(lengths_per_group)\n",
    "print(type(raw_json))\n",
    "print(raw_json)"
   ]
  },
  {
   "cell_type": "code",
   "execution_count": null,
   "metadata": {},
   "outputs": [],
   "source": [
    "# convert it back to the json/original data\n",
    "data = json.loads(raw_json)\n",
    "print(type(data))\n",
    "print(data)"
   ]
  },
  {
   "cell_type": "markdown",
   "metadata": {},
   "source": [
    "# CSV"
   ]
  },
  {
   "cell_type": "code",
   "execution_count": null,
   "metadata": {},
   "outputs": [],
   "source": [
    "# Reading human gene annotations from gencode.v29lift37.annotation.gtf.gz at:\n",
    "# https://www.gencodegenes.org/human/release_29lift37.html\n",
    "# (download Comprehensive gene annotation in GTF format)\n",
    "\n",
    "import gzip\n",
    "\n",
    "f = gzip.open(r'C:\\Users\\mirza\\OneDrive\\Desktop\\Fakultet\\Biological Data Analysis with Python\\Code\\3 gencode.v29lift37.annotation_partial.gtf.gz', 'rt')\n",
    "print(f.read(1000))\n",
    "f.close()"
   ]
  },
  {
   "cell_type": "code",
   "execution_count": null,
   "metadata": {},
   "outputs": [],
   "source": [
    "# When using gzip with Python 3, you need to explictly ask for text (t) mode\n",
    "# (gzip by default reads data in binary mode)\n",
    "\n",
    "f = gzip.open(r'C:\\Users\\mirza\\OneDrive\\Desktop\\Fakultet\\Biological Data Analysis with Python\\Code\\3 gencode.v29lift37.annotation_partial.gtf.gz', 'r')\n",
    "print(f.read(1000))\n",
    "f.close()"
   ]
  },
  {
   "cell_type": "code",
   "execution_count": null,
   "metadata": {},
   "outputs": [],
   "source": [
    "import csv\n",
    "\n",
    "f = gzip.open(r'C:\\Users\\mirza\\OneDrive\\Desktop\\Fakultet\\Biological Data Analysis with Python\\Code\\3 gencode.v29lift37.annotation_partial.gtf.gz', 'rt')\n",
    "\n",
    "# Default delimiter is comma (,)\n",
    "csv_reader = csv.reader(f, delimiter = '\\t')\n",
    "\n",
    "# Skip 5 first header lines \n",
    "for _ in range(5):\n",
    "    next(csv_reader)\n",
    "    \n",
    "annotations = []\n",
    "\n",
    "for _ in range(100):\n",
    "    annotations.append(next(csv_reader))\n",
    "\n",
    "f.close()\n",
    "\n",
    "print(len(annotations))\n",
    "print(annotations[:5])"
   ]
  },
  {
   "cell_type": "code",
   "execution_count": null,
   "metadata": {},
   "outputs": [],
   "source": [
    "# If want to go over all lines, just iterate over the csv reader with a for loop \n",
    "# (no need to use the 'next' function)\n",
    "# (this will take too long if you are working on a full file)\n",
    "\n",
    "for line in csv_reader:\n",
    "    # Do something...\n",
    "    pass"
   ]
  },
  {
   "cell_type": "code",
   "execution_count": null,
   "metadata": {},
   "outputs": [],
   "source": [
    "# https://www.gencodegenes.org/human/release_29lift37.html\n",
    "# Documentation -> Data Format\n",
    "\n",
    "genes = []\n",
    "\n",
    "def parse_extra_fields(raw_extra_fields):\n",
    "\n",
    "    extra_fields = {}\n",
    "\n",
    "    for raw_extra_field in raw_extra_fields[:-1].split(';'):\n",
    "        key, raw_value = raw_extra_field.strip().split(' ')\n",
    "        value = raw_value.strip('\"')\n",
    "        extra_fields[key] = value\n",
    "        \n",
    "    return extra_fields\n",
    "\n",
    "# out of 9 data formats, we only want some, we use '_' for others\n",
    "\n",
    "for a_chr, _, a_type, a_start, a_end, _, _, _, raw_extra_fields in annotations:\n",
    "    if a_type == 'gene':\n",
    "        extra_fields = parse_extra_fields(raw_extra_fields)\n",
    "        genes.append([extra_fields['gene_name'], extra_fields['gene_type'], a_chr, int(a_start), int(a_end)])\n",
    "\n",
    "print(len(genes))\n",
    "print(genes)"
   ]
  },
  {
   "cell_type": "markdown",
   "metadata": {},
   "source": [
    "##### Exercise"
   ]
  },
  {
   "cell_type": "code",
   "execution_count": null,
   "metadata": {},
   "outputs": [],
   "source": [
    "# Modify the above code (copy it first below) so that it also extracts\n",
    "# the strand on which the gene is located\n",
    "# Add that extra output at the end of the info in \"genes\" variable..."
   ]
  },
  {
   "cell_type": "code",
   "execution_count": null,
   "metadata": {},
   "outputs": [],
   "source": [
    "f = open(r'c://downloads/genes.csv', 'w', newline = '')\n",
    "# we use newline '' in order to avoid writing empty lines inbetween our data \n",
    "\n",
    "csv_writer = csv.writer(f)\n",
    "csv_writer.writerows(genes)\n",
    "f.close()"
   ]
  },
  {
   "cell_type": "markdown",
   "metadata": {},
   "source": [
    "Notes:\n",
    "* `newline = ''` is for avoiding blank lines between each two content lines\n",
    "* `writerows` expects a list of lists of strings (or objects to convert to strings)\n",
    "* You can write one row at a time using `writerow`, which expects a list of strings"
   ]
  },
  {
   "cell_type": "markdown",
   "metadata": {},
   "source": [
    "##### Exercise"
   ]
  },
  {
   "cell_type": "code",
   "execution_count": null,
   "metadata": {},
   "outputs": [],
   "source": [
    "# Read the new file \"genes.csv\" using csv library and print out \n",
    "# every gene name, its length, and strand orientation...\n",
    "# e.g. \"Gene X is 1000 nucleotides long, and it is located on a + strand of a chromosome.\"\n"
   ]
  }
 ],
 "metadata": {
  "kernelspec": {
   "display_name": "Python 3",
   "language": "python",
   "name": "python3"
  },
  "language_info": {
   "codemirror_mode": {
    "name": "ipython",
    "version": 3
   },
   "file_extension": ".py",
   "mimetype": "text/x-python",
   "name": "python",
   "nbconvert_exporter": "python",
   "pygments_lexer": "ipython3",
   "version": "3.7.10"
  }
 },
 "nbformat": 4,
 "nbformat_minor": 1
}
