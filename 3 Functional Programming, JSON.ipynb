{
 "cells": [
  {
   "cell_type": "markdown",
   "source": [
    "# Lambda (anonymous) functions\n",
    "Defined without a name.\n",
    "Used when we need a \"small\" function for a short amount of time..."
   ],
   "metadata": {
    "collapsed": false
   }
  },
  {
   "cell_type": "code",
   "execution_count": null,
   "metadata": {},
   "outputs": [],
   "source": [
    "def f(x):\n",
    "    return x ** 2\n",
    "    \n",
    "print(f(5))"
   ]
  },
  {
   "cell_type": "code",
   "execution_count": null,
   "metadata": {},
   "outputs": [],
   "source": [
    "f = lambda x: x ** 2\n",
    "print(f(5))"
   ]
  },
  {
   "cell_type": "code",
   "execution_count": null,
   "metadata": {},
   "outputs": [],
   "source": [
    "# you don't actually have to give it a name, hence the \"anonymous\"\n",
    "# can be used one time\n",
    "\n",
    "(lambda x: x ** 2)(5)"
   ]
  },
  {
   "cell_type": "code",
   "execution_count": null,
   "metadata": {},
   "outputs": [],
   "source": [
    "(lambda x, y: x + y)(1, 2)"
   ]
  },
  {
   "cell_type": "markdown",
   "metadata": {},
   "source": [
    "So why bother with an unnamed lambda? Why not simply use 1+2?\n",
    "\n",
    "...\n",
    "\n",
    "We can save the time by using lambda function as an argument of another function (which needs a function)..."
   ]
  },
  {
   "cell_type": "code",
   "execution_count": null,
   "metadata": {},
   "outputs": [],
   "source": [
    "def is_valid_seq(seq, is_valid_letter_func):\n",
    "\n",
    "    for letter in seq:\n",
    "        if not is_valid_letter_func(letter):\n",
    "            return False\n",
    "            \n",
    "    return True\n",
    "\n",
    "dna_seq = 'ACGTTGACGT'\n",
    "print(is_valid_seq(dna_seq, lambda nt: nt in 'ACGT'))\n",
    "print(is_valid_seq(dna_seq, lambda nt: nt in 'ACGU'))\n",
    "\n",
    "# so we can specify the behavior of the required function \"on the go\", without having to predifine it"
   ]
  },
  {
   "cell_type": "code",
   "execution_count": null,
   "metadata": {},
   "outputs": [],
   "source": [
    "# another example of usage\n",
    "\n",
    "pairs = [(1, 6), (4, 2), (8, 1), (7, 6)]\n",
    "print(sorted(pairs, key = lambda pair: pair[0] - pair[1]))"
   ]
  },
  {
   "cell_type": "markdown",
   "metadata": {},
   "source": [
    "Note: if your lambda function becomes too long (and hardly readable), then define the function separately...\n",
    "\n",
    "Note: usage of labmda function is suitable when the function returns something; if the function also changes something else (unexpectedly, has side effects) in the global environment (e.g.), then do not use lambda..."
   ]
  },
  {
   "cell_type": "markdown",
   "metadata": {},
   "source": [
    "##### Exercise"
   ]
  },
  {
   "cell_type": "code",
   "execution_count": null,
   "metadata": {},
   "outputs": [],
   "source": [
    "# Make a regular function which takes as input two integers and returns a boolean\n",
    "# - whether the first integer is larger than the second\n",
    "# Do the same with lambda function"
   ]
  },
  {
   "cell_type": "code",
   "execution_count": null,
   "metadata": {},
   "outputs": [],
   "source": [
    "def checkIfLarger(x,y):\n",
    "    return x>y\n",
    "print(checkIfLarger(5,7))\n",
    "\n",
    "d = lambda x,y: x>y\n",
    "d(7,5)"
   ]
  },
  {
   "cell_type": "markdown",
   "metadata": {},
   "source": [
    "# filter & map"
   ]
  },
  {
   "cell_type": "code",
   "execution_count": null,
   "metadata": {},
   "outputs": [],
   "source": [
    "my_list = [1 ,5, -2, -4, 0, 3, -2]\n",
    "filtered_list = []\n",
    "\n",
    "for number in my_list:\n",
    "    if number > 0:\n",
    "        filtered_list.append(number)\n",
    "        \n",
    "print(filtered_list)"
   ]
  },
  {
   "cell_type": "code",
   "execution_count": null,
   "metadata": {},
   "outputs": [],
   "source": [
    "# filter takes a function and a list of elements\n",
    "# returns only those elements for which the function returns True\n",
    "\n",
    "print(list(filter(lambda x: x > 0, my_list)))"
   ]
  },
  {
   "cell_type": "code",
   "execution_count": null,
   "metadata": {},
   "outputs": [],
   "source": [
    "digits = []\n",
    "\n",
    "for digit in range(10):\n",
    "    digits.append(str(digit))\n",
    "    \n",
    "print(digits)\n",
    "print(''.join(digits))"
   ]
  },
  {
   "cell_type": "code",
   "execution_count": null,
   "metadata": {},
   "outputs": [],
   "source": [
    "# map function takes a function and a sequence\n",
    "# applies the function on every element of the sequence and returns the new sequence\n",
    "\n",
    "digits = list(map(str, range(10)))\n",
    "print(digits)\n",
    "print(''.join(digits))"
   ]
  },
  {
   "cell_type": "code",
   "execution_count": null,
   "metadata": {},
   "outputs": [],
   "source": [
    "# another example\n",
    "\n",
    "print(list(map(lambda x: x ** 2, range(10))))"
   ]
  },
  {
   "cell_type": "code",
   "execution_count": null,
   "metadata": {},
   "outputs": [],
   "source": [
    "complement = {'A': 'T', 'C': 'G', 'G': 'C', 'T': 'A'}\n",
    "dna_seq = 'AATGCGATGCAGTGAGTAAGTCAAAAGTAA'\n",
    "print(''.join(map(complement.get, dna_seq[::-1])))"
   ]
  },
  {
   "cell_type": "markdown",
   "metadata": {},
   "source": [
    "##### Exercise"
   ]
  },
  {
   "cell_type": "code",
   "execution_count": null,
   "metadata": {},
   "outputs": [],
   "source": [
    "# use a filter (and lambda) function to select only negative numbers from the example list\n",
    "# use a map function to take their absolute values\n",
    "# do it in a one-liner :)\n",
    "\n",
    "example_list = list(range(-10,10))"
   ]
  },
  {
   "cell_type": "code",
   "execution_count": null,
   "metadata": {},
   "outputs": [],
   "source": [
    "print(list(map(abs, list(filter(lambda x: x < 0, example_list)))))"
   ]
  },
  {
   "cell_type": "markdown",
   "metadata": {},
   "source": [
    "# List/dict/set comprehension"
   ]
  },
  {
   "cell_type": "code",
   "execution_count": null,
   "metadata": {},
   "outputs": [],
   "source": [
    "print(list(map(lambda x: x ** 2, range(10))))\n",
    "print([x ** 2 for x in range(10)])"
   ]
  },
  {
   "cell_type": "code",
   "execution_count": null,
   "metadata": {},
   "outputs": [],
   "source": [
    "my_list = [1 ,5, -2, -4, 0, 3, -2]\n",
    "print(list(filter(lambda x: x > 0, my_list)))\n",
    "print([x for x in my_list if x > 0])"
   ]
  },
  {
   "cell_type": "code",
   "execution_count": null,
   "metadata": {},
   "outputs": [],
   "source": [
    "print(list(map(lambda x: x ** 2, filter(lambda x: x > 0, my_list))))\n",
    "print([x ** 2 for x in my_list if x > 0])"
   ]
  },
  {
   "cell_type": "code",
   "execution_count": null,
   "metadata": {},
   "outputs": [],
   "source": [
    "dna_seq = 'AATGCGATGCAGTGAGTAAGTCAAAAGTAA'\n",
    "codons = [dna_seq[i:(i + 3)] for i in range(0, len(dna_seq), 3)]\n",
    "print(codons)"
   ]
  },
  {
   "cell_type": "code",
   "execution_count": null,
   "metadata": {},
   "outputs": [],
   "source": [
    "numbers = ['one', 'two', 'three', 'four']\n",
    "numbers_dict = {number: i + 1 for i, number in enumerate(numbers)}\n",
    "print(numbers_dict)"
   ]
  },
  {
   "cell_type": "markdown",
   "metadata": {},
   "source": [
    "##### Exercise"
   ]
  },
  {
   "cell_type": "code",
   "execution_count": null,
   "metadata": {},
   "outputs": [],
   "source": [
    "# Repeat the previous exercise without using lambda, filter, and map, as a one-liner\n",
    "# (select only negative values from the example list and take their absolute values)\n",
    "\n",
    "# noinspection PyRedeclaration\n",
    "example_list = list(range(-10,10))"
   ]
  },
  {
   "cell_type": "code",
   "execution_count": null,
   "metadata": {},
   "outputs": [],
   "source": [
    "# abs(x) for x in example_list if x < 0"
   ]
  },
  {
   "cell_type": "code",
   "execution_count": null,
   "metadata": {},
   "outputs": [],
   "source": [
    "# additional examples - skip\n",
    "\n",
    "from collections import Counter\n",
    "\n",
    "dna_seq = 'AATGCGATGCAGTGAGTAAGTCAAAAGTAA'\n",
    "nt_counts = Counter(dna_seq)\n",
    "print(nt_counts)\n",
    "\n",
    "nt_freqs = {nt: count / len(dna_seq) for nt, count in nt_counts.items()}\n",
    "print(nt_freqs)"
   ]
  },
  {
   "cell_type": "code",
   "execution_count": null,
   "metadata": {},
   "outputs": [],
   "source": [
    "# additional examples - skip\n",
    "\n",
    "print([i % 6 for i in range(5, 20, 2)])\n",
    "print({i % 6 for i in range(5, 20, 2)})\n",
    "\n",
    "# if we wanted a dict: {i: i % 6 for...}"
   ]
  },
  {
   "cell_type": "code",
   "execution_count": null,
   "metadata": {},
   "outputs": [],
   "source": [
    "# additional examples - skip\n",
    "\n",
    "nested_list = [[1, 2, 3], [4, 5], [6, 7, 8, 9], [10]]\n",
    "flat_list = [i for sublist in nested_list for i in sublist]\n",
    "print(flat_list)\n",
    "# can be expaned, e.g.:\n",
    "# flat_list = [i ** 2 for sublist in nested_list for i in sublist if len(sublist) < 3 and i < 8]"
   ]
  },
  {
   "cell_type": "markdown",
   "metadata": {},
   "source": [
    "# JSON"
   ]
  },
  {
   "cell_type": "code",
   "execution_count": null,
   "metadata": {},
   "outputs": [],
   "source": [
    "import json\n",
    "\n",
    "f = open(r'C:\\Users\\mirza\\OneDrive\\Desktop\\Fakultet\\Biological Data Analysis with Python\\Code\\3 herpesvirus_genome.json', 'r')\n",
    "data = json.load(f)\n",
    "f.close()\n",
    "print(type(data))"
   ]
  },
  {
   "cell_type": "code",
   "execution_count": null,
   "metadata": {},
   "outputs": [],
   "source": [
    "# It's safer to check how big something is before printing it.\n",
    "print(len(data))"
   ]
  },
  {
   "cell_type": "code",
   "execution_count": null,
   "metadata": {},
   "outputs": [],
   "source": [
    "for key, value in data.items():\n",
    "    print(key, type(value))"
   ]
  },
  {
   "cell_type": "code",
   "execution_count": null,
   "metadata": {},
   "outputs": [],
   "source": [
    "for key, value in data.items():\n",
    "    if key != 'coding_regions':\n",
    "        print('%s: %s' % (key, value))"
   ]
  },
  {
   "cell_type": "code",
   "execution_count": null,
   "metadata": {},
   "outputs": [],
   "source": [
    "coding_regions = data['coding_regions']\n",
    "print(type(coding_regions))\n",
    "print(len(coding_regions))"
   ]
  },
  {
   "cell_type": "code",
   "execution_count": null,
   "metadata": {},
   "outputs": [],
   "source": [
    "coding_region = coding_regions[0]\n",
    "print(type(coding_region))"
   ]
  },
  {
   "cell_type": "code",
   "execution_count": null,
   "metadata": {},
   "outputs": [],
   "source": [
    "print(len(coding_region))"
   ]
  },
  {
   "cell_type": "code",
   "execution_count": null,
   "metadata": {},
   "outputs": [],
   "source": [
    "for key, value in coding_region.items():\n",
    "    print(key, type(value))"
   ]
  },
  {
   "cell_type": "code",
   "execution_count": null,
   "metadata": {
    "pycharm": {
     "is_executing": true
    }
   },
   "outputs": [],
   "source": [
    "for key, value in coding_region.items():\n",
    "    if key != 'intervals':\n",
    "        print('%s: %s' % (key, value))"
   ]
  },
  {
   "cell_type": "code",
   "execution_count": null,
   "metadata": {},
   "outputs": [],
   "source": [
    "print(len(coding_region['intervals']))"
   ]
  },
  {
   "cell_type": "code",
   "execution_count": null,
   "metadata": {},
   "outputs": [],
   "source": [
    "interval, = coding_region['intervals']\n",
    "print(type(interval))"
   ]
  },
  {
   "cell_type": "code",
   "execution_count": null,
   "metadata": {},
   "outputs": [],
   "source": [
    "print(len(interval))"
   ]
  },
  {
   "cell_type": "code",
   "execution_count": null,
   "metadata": {},
   "outputs": [],
   "source": [
    "for key, value in interval.items():\n",
    "    print(key, type(value))"
   ]
  },
  {
   "cell_type": "code",
   "execution_count": null,
   "metadata": {},
   "outputs": [],
   "source": [
    "print(interval)"
   ]
  },
  {
   "cell_type": "code",
   "execution_count": null,
   "metadata": {},
   "outputs": [],
   "source": [
    "print(coding_region)"
   ]
  },
  {
   "cell_type": "code",
   "execution_count": null,
   "metadata": {},
   "outputs": [],
   "source": [
    "products = []\n",
    "\n",
    "for coding_region in coding_regions:\n",
    "    products.append(coding_region['product'])\n",
    "    \n",
    "print(products)"
   ]
  },
  {
   "cell_type": "code",
   "execution_count": null,
   "metadata": {},
   "outputs": [],
   "source": [
    "lengths_per_group = {'envelope': [], 'membrane': [], 'capsid': []}\n",
    "all_lengths = []\n",
    "\n",
    "for coding_region in coding_regions:\n",
    "    \n",
    "    product_name = coding_region['product'].lower()\n",
    "    length = len(coding_region['translation'])\n",
    "    \n",
    "    for group_name, group_lengths in lengths_per_group.items():\n",
    "        if group_name in product_name:\n",
    "            group_lengths.append(length)\n",
    "    \n",
    "    all_lengths.append(length)\n",
    "    \n",
    "lengths_per_group['all'] = all_lengths\n",
    "\n",
    "for group_name, group_lengths in sorted(lengths_per_group.items()):\n",
    "    avg = sum(group_lengths) / len(group_lengths)\n",
    "    print('%s: # = %d, avg. = %.2f aa' % (group_name, len(group_lengths), avg))"
   ]
  },
  {
   "cell_type": "code",
   "execution_count": null,
   "metadata": {},
   "outputs": [],
   "source": [
    "f = open(r'C:\\Users\\mirza\\OneDrive\\Desktop\\Fakultet\\Biological Data Analysis with Python\\Code\\protein_lengths_per_group.json', 'w')\n",
    "json.dump(lengths_per_group, f)\n",
    "f.close()"
   ]
  },
  {
   "cell_type": "code",
   "execution_count": null,
   "metadata": {},
   "outputs": [],
   "source": [
    "# convert json/original data to raw format\n",
    "raw_json = json.dumps(lengths_per_group)\n",
    "print(type(raw_json))\n",
    "print(raw_json)"
   ]
  },
  {
   "cell_type": "code",
   "execution_count": null,
   "metadata": {},
   "outputs": [],
   "source": [
    "# convert it back to the json/original data\n",
    "data = json.loads(raw_json)\n",
    "print(type(data))\n",
    "print(data)"
   ]
  },
  {
   "cell_type": "code",
   "execution_count": null,
   "outputs": [],
   "source": [],
   "metadata": {
    "collapsed": false
   }
  }
 ],
 "metadata": {
  "kernelspec": {
   "display_name": "Python 3",
   "language": "python",
   "name": "python3"
  },
  "language_info": {
   "codemirror_mode": {
    "name": "ipython",
    "version": 3
   },
   "file_extension": ".py",
   "mimetype": "text/x-python",
   "name": "python",
   "nbconvert_exporter": "python",
   "pygments_lexer": "ipython3",
   "version": "3.7.10"
  }
 },
 "nbformat": 4,
 "nbformat_minor": 1
}
