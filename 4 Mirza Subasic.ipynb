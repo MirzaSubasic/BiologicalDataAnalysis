{
 "cells": [
  {
   "cell_type": "markdown",
   "source": [
    "# HOMEWORK 4\n",
    "\n",
    "###### Source: https://ftp.ebi.ac.uk/pub/databases/Pfam/releases/Pfam31.0/proteomes/9606.tsv.gz\n",
    "####\n",
    "###### PANDAS\n",
    "###### A) Read the file properly and print out a brief summary of the data.\n",
    "###### B) Print out the total number of entries in each category under the “type” column.\n",
    "###### C) Calculate the length of every entry.\n",
    "###### D) Print out the average length of every type of entry (from part B) ).\n",
    "###### E) Print out the five longest and five shortest domain entries.\n",
    "####\n",
    "###### MATPLOTLIB\n",
    "###### F) Use a bar plot to visualize the data from step D.\n",
    "###### G) Plot the distribution of domain lengths using Histogram and Box plot."
   ],
   "metadata": {
    "collapsed": false
   }
  },
  {
   "cell_type": "code",
   "execution_count": null,
   "outputs": [],
   "source": [
    "import pandas as pd\n",
    "from IPython.display import display\n",
    "import matplotlib.pyplot as plt"
   ],
   "metadata": {
    "collapsed": false
   }
  },
  {
   "cell_type": "code",
   "execution_count": null,
   "outputs": [],
   "source": [
    "df = pd.read_table(r'C:\\Users\\mirza\\Downloads\\9606.tsv.gz', header=2,\n",
    "                   names=[\"seq id\", \"alignment start\", \"alignment end\", \"envelope start\",\n",
    "                          \"envelope end\", \"hmm acc\", \"hmm name\", \"type\", \"hmm start\",\n",
    "                          \"hmm end\", \"hmm length\", \"bit score\", \"E-value\", \"clan\"])\n",
    "\n",
    "display(df.head(3))"
   ],
   "metadata": {
    "collapsed": false
   }
  },
  {
   "cell_type": "code",
   "execution_count": null,
   "outputs": [],
   "source": [
    "# PART A\n",
    "\n",
    "display(df.describe())"
   ],
   "metadata": {
    "collapsed": false
   }
  },
  {
   "cell_type": "code",
   "execution_count": null,
   "outputs": [],
   "source": [
    "# PART B\n",
    "\n",
    "type_column = df['type']\n",
    "print(type_column.value_counts())"
   ],
   "metadata": {
    "collapsed": false
   }
  },
  {
   "cell_type": "code",
   "execution_count": null,
   "outputs": [],
   "source": [
    "# PART C\n",
    "\n",
    "df['alignment length'] = (df['alignment end'] - df['alignment start'])\n",
    "\n",
    "#display(df.head(3))\n",
    "display(df['alignment length'].head(3))"
   ],
   "metadata": {
    "collapsed": false
   }
  },
  {
   "cell_type": "code",
   "execution_count": null,
   "outputs": [],
   "source": [
    "# PART D\n",
    "def avg_len(type_name, length):\n",
    "    data = df.loc[df['type'] == type_name]\n",
    "    length1 = sum(data['alignment length'])/length\n",
    "    print(\"Average length of type\", type_name, \"is:\", round(length1, 2))\n",
    "\n",
    "avg_len(\"Domain\", 57203)\n",
    "avg_len(\"Family\", 31138)\n",
    "avg_len(\"Repeat\", 8354)\n",
    "avg_len(\"Motif\", 761)\n",
    "avg_len(\"Coiled-coil\", 508)\n",
    "avg_len(\"Disordered\", 272)"
   ],
   "metadata": {
    "collapsed": false
   }
  },
  {
   "cell_type": "code",
   "execution_count": null,
   "outputs": [],
   "source": [
    "# PART E\n",
    "domain_df = df.loc[df['type'] == 'Domain']\n",
    "\n",
    "print(\"Five shortest domain entries\")\n",
    "domain_df.sort_values('alignment length', ascending=True).head(5)"
   ],
   "metadata": {
    "collapsed": false
   }
  },
  {
   "cell_type": "code",
   "execution_count": null,
   "outputs": [],
   "source": [
    "print(\"Five shortest domain entries\")\n",
    "domain_df.sort_values('alignment length', ascending=False).head(5)"
   ],
   "metadata": {
    "collapsed": false
   }
  },
  {
   "cell_type": "code",
   "execution_count": null,
   "outputs": [],
   "source": [
    "# PART F\n",
    "data = {'Domain':87.6, 'Family':143.9, 'Repeat':44.87,\n",
    "        'Motif':24.37, 'Coiled-coil':211.62, 'Disordered':87.88}\n",
    "\n",
    "courses = list(data.keys())\n",
    "values = list(data.values())\n",
    "\n",
    "fig = plt.figure(figsize = (10, 5))\n",
    "\n",
    "# creating the bar plot\n",
    "plt.bar(courses, values, width= 0.5)\n",
    "\n",
    "plt.xlabel(\"Type\")\n",
    "plt.ylabel(\"Average length\")\n",
    "\n",
    "plt.show()"
   ],
   "metadata": {
    "collapsed": false
   }
  },
  {
   "cell_type": "code",
   "execution_count": null,
   "outputs": [],
   "source": [
    "# PART G\n",
    "fig, ax = plt.subplots(2, figsize=(10, 5))\n",
    "\n",
    "# draw graph\n",
    "ax[0].hist(domain_df['alignment length'], bins = 25)\n",
    "ax[1].boxplot(domain_df['alignment length'], showmeans = True)\n",
    "\n",
    "fig.suptitle('Distribution of domain lengths using Histogram and Box plot', fontsize=12)\n",
    "\n",
    "plt.show()"
   ],
   "metadata": {
    "collapsed": false
   }
  },
  {
   "cell_type": "code",
   "execution_count": null,
   "outputs": [],
   "source": [],
   "metadata": {
    "collapsed": false
   }
  }
 ],
 "metadata": {
  "kernelspec": {
   "display_name": "Python 3",
   "language": "python",
   "name": "python3"
  },
  "language_info": {
   "codemirror_mode": {
    "name": "ipython",
    "version": 2
   },
   "file_extension": ".py",
   "mimetype": "text/x-python",
   "name": "python",
   "nbconvert_exporter": "python",
   "pygments_lexer": "ipython2",
   "version": "2.7.6"
  }
 },
 "nbformat": 4,
 "nbformat_minor": 0
}
