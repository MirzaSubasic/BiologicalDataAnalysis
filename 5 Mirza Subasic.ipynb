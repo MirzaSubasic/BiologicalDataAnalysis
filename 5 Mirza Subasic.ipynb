{
 "cells": [
  {
   "cell_type": "markdown",
   "source": [
    "## HOMEWORK 5\n",
    "\n",
    "###### A) Analyze the correlation between all different cancer types.\n",
    "###### B) Focus on two states: California and Oregon.\n",
    "###### C) Focus on only two states: Texas and Washington, as well as two cancer types: Leukemia, and Melanoma of the skin (you’ll get a 2x2 table)."
   ],
   "metadata": {
    "collapsed": false
   }
  },
  {
   "cell_type": "code",
   "execution_count": null,
   "outputs": [],
   "source": [
    "import pandas as pd\n",
    "import numpy as np"
   ],
   "metadata": {
    "collapsed": false
   }
  },
  {
   "cell_type": "code",
   "execution_count": null,
   "outputs": [],
   "source": [
    "df = pd.read_csv(\"USA Cancer Estimates.csv\", thousands=',')\n",
    "df.head(3)"
   ],
   "metadata": {
    "collapsed": false
   }
  },
  {
   "cell_type": "code",
   "execution_count": null,
   "outputs": [],
   "source": [
    "# Uterine Cervix has NA\n",
    "print(df['Uterine Cervix'].isnull().values.any())"
   ],
   "metadata": {
    "collapsed": false
   }
  },
  {
   "cell_type": "code",
   "execution_count": null,
   "outputs": [],
   "source": [
    "# PART A\n",
    "# replace na values with mean values\n",
    "df['Uterine Cervix'] = df['Uterine Cervix'].replace(np.nan, df['Uterine Cervix'].mean())\n",
    "\n",
    "print(\"NA values in Uterine Cervix column:\", df['Uterine Cervix'].isnull().values.any())"
   ],
   "metadata": {
    "collapsed": false
   }
  },
  {
   "cell_type": "code",
   "execution_count": null,
   "outputs": [],
   "source": [
    "df = df.drop(columns='Unnamed: 12')\n",
    "df.head(2)"
   ],
   "metadata": {
    "collapsed": false
   }
  },
  {
   "cell_type": "code",
   "execution_count": null,
   "outputs": [],
   "source": [
    "# rank correlation\n",
    "df.corr(method = 'spearman').round(decimals=4)"
   ],
   "metadata": {
    "collapsed": false
   }
  },
  {
   "cell_type": "code",
   "execution_count": null,
   "outputs": [],
   "source": [
    "corr_mat_spearman = df.corr(method = 'spearman').round(decimals=4)\n",
    "\n",
    "sorted_mat = corr_mat_spearman.unstack().sort_values()\n",
    "\n",
    "print(\"Min 5 correlations\")\n",
    "print(sorted_mat[0:5])\n",
    "\n",
    "#does not print last 11 correlations because they are between same columns\n",
    "print(\"Max 5 correlations\")\n",
    "print(sorted_mat[len(sorted_mat)-16:len(sorted_mat)-11])"
   ],
   "metadata": {
    "collapsed": false
   }
  },
  {
   "cell_type": "code",
   "execution_count": null,
   "outputs": [],
   "source": [
    "# linear correlation\n",
    "df.corr().round(decimals=4)"
   ],
   "metadata": {
    "collapsed": false
   }
  },
  {
   "cell_type": "code",
   "execution_count": null,
   "outputs": [],
   "source": [
    "corr_mat_linear = df.corr().round(decimals=4)\n",
    "\n",
    "sorted_mat1 = corr_mat_linear.unstack().sort_values()\n",
    "\n",
    "print(\"Min 5 correlations\")\n",
    "print(sorted_mat1[0:5])\n",
    "\n",
    "#does not print last 11 correlations because they are between same columns\n",
    "print(\"Max 5 correlations\")\n",
    "print(sorted_mat1[len(sorted_mat1)-16:len(sorted_mat1)-11])"
   ],
   "metadata": {
    "collapsed": false
   }
  },
  {
   "cell_type": "code",
   "execution_count": null,
   "outputs": [],
   "source": [
    "# part B\n",
    "Oregon_df = df[df[\"State\"] == \"Oregon\"]\n",
    "California_df = df[df[\"State\"] == \"California\"]\n",
    "\n",
    "Oregon_population_in_millions = 4.3\n",
    "California_population_in_millions = 39"
   ],
   "metadata": {
    "collapsed": false
   }
  },
  {
   "cell_type": "code",
   "execution_count": null,
   "outputs": [],
   "source": [
    "#normalize dataset per 1 million people\n",
    "for column in Oregon_df.columns:\n",
    "    if column != \"State\":\n",
    "        Oregon_df[column] = round(Oregon_df[column] / Oregon_population_in_millions, 2)\n",
    "\n",
    "for column in California_df.columns:\n",
    "    if column != \"State\":\n",
    "        California_df[column] = round(California_df[column] / California_population_in_millions, 2)"
   ],
   "metadata": {
    "collapsed": false
   }
  },
  {
   "cell_type": "code",
   "execution_count": null,
   "outputs": [],
   "source": [
    "Oregon_df = Oregon_df.drop(columns=\"State\")\n",
    "California_df = California_df.drop(columns=\"State\")"
   ],
   "metadata": {
    "collapsed": false
   }
  },
  {
   "cell_type": "code",
   "execution_count": null,
   "outputs": [],
   "source": [
    "from scipy.stats import ttest_ind, mannwhitneyu, stats\n",
    "\n",
    "# t-test, u-test and k-s test\n",
    "for column in Oregon_df.columns:\n",
    "    t_stat, t_pval = ttest_ind(Oregon_df[column], California_df[column], equal_var=False)\n",
    "    u_test, u_pval = mannwhitneyu(Oregon_df[column], California_df[column], alternative = 'two-sided')\n",
    "    print(column)\n",
    "    print('Significance: %.2g (t-test), %.2g (U-test)' % (t_pval, u_pval))\n",
    "    print(stats.kstest(Oregon_df[column], California_df[column]))"
   ],
   "metadata": {
    "collapsed": false
   }
  },
  {
   "cell_type": "code",
   "execution_count": null,
   "outputs": [],
   "source": [
    "# part C\n",
    "WT_df = df[['Leukemia', 'Melanoma of the Skin']]\n",
    "#row 43 is Texas, population is 29,53 millions\n",
    "#row 47 is Washington, population is 7,74 millions\n",
    "WT_df = WT_df.loc[[43,47], :]"
   ],
   "metadata": {
    "collapsed": false
   }
  },
  {
   "cell_type": "code",
   "execution_count": null,
   "outputs": [],
   "source": [
    "#normalize data for Texas\n",
    "for column in WT_df.columns:\n",
    "    WT_df.iloc[0][column] = round(WT_df.iloc[0][column] / 29.53, 2)\n",
    "\n",
    "#normalize data for Washington\n",
    "for column in WT_df.columns:\n",
    "    WT_df.iloc[1][column] = round(WT_df.iloc[1][column] / 7.74, 2)"
   ],
   "metadata": {
    "collapsed": false
   }
  },
  {
   "cell_type": "code",
   "execution_count": null,
   "outputs": [],
   "source": [
    "t_stat, t_pval = ttest_ind(WT_df.iloc[0]['Leukemia'], WT_df.iloc[1]['Leukemia'], equal_var=False)\n",
    "u_test, u_pval = mannwhitneyu(WT_df.iloc[0]['Leukemia'], WT_df.iloc[1]['Leukemia'], alternative = 'two-sided')\n",
    "print('Significance: %.2g (t-test), %.2g (U-test)' % (t_pval, u_pval))"
   ],
   "metadata": {
    "collapsed": false
   }
  },
  {
   "cell_type": "code",
   "execution_count": null,
   "outputs": [],
   "source": [],
   "metadata": {
    "collapsed": false
   }
  }
 ],
 "metadata": {
  "kernelspec": {
   "display_name": "Python 3",
   "language": "python",
   "name": "python3"
  },
  "language_info": {
   "codemirror_mode": {
    "name": "ipython",
    "version": 2
   },
   "file_extension": ".py",
   "mimetype": "text/x-python",
   "name": "python",
   "nbconvert_exporter": "python",
   "pygments_lexer": "ipython2",
   "version": "2.7.6"
  }
 },
 "nbformat": 4,
 "nbformat_minor": 0
}
