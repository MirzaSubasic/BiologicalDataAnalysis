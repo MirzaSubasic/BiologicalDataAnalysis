{
 "cells": [
  {
   "cell_type": "markdown",
   "metadata": {},
   "source": [
    "# Functions"
   ]
  },
  {
   "cell_type": "code",
   "execution_count": null,
   "metadata": {},
   "outputs": [],
   "source": [
    "import random\n",
    "\n",
    "def some_func():\n",
    "    print(random.choice(['A', 'C', 'G', 'T']))\n",
    "    \n",
    "for _ in range(5):\n",
    "    some_func()"
   ]
  },
  {
   "cell_type": "code",
   "execution_count": null,
   "metadata": {},
   "outputs": [],
   "source": [
    "def f(a):\n",
    "    return a ** 2\n",
    "    \n",
    "b = f(5.5)\n",
    "print(b)"
   ]
  },
  {
   "cell_type": "code",
   "execution_count": null,
   "metadata": {},
   "outputs": [],
   "source": [
    "def func(arg1, arg2):\n",
    "    return (arg1 + 2 * arg2) / 3\n",
    "    \n",
    "print(func(3, 6))\n",
    "print(func(13, 13))"
   ]
  },
  {
   "cell_type": "code",
   "execution_count": null,
   "metadata": {},
   "outputs": [],
   "source": [
    "# Providing argument values by position vs. by keyword\n",
    "print(func(1, arg2 = 2))\n",
    "print(func(arg2 = 2, arg1 = 1))"
   ]
  },
  {
   "cell_type": "code",
   "execution_count": null,
   "metadata": {},
   "outputs": [],
   "source": [
    "#print(func( arg1 = 13, 13))"
   ]
  },
  {
   "cell_type": "code",
   "execution_count": null,
   "metadata": {},
   "outputs": [],
   "source": [
    "# Default value\n",
    "\n",
    "def duplicate(string, number = 2):\n",
    "    return string * number\n",
    "    \n",
    "print(duplicate('foo'))\n",
    "print(duplicate('foo', 2))\n",
    "print(duplicate('foo', number = 2))\n",
    "print(duplicate('foo', 5))"
   ]
  },
  {
   "cell_type": "code",
   "execution_count": null,
   "metadata": {},
   "outputs": [],
   "source": [
    "def g(a, b = 2, c):\n",
    "    return a + b + c"
   ]
  },
  {
   "cell_type": "code",
   "execution_count": null,
   "metadata": {},
   "outputs": [],
   "source": [
    "# In Python, all functions return something (at least none, even if we do not explicitly return it)\n",
    "# It's better to explicitly return None, but this would work as well...\n",
    "\n",
    "def calc(x, y):\n",
    "    if x > y:\n",
    "        return x - y\n",
    "        \n",
    "print(calc(5, 3))\n",
    "print(calc(3, 5))"
   ]
  },
  {
   "cell_type": "code",
   "execution_count": null,
   "metadata": {},
   "outputs": [],
   "source": [
    "# Like everything else, functions are objects\n",
    "f = calc\n",
    "print(f(5, 3))\n",
    "print(type(f))"
   ]
  },
  {
   "cell_type": "code",
   "execution_count": null,
   "metadata": {},
   "outputs": [],
   "source": [
    "# Functions can also be arguments of other functions\n",
    "\n",
    "def convert_seq(seq, convert_letter_function):\n",
    "\n",
    "    converted_seq = []\n",
    "    \n",
    "    for letter in seq:\n",
    "        converted_seq.append(convert_letter_function(letter))\n",
    "\n",
    "    return ''.join(converted_seq)\n",
    "    \n",
    "def dna_nt_to_rna_nt(nt):\n",
    "    if nt == 'T':\n",
    "        return 'U'\n",
    "    else:\n",
    "        return nt\n",
    "    \n",
    "def rna_nt_to_dna_nt(nt):\n",
    "    if nt == 'U':\n",
    "        return 'T'\n",
    "    else:\n",
    "        return nt\n",
    "    \n",
    "print(convert_seq('ATTCGA', dna_nt_to_rna_nt))\n",
    "print(convert_seq('UUUAGU', rna_nt_to_dna_nt))"
   ]
  },
  {
   "cell_type": "code",
   "execution_count": null,
   "metadata": {},
   "outputs": [],
   "source": [
    "# Can have functions within functions\n",
    "# Helper function is only available within the context of the outer function\n",
    "\n",
    "def dna_to_rna(dna_seq):\n",
    "\n",
    "    def convert_nt(nt):\n",
    "        if nt == 'T':\n",
    "            return 'U'\n",
    "        else:\n",
    "            return nt\n",
    "            \n",
    "    rna_seq = ''\n",
    "            \n",
    "    for nt in dna_seq:\n",
    "        rna_seq += convert_nt(nt)\n",
    "        \n",
    "    return rna_seq\n",
    "    \n",
    "print(dna_to_rna('AAAGAGAGAATGTTGC'))"
   ]
  },
  {
   "cell_type": "code",
   "execution_count": null,
   "metadata": {},
   "outputs": [],
   "source": [
    "# Global vs. local variables\n",
    "\n",
    "x = 5\n",
    "\n",
    "def f():\n",
    "    x = 3\n",
    "    # x = 3\n",
    "    return x + 1\n",
    "    \n",
    "print(f())\n",
    "print(x)"
   ]
  },
  {
   "cell_type": "code",
   "execution_count": null,
   "metadata": {},
   "outputs": [],
   "source": [
    "# local variables have a \"priority\" within a function\n",
    "# var1 = var1 + var2 -> var1 doesn't exist at this point\n",
    "var1, var2 = 5, 6\n",
    "\n",
    "def f():\n",
    "    var1 += var2\n",
    "    \n",
    "f()"
   ]
  },
  {
   "cell_type": "code",
   "execution_count": null,
   "metadata": {},
   "outputs": [],
   "source": [
    "# it is not recommended for functions to change global variables, but you can still do it\n",
    "\n",
    "def f2():\n",
    "    global var1, var2\n",
    "    var1 += var2\n",
    "    \n",
    "f2()\n",
    "print(var1)"
   ]
  },
  {
   "cell_type": "code",
   "execution_count": null,
   "metadata": {},
   "outputs": [],
   "source": [
    "# 'global' is required only when changing the actual variable\n",
    "# append doesn't modify the global variable, it just extends it in memory, but x still retains the same id\n",
    "# += changes the original global variable\n",
    "# it is recommended to state global x for f1 as well, for clarity\n",
    "\n",
    "x = []\n",
    "\n",
    "def f1():\n",
    "    x.append(5)\n",
    "    \n",
    "def f2(x=None):\n",
    "    # global x\n",
    "    x += [6]\n",
    "    \n",
    "print(x)\n",
    "f1()\n",
    "print(x)\n",
    "f2()\n",
    "print(x)"
   ]
  },
  {
   "cell_type": "markdown",
   "metadata": {},
   "source": [
    "# Builtin functions"
   ]
  },
  {
   "cell_type": "code",
   "execution_count": null,
   "metadata": {},
   "outputs": [],
   "source": [
    "print(sum(range(5)))\n",
    "print(max([1, 5, 6, 2]))\n",
    "print(min(1, 5, 6, 2))\n",
    "print(abs(-5))"
   ]
  },
  {
   "cell_type": "code",
   "execution_count": null,
   "metadata": {},
   "outputs": [],
   "source": [
    "# dir will give you all of the attributes associated with this object type\n",
    "\n",
    "s = 'string'\n",
    "dir(s)"
   ]
  },
  {
   "cell_type": "code",
   "execution_count": null,
   "metadata": {},
   "outputs": [],
   "source": [
    "# dir alone gives you everything defined within the scope of the current environment\n",
    "\n",
    "dir()"
   ]
  },
  {
   "cell_type": "code",
   "execution_count": null,
   "metadata": {},
   "outputs": [],
   "source": [
    "# dir on __builtin__ returns all of the available built in stuff (for the current environment)\n",
    "\n",
    "dir(__builtin__)"
   ]
  },
  {
   "cell_type": "code",
   "execution_count": null,
   "metadata": {},
   "outputs": [],
   "source": [
    "for s in dir(__builtin__):\n",
    "    if 'set' in s.lower():\n",
    "        print(s)"
   ]
  },
  {
   "cell_type": "code",
   "execution_count": null,
   "metadata": {},
   "outputs": [],
   "source": [
    "# you can find info about any function...\n",
    "\n",
    "help(reversed)"
   ]
  },
  {
   "cell_type": "code",
   "execution_count": null,
   "metadata": {},
   "outputs": [],
   "source": [
    "sum?"
   ]
  },
  {
   "cell_type": "code",
   "execution_count": null,
   "metadata": {},
   "outputs": [],
   "source": [
    "str.lower?"
   ]
  },
  {
   "cell_type": "markdown",
   "metadata": {},
   "source": [
    "# Modules"
   ]
  },
  {
   "cell_type": "code",
   "execution_count": null,
   "metadata": {},
   "outputs": [],
   "source": [
    "import random\n",
    "print(random.random())"
   ]
  },
  {
   "cell_type": "code",
   "execution_count": null,
   "metadata": {},
   "outputs": [],
   "source": [
    "# like everything else in Python, modules are also an object\n",
    "\n",
    "rrr1 = random\n",
    "print(rrr1.random())"
   ]
  },
  {
   "cell_type": "code",
   "execution_count": null,
   "metadata": {},
   "outputs": [],
   "source": [
    "# this is the recommended syntax:\n",
    "\n",
    "import random as rrr2\n",
    "print(rrr2.random())"
   ]
  },
  {
   "cell_type": "code",
   "execution_count": null,
   "metadata": {},
   "outputs": [],
   "source": [
    "from random import randint\n",
    "print(randint(0, 10))\n",
    "\n",
    "from random import randint, choice as c\n",
    "print(c('acde'))\n",
    "\n",
    "from random import * # Not recommended!\n",
    "print(random())"
   ]
  },
  {
   "cell_type": "code",
   "execution_count": null,
   "metadata": {},
   "outputs": [],
   "source": [
    "import sys\n",
    "print(sys.version)\n",
    "print('*' * 20)\n",
    "print(sys.path) # a list of directories which Python looks at (in this order) when importing stuff"
   ]
  },
  {
   "cell_type": "code",
   "execution_count": null,
   "metadata": {},
   "outputs": [],
   "source": [
    "import math\n",
    "print(math.exp(2))\n",
    "print(math.e ** 2)\n",
    "print(math.pi)\n",
    "print(math.sin(math.pi / 6))\n",
    "print(math.log(100))\n",
    "print(math.log10(100))\n",
    "print(math.log2(100))\n",
    "print(math.log(81) / math.log(3))"
   ]
  },
  {
   "cell_type": "markdown",
   "metadata": {},
   "source": [
    "# Useful bound functions"
   ]
  },
  {
   "cell_type": "code",
   "execution_count": null,
   "metadata": {},
   "outputs": [],
   "source": [
    "string = 'The sea was wet as wet could be, the sands were dry as dry.'\n",
    "\n",
    "print(string.upper())\n",
    "print(string.lower())"
   ]
  },
  {
   "cell_type": "code",
   "execution_count": null,
   "metadata": {},
   "outputs": [],
   "source": [
    "# there is a difference between .find and .index; usage depends on your needs\n",
    "\n",
    "print(string.find('the'))\n",
    "print(string.index('the'))\n",
    "\n",
    "print(string.find('seas'))\n",
    "print(string.index('seas'))"
   ]
  },
  {
   "cell_type": "code",
   "execution_count": null,
   "metadata": {},
   "outputs": [],
   "source": [
    "print(string.startswith('The sea'))\n",
    "print(string.startswith('The seas'))\n",
    "print(string.endswith('dry'))"
   ]
  },
  {
   "cell_type": "code",
   "execution_count": null,
   "metadata": {},
   "outputs": [],
   "source": [
    "print(string.replace('as', 'more than'))\n",
    "print(string.replace(' as ', ' more than '))"
   ]
  },
  {
   "cell_type": "code",
   "execution_count": null,
   "metadata": {},
   "outputs": [],
   "source": [
    "print(string.split(' '))\n",
    "print(string.split())\n",
    "print(string.split(' as '))"
   ]
  },
  {
   "cell_type": "code",
   "execution_count": null,
   "metadata": {},
   "outputs": [],
   "source": [
    "long_string = \\\n",
    "'''The sea was wet as wet could be,\n",
    "The sands were dry as dry.\n",
    "You could not see a cloud, because\n",
    "No cloud was in the sky:\n",
    "No birds were flying overhead--\n",
    "There were no birds to fly.'''\n",
    "\n",
    "print(long_string.splitlines())\n",
    "print(long_string.split('\\n'))"
   ]
  },
  {
   "cell_type": "code",
   "execution_count": null,
   "metadata": {},
   "outputs": [],
   "source": [
    "print('123456'.isdigit()) # True\n",
    "print('A123456'.isdigit()) # False\n",
    "print('123 456'.isdigit()) # False\n",
    "\n",
    "print('AaBbCc'.isalpha()) # True\n",
    "print('A123456'.isalpha()) # False\n",
    "print('A '.isalpha()) # False\n",
    "\n",
    "print('123 abc !'.islower()) # True\n",
    "print('123 abc A'.islower()) # False\n",
    "\n",
    "print('123 ABC !'.isupper()) # True\n",
    "print('123 ABC a'.isupper()) # False\n",
    "\n",
    "print(' \\t\\r\\n'.isspace()) # True\n",
    "print(' \\t\\r\\n1'.isspace()) # False"
   ]
  },
  {
   "cell_type": "code",
   "execution_count": null,
   "metadata": {},
   "outputs": [],
   "source": [
    "# strip (only) from both sides (not from the middle)\n",
    "\n",
    "print('   GAAGACT   \\t\\r\\n'.strip())\n",
    "print('NNGATGCGNNAGATGGGTNNNN'.strip('N'))"
   ]
  },
  {
   "cell_type": "code",
   "execution_count": null,
   "metadata": {},
   "outputs": [],
   "source": [
    "codons = ['ATG', 'TGT', 'AGG', 'GAA', 'TGT', 'ATG', 'ATC', 'TAG']\n",
    "print(codons)\n",
    "\n",
    "print(codons.count('TGT'))\n",
    "\n",
    "print(codons.pop())\n",
    "print(codons)\n",
    "\n",
    "print(codons.pop(1))\n",
    "print(codons)"
   ]
  },
  {
   "cell_type": "code",
   "execution_count": null,
   "metadata": {},
   "outputs": [],
   "source": [
    "codons = ['ATG', 'TGT', 'AGG', 'GAA', 'TGT', 'ATG', 'ATC', 'TAG']\n",
    "aa_seq = 'MCRECMI*'\n",
    "\n",
    "codon_and_aa = list(zip(codons, aa_seq))\n",
    "print(codon_and_aa)\n",
    "\n",
    "codon_table = dict(codon_and_aa)\n",
    "print(codon_table)"
   ]
  },
  {
   "cell_type": "code",
   "execution_count": null,
   "metadata": {},
   "outputs": [],
   "source": [
    "print(list(zip(codons, aa_seq[:-1])))\n",
    "print(list(zip(range(5), ['zero', 'one', 'two', 'three', 'four'], [None, None, True, True, False])))"
   ]
  },
  {
   "cell_type": "code",
   "execution_count": null,
   "metadata": {},
   "outputs": [],
   "source": [
    "print(list(enumerate(codons)))"
   ]
  },
  {
   "cell_type": "code",
   "execution_count": null,
   "metadata": {},
   "outputs": [],
   "source": [
    "for i, codon in enumerate(codons):\n",
    "    print('Codon %d: %s' % (i, codon))"
   ]
  },
  {
   "cell_type": "code",
   "execution_count": null,
   "metadata": {},
   "outputs": [],
   "source": [
    "for i, codon_and_aa in enumerate(zip(codons, aa_seq)):\n",
    "    codon, aa = codon_and_aa\n",
    "    print('Codon %d: %s (%s)' % (i, codon, aa))"
   ]
  },
  {
   "cell_type": "code",
   "execution_count": null,
   "metadata": {},
   "outputs": [],
   "source": [
    "a, (b, c) = [1, [2, 3]]\n",
    "print('a = %d, b = %d, c = %d' % (a, b, c))"
   ]
  },
  {
   "cell_type": "code",
   "execution_count": null,
   "metadata": {},
   "outputs": [],
   "source": [
    "for i, (codon, aa) in enumerate(zip(codons, aa_seq)):\n",
    "    print('Codon %d: %s (%s)' % (i, codon, aa))"
   ]
  },
  {
   "cell_type": "markdown",
   "metadata": {},
   "source": [
    "# Sorting"
   ]
  },
  {
   "cell_type": "code",
   "execution_count": null,
   "metadata": {},
   "outputs": [],
   "source": [
    "values = [1.0, 3.0, -1.2, 5.61, 2.11, 0.002, -2]\n",
    "print(sorted(values))\n",
    "print(sorted(values, reverse = True))"
   ]
  },
  {
   "cell_type": "code",
   "execution_count": null,
   "metadata": {},
   "outputs": [],
   "source": [
    "print(values)\n",
    "values.sort()\n",
    "print(values)"
   ]
  },
  {
   "cell_type": "code",
   "execution_count": null,
   "metadata": {},
   "outputs": [],
   "source": [
    "print(sorted(values, key = abs))\n",
    "print(sorted(values, key = abs, reverse = True))"
   ]
  },
  {
   "cell_type": "code",
   "execution_count": null,
   "metadata": {},
   "outputs": [],
   "source": [
    "tuples = [(1, 2), (-1, 3), (0, 2), (5, 0), (3, 4), (0, -1)]\n",
    "print(sorted(tuples))"
   ]
  },
  {
   "cell_type": "code",
   "execution_count": null,
   "metadata": {},
   "outputs": [],
   "source": [
    "def get_value(pair):\n",
    "    return pair[1]\n",
    "    \n",
    "print(sorted(tuples, key = get_value))"
   ]
  },
  {
   "cell_type": "code",
   "execution_count": null,
   "metadata": {},
   "outputs": [],
   "source": [
    "# if we want to sort it according to the first item, when the second ones are the same\n",
    "def get_value(pair):\n",
    "    return pair[1],pair[0]\n",
    "    \n",
    "print(sorted(tuples, key = get_value))"
   ]
  },
  {
   "cell_type": "code",
   "execution_count": null,
   "metadata": {},
   "outputs": [],
   "source": [
    "animals = ['dog', 'cat', 'mouse', 'elephant']\n",
    "print(sorted(animals))\n",
    "print(sorted(animals, key = len))"
   ]
  },
  {
   "cell_type": "markdown",
   "metadata": {},
   "source": [
    "# Files"
   ]
  },
  {
   "cell_type": "code",
   "execution_count": null,
   "metadata": {},
   "outputs": [],
   "source": [
    "f = open(r'C:\\Users\\mirza\\OneDrive\\Desktop\\Fakultet\\Biological Data Analysis with Python\\Code\\2 BRCA1.txt', 'r')\n",
    "print(f)\n",
    "print('*' * 20)\n",
    "\n",
    "content = f.read()\n",
    "print(content)"
   ]
  },
  {
   "cell_type": "code",
   "execution_count": null,
   "metadata": {},
   "outputs": [],
   "source": [
    "print(f.read())"
   ]
  },
  {
   "cell_type": "code",
   "execution_count": null,
   "metadata": {},
   "outputs": [],
   "source": [
    "# Never forget to close a file!\n",
    "f.close()"
   ]
  },
  {
   "cell_type": "code",
   "execution_count": null,
   "metadata": {},
   "outputs": [],
   "source": [
    "# Parsing is a common programming routine\n",
    "\n",
    "meta = {}\n",
    "exons = []\n",
    "\n",
    "for line in content.splitlines():\n",
    "    \n",
    "    key, value = line.split('\\t')\n",
    "    \n",
    "    if key == 'exon':\n",
    "        start, end = value.split('..')\n",
    "        exons.append((int(start), int(end)))\n",
    "    else:\n",
    "        meta[key] = value\n",
    "        \n",
    "        \n",
    "# Print the parsed data to see we got it right\n",
    "\n",
    "for key, value in meta.items():\n",
    "    print('%s: %s' % (key, value))\n",
    "\n",
    "print('*' * 20)\n",
    "print('Exons:')\n",
    "print(exons)"
   ]
  },
  {
   "cell_type": "code",
   "execution_count": null,
   "metadata": {},
   "outputs": [],
   "source": [
    "exon_lengths = []\n",
    "\n",
    "for start, end in exons:\n",
    "    exon_lengths += [end - start + 1] # 1-based numbering stops without the inclusion of the last number (by default)\n",
    "                                      # 0-based doesn't have that \"problem\"  \n",
    "    \n",
    "print('Exons: %d' % len(exons))\n",
    "print('Min exon length: %d' % min(exon_lengths))\n",
    "print('Max exon length: %d' % max(exon_lengths))\n",
    "print('Average exon length: %.2f' % (sum(exon_lengths) / len(exons)))"
   ]
  },
  {
   "cell_type": "code",
   "execution_count": null,
   "metadata": {},
   "outputs": [],
   "source": [
    "f = open(r'c://downloads/exon_lengths.txt', 'w')\n",
    "f.write(str(exon_lengths)[1:-1])\n",
    "f.close()"
   ]
  },
  {
   "cell_type": "markdown",
   "metadata": {},
   "source": [
    "# More useful modules"
   ]
  },
  {
   "cell_type": "code",
   "execution_count": null,
   "metadata": {},
   "outputs": [],
   "source": [
    "import os\n",
    "\n",
    "print(os.path.join(r'C://temp/dir/', 'something/file.txt'))\n",
    "print(os.listdir(r'C://'))"
   ]
  },
  {
   "cell_type": "code",
   "execution_count": null,
   "metadata": {},
   "outputs": [],
   "source": [
    "from collections import Counter, defaultdict"
   ]
  },
  {
   "cell_type": "code",
   "execution_count": null,
   "metadata": {},
   "outputs": [],
   "source": [
    "aa_seq = 'MQAEQTRCAAARGSAEMESLWHAAPGDEEIPLHPPPTPGAMSLESDSSLDTLAEKIECDLMDLLGDMGPPCDIDEEEDQLFAEALPPLYS'\n",
    "aa_count = Counter()\n",
    "\n",
    "print(aa_count)\n",
    "\n",
    "for aa in aa_seq:\n",
    "    aa_count[aa] += 1\n",
    "    \n",
    "print(aa_count)"
   ]
  },
  {
   "cell_type": "code",
   "execution_count": null,
   "metadata": {},
   "outputs": [],
   "source": [
    "print(Counter(aa_seq))"
   ]
  },
  {
   "cell_type": "code",
   "execution_count": null,
   "metadata": {},
   "outputs": [],
   "source": [
    "aa_count['A'] += 1\n",
    "print(aa_count)\n",
    "\n",
    "aa_count['A'] += 3\n",
    "print(aa_count)"
   ]
  },
  {
   "cell_type": "code",
   "execution_count": null,
   "metadata": {},
   "outputs": [],
   "source": [
    "print(aa_count['W'])\n",
    "print(aa_count['*']) # Doesn't exist in the counter."
   ]
  },
  {
   "cell_type": "code",
   "execution_count": null,
   "metadata": {},
   "outputs": [],
   "source": [
    "for aa, count in aa_count.most_common()[:5]:\n",
    "    print('%s: %d' % (aa, count))"
   ]
  },
  {
   "cell_type": "code",
   "execution_count": null,
   "metadata": {},
   "outputs": [],
   "source": [
    "aa_count = Counter(aa_seq)\n",
    "print(aa_count)\n",
    "aa_count.update('AALLL')\n",
    "print(aa_count)"
   ]
  },
  {
   "cell_type": "code",
   "execution_count": null,
   "metadata": {},
   "outputs": [],
   "source": [
    "print(dict(aa_count))"
   ]
  },
  {
   "cell_type": "code",
   "execution_count": null,
   "metadata": {},
   "outputs": [],
   "source": [
    "print(Counter('the sea was wet as wet could be the sands were dry as dry'.split()))"
   ]
  },
  {
   "cell_type": "code",
   "execution_count": null,
   "metadata": {},
   "outputs": [],
   "source": [
    "aa_positions = defaultdict(list)\n",
    "\n",
    "for i, aa in enumerate(aa_seq):\n",
    "    aa_positions[aa].append(i)\n",
    "    \n",
    "print(aa_positions)\n",
    "print('*' * 20)\n",
    "print(aa_positions['Z'])"
   ]
  },
  {
   "cell_type": "code",
   "execution_count": null,
   "metadata": {},
   "outputs": [],
   "source": [
    "print(dict(aa_positions))"
   ]
  },
  {
   "cell_type": "code",
   "execution_count": null,
   "metadata": {},
   "outputs": [],
   "source": [
    "# mini homework: go through the code and understand it...\n",
    "\n",
    "def create_empty_counter():\n",
    "    return Counter()\n",
    "\n",
    "next_aa_counter = defaultdict(create_empty_counter)\n",
    "\n",
    "for i, aa in enumerate(aa_seq[:-1]):\n",
    "    next_aa = aa_seq[i + 1]\n",
    "    next_aa_counter[aa][next_aa] += 1\n",
    "\n",
    "print(next_aa_counter)\n",
    "print('*' * 20)\n",
    "print(next_aa_counter['A'])\n",
    "print(next_aa_counter['A']['E'])\n",
    "print(next_aa_counter['Z']['E'])\n",
    "print('*' * 20)\n",
    "print(next_aa_counter)"
   ]
  }
 ],
 "metadata": {
  "kernelspec": {
   "display_name": "Python 3",
   "language": "python",
   "name": "python3"
  },
  "language_info": {
   "codemirror_mode": {
    "name": "ipython",
    "version": 3
   },
   "file_extension": ".py",
   "mimetype": "text/x-python",
   "name": "python",
   "nbconvert_exporter": "python",
   "pygments_lexer": "ipython3",
   "version": "3.7.10"
  }
 },
 "nbformat": 4,
 "nbformat_minor": 1
}
